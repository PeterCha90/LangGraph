{
 "cells": [
  {
   "cell_type": "code",
   "execution_count": 1,
   "metadata": {},
   "outputs": [
    {
     "name": "stdout",
     "output_type": "stream",
     "text": [
      "LangSmith 추적을 시작합니다.\n",
      "[프로젝트명]\n",
      "LangGraph\n"
     ]
    }
   ],
   "source": [
    "# API 키를 환경변수로 관리하기 위한 설정 파일\n",
    "from dotenv import load_dotenv\n",
    "\n",
    "# API 키 정보 로드\n",
    "load_dotenv()\n",
    "\n",
    "# LangSmith 추적을 설정합니다. https://smith.langchain.com\n",
    "# !pip install -qU langchain-teddynote\n",
    "from langchain_teddynote import logging\n",
    "\n",
    "# 프로젝트 이름을 입력합니다.\n",
    "logging.langsmith(\"LangGraph\")"
   ]
  },
  {
   "cell_type": "code",
   "execution_count": 37,
   "metadata": {},
   "outputs": [
    {
     "data": {
      "image/png": "[encoded data removed]",
      "text/plain": [
       "<IPython.core.display.Image object>"
      ]
     },
     "metadata": {},
     "output_type": "display_data"
    }
   ],
   "source": [
    "from typing import Annotated, List, Dict\n",
    "from typing_extensions import TypedDict\n",
    "\n",
    "from langchain_core.tools import tool\n",
    "from langchain_ollama import ChatOllama\n",
    "from langgraph.checkpoint.memory import MemorySaver\n",
    "from langgraph.graph import StateGraph, START, END\n",
    "from langgraph.graph.message import add_messages\n",
    "from langgraph.prebuilt import ToolNode, tools_condition\n",
    "from langchain_teddynote.graphs import visualize_graph\n",
    "from langchain_teddynote.tools import GoogleNews\n",
    "\n",
    "\n",
    "########## 1. 상태 정의 ##########\n",
    "# 상태 정의\n",
    "class State(TypedDict):\n",
    "    # 메시지 목록 주석 추가\n",
    "    messages: Annotated[list, add_messages]\n",
    "    dummy_data: Annotated[str, \"dummy\"]\n",
    "\n",
    "########## 2. 도구 정의 및 바인딩 ##########\n",
    "# 도구 초기화\n",
    "# 키워드로 뉴스 검색하는 도구 생성\n",
    "news_tool = GoogleNews()\n",
    "\n",
    "\n",
    "@tool\n",
    "def search_keyword(query: str) -> List[Dict[str, str]]:\n",
    "    \"\"\"Look up news by keyword\"\"\"\n",
    "    news_tool = GoogleNews()\n",
    "    return news_tool.search_by_keyword(query, k=5)\n",
    "\n",
    "tools = [search_keyword]\n",
    "\n",
    "# LLM 초기화\n",
    "llm = ChatOllama(model=\"llama3.1:8b\")\n",
    "# 도구와 LLM 결합\n",
    "llm_with_tools = llm.bind_tools(tools)\n",
    "\n",
    "\n",
    "########## 3. 노드 추가 ##########\n",
    "# 챗봇 함수 정의\n",
    "def chatbot(state: State):\n",
    "    # 메시지 호출 및 반환\n",
    "    return {\n",
    "        \"messages\": [llm_with_tools.invoke(state[\"messages\"])],\n",
    "        \"dummy_data\": \"[chatbot] 호출, dummy data\",  # 테스트를 위하여 더미 데이터를 추가합니다.\n",
    "    }\n",
    "\n",
    "# 상태 그래프 생성\n",
    "graph_builder = StateGraph(State)\n",
    "# 챗봇 노드 추가\n",
    "graph_builder.add_node(\"chatbot\", chatbot)\n",
    "# 도구 노드 생성 및 추가\n",
    "tool_node = ToolNode(tools=tools)\n",
    "# 도구 노드 추가\n",
    "graph_builder.add_node(\"tools\", tool_node)\n",
    "\n",
    "# 조건부 엣지\n",
    "graph_builder.add_conditional_edges(\n",
    "    \"chatbot\",\n",
    "    tools_condition,\n",
    ")\n",
    "\n",
    "########## 4. 엣지 추가 ##########\n",
    "# tools > chatbot\n",
    "graph_builder.add_edge(\"tools\", \"chatbot\")\n",
    "# START > chatbot\n",
    "graph_builder.add_edge(START, \"chatbot\")\n",
    "# chatbot > END\n",
    "graph_builder.add_edge(\"chatbot\", END)\n",
    "########## 5. 그래프 컴파일 ##########\n",
    "# 그래프 빌더 컴파일\n",
    "graph = graph_builder.compile()\n",
    "\n",
    "########## 6. 그래프 시각화 ##########\n",
    "# 그래프 시각화\n",
    "visualize_graph(graph)\n"
   ]
  },
  {
   "cell_type": "code",
   "execution_count": 23,
   "metadata": {},
   "outputs": [],
   "source": [
    "from langchain_core.runnables import RunnableConfig\n",
    "\n",
    "# 질문\n",
    "question = \"2024년 노벨 문학상 관련 뉴스를 알려주세요.\"\n",
    "\n",
    "# 초기 입력 상태를 정의\n",
    "input = State(dummy_data=\"테스트 문자열\", messages=[(\"user\", question)])\n",
    "\n",
    "# config 설정\n",
    "config = RunnableConfig(\n",
    "    recursion_limit=10,  # 최대 10개의 노드까지 방문. 그 이상은 RecursionError 발생\n",
    "    configurable={\"thread_id\": \"1\"},  # 스레드 ID 설정\n",
    "    tags=[\"my-tag\"],  # Tag\n",
    ")\n"
   ]
  },
  {
   "cell_type": "markdown",
   "metadata": {},
   "source": [
    "### input이랑 config만 가지고 stream 할 때"
   ]
  },
  {
   "cell_type": "code",
   "execution_count": 24,
   "metadata": {},
   "outputs": [
    {
     "name": "stdout",
     "output_type": "stream",
     "text": [
      "\n",
      "[ chatbot ]\n",
      "\n",
      "==================================\u001b[1m Ai Message \u001b[0m==================================\n",
      "Tool Calls:\n",
      "  search_keyword (eca1977d-d6a2-468b-92aa-5998a0938a22)\n",
      " Call ID: eca1977d-d6a2-468b-92aa-5998a0938a22\n",
      "  Args:\n",
      "    query: 2024년 노벨 문학상\n",
      "\n",
      "[ tools ]\n",
      "\n",
      "=================================\u001b[1m Tool Message \u001b[0m=================================\n",
      "Name: search_keyword\n",
      "\n",
      "[{\"url\": \"https://news.google.com/rss/articles/CBMiUEFVX3lxTFBUN1pNdlpOdWNIZjcyUnhmYjZnQjBQSjA0ZFVuNW5MUWM5X1NzRWRYVk5WUjh3dTJKUGJsR2ZWWURua0d4d0k4VWNWbktIQmN50gFTQVVfeXFMTk8wY193bXgxdXlhZzNObldsSnA2WU9pelRlTkdTN0lUYWVZdVhBaTAydDBtZjVnbnFOVDRpLS1Sck5ncDh0TVVtMWJPRGRodVNacjA?oc=5\", \"content\": \"한강, 한국인 최초 노벨문학상 수상…“역사적 트라우마에 맞선 강렬한 시적 산문” - VOA Korea\"}, {\"url\": \"https://news.google.com/rss/articles/CBMiaEFVX3lxTE4xVV96b1c5cjZNWHl5VFd3aGZkcDNoSDN0Vmp6a3RNVVl2VG1FOW96RTFOUnpBYkR2OEx3VGRsS3RaQTdvQ3FkcmFRQmd5UmtMd1labGFQS2J6YmpKZ1p4S2xXTUVXQjVS0gFsQVVfeXFMTlctOUd6VTVQRXF6dWpTNnJ2S1d1dndJdGFGN2I1Yjl1bEhVNU03UmpSNUtONFZZZ045bmNZMGgxX3NlQjJydGwzUnpwamR6V0hSTWVFbEVKWVA5b3JxQ1NQWmNfVXRhR1AyZ2lG?oc=5\", \"content\": \"2024 노벨문학상의 주인공, ‘한강’의 대표 문장 6 - Den\"}, {\"url\": \"https://news.google.com/rss/articles/CBMiU0FVX3lxTE9UNHJNX1kwMW00MDJoRngzbW83VGh0VmhkZjYzRGlwNDR1VEpudEM4S2dFajdTa3VCUUdITEl2TEFndFE1NENGZWFCZE4tWnhhbWVn?oc=5\", \"content\": \"한강 \\\"현대사의 비극, 역사의 한 장으로 바꾸는 건 내 의도 아냐\\\" - 네이트 뉴스\"}, {\"url\": \"https://news.google.com/rss/articles/CBMiWkFVX3lxTE1TR0V4SExLY0tFRWg0Uk93WEs4eE9MS0cxV19BUFd1dTZwellvTV9Yd09oMUs4NlllNGhvWlMyczNuejNYakxPeXVLUGNsRHczdmpfN1hZR1hkUdIBVEFVX3lxTE8zTkctQVlfV0JGWkx1UEo5OFRvSmhpVFFvX3hWNHY4N28wVHZZeC1rbW5KblBRdmpsUC0zdi1VY0tLQ2RGY0JYWlpUYTBsWWJEYTlZNA?oc=5\", \"content\": \"\\\"한강이 이렇게 빨리 노벨상을 받게 될 줄은 예상 못 했어요\\\" - 한국경제\"}, {\"url\": \"https://news.google.com/rss/articles/CBMibEFVX3lxTFBKV3l5WDdTOV9UaVdnOW1qN3ZJXzZSVDl0bWM1VUIxMzlnTUlIb295OExpYjZPaTRNRmdLbS02aEVsTzRTNXBqMmZ5c1BOc2xRWWJZV1ZKdDVQTzloVEVpNGQ4VFFQT0NodHNtcQ?oc=5\", \"content\": \"[문학]2024노벨 문학상에 소설가 한강 수상... 대한민국 작가 최초 수상 \\\"쾌거\\\" - 뉴스N제주\"}]\n",
      "\n",
      "[ chatbot ]\n",
      "\n",
      "==================================\u001b[1m Ai Message \u001b[0m==================================\n",
      "\n",
      "2024년 노벨 문학상을 수상한 한국인 최초의 작가는 한강입니다. 그녀의 대표적인 작품은 현대사의 비극을 역사의 한 장으로 바꾸는 것을 목표로 하는 강렬한 시적 산문입니다. 이 수상은 한국의 문학계와 세계적 문학계에 큰 영향을 미칠 것으로 예상됩니다.\n"
     ]
    }
   ],
   "source": [
    "for event in graph.stream(input=input, config=config):\n",
    "    for key, value in event.items():\n",
    "        print(f\"\\n[ {key} ]\\n\")\n",
    "        # value 에 messages 가 존재하는 경우\n",
    "        if \"messages\" in value:\n",
    "            messages = value[\"messages\"]\n",
    "            # 가장 최근 메시지 1개만 출력합니다.\n",
    "            value[\"messages\"][-1].pretty_print()"
   ]
  },
  {
   "cell_type": "markdown",
   "metadata": {},
   "source": [
    "### output_keys 옵션 추가했을 때"
   ]
  },
  {
   "cell_type": "code",
   "execution_count": 16,
   "metadata": {},
   "outputs": [
    {
     "name": "stdout",
     "output_type": "stream",
     "text": [
      "['messages', 'dummy_data', '__start__', 'chatbot', 'tools', 'branch:__start__:__self__:chatbot', 'branch:__start__:__self__:tools', 'branch:chatbot:__self__:chatbot', 'branch:chatbot:__self__:tools', 'branch:tools:__self__:chatbot', 'branch:tools:__self__:tools', 'start:chatbot', 'branch:chatbot:tools_condition:tools']\n"
     ]
    }
   ],
   "source": [
    "# channels 에 정의된 키 목록을 출력합니다.\n",
    "print(list(graph.channels.keys()))"
   ]
  },
  {
   "cell_type": "code",
   "execution_count": 17,
   "metadata": {},
   "outputs": [
    {
     "name": "stdout",
     "output_type": "stream",
     "text": [
      "\n",
      "[ chatbot ]\n",
      "\n",
      "dict_keys(['dummy_data'])\n",
      "[chatbot] 호출, dummy data\n",
      "해당 키워드의 뉴스가 없습니다.\n",
      "\n",
      "[ tools ]\n",
      "\n",
      "\n",
      "[ chatbot ]\n",
      "\n",
      "dict_keys(['dummy_data'])\n",
      "[chatbot] 호출, dummy data\n",
      "\n",
      "[ tools ]\n",
      "\n",
      "\n",
      "[ chatbot ]\n",
      "\n",
      "dict_keys(['dummy_data'])\n",
      "[chatbot] 호출, dummy data\n"
     ]
    }
   ],
   "source": [
    "for event in graph.stream(\n",
    "    input=input,\n",
    "    config=config,\n",
    "    output_keys=[\"dummy_data\"],  # messages 를 추가해 보세요!\n",
    "):\n",
    "    for key, value in event.items():\n",
    "        # key 는 노드 이름\n",
    "        print(f\"\\n[ {key} ]\\n\")\n",
    "\n",
    "        # dummy_data 가 존재하는 경우\n",
    "        if value:\n",
    "            # value 는 노드의 출력값\n",
    "            print(value.keys())\n",
    "            # dummy_data key 가 존재하는 경우\n",
    "            if \"dummy_data\" in value:\n",
    "                print(value[\"dummy_data\"])"
   ]
  },
  {
   "cell_type": "code",
   "execution_count": 18,
   "metadata": {},
   "outputs": [
    {
     "name": "stdout",
     "output_type": "stream",
     "text": [
      "\n",
      "[ chatbot ]\n",
      "\n",
      "\n",
      "\n",
      "[ tools ]\n",
      "\n",
      "[{\"url\": \"https://news.google.com/rss/articles/CBMiUEFVX3lxTFBUN1pNdlpOdWNIZjcyUnhmYjZnQjBQSjA0ZFVuNW5MUWM5X1NzRWRYVk5WUjh3dTJKUGJsR2ZWWURua0d4d0k4VWNWbktIQmN50gFTQVVfeXFMTk8wY193bXgxdXlhZzNObldsSnA2WU9pelRlTkdTN0lUYWVZdVhBaTAydDBtZjVnbnFOVDRpLS1Sck5ncDh0TVVtMWJPRGRodVNacjA?oc=5\", \"content\": \"한강, 한국인 최초 노벨문학상 수상…“역사적 트라우마에 맞선 강렬한 시적 산문” - VOA Korea\"}, {\"url\": \"https://news.google.com/rss/articles/CBMiaEFVX3lxTE4xVV96b1c5cjZNWHl5VFd3aGZkcDNoSDN0Vmp6a3RNVVl2VG1FOW96RTFOUnpBYkR2OEx3VGRsS3RaQTdvQ3FkcmFRQmd5UmtMd1labGFQS2J6YmpKZ1p4S2xXTUVXQjVS0gFsQVVfeXFMTlctOUd6VTVQRXF6dWpTNnJ2S1d1dndJdGFGN2I1Yjl1bEhVNU03UmpSNUtONFZZZ045bmNZMGgxX3NlQjJydGwzUnpwamR6V0hSTWVFbEVKWVA5b3JxQ1NQWmNfVXRhR1AyZ2lG?oc=5\", \"content\": \"2024 노벨문학상의 주인공, ‘한강’의 대표 문장 6 - Den\"}, {\"url\": \"https://news.google.com/rss/articles/CBMiU0FVX3lxTE9UNHJNX1kwMW00MDJoRngzbW83VGh0VmhkZjYzRGlwNDR1VEpudEM4S2dFajdTa3VCUUdITEl2TEFndFE1NENGZWFCZE4tWnhhbWVn?oc=5\", \"content\": \"한강 \\\"현대사의 비극, 역사의 한 장으로 바꾸는 건 내 의도 아냐\\\" - 네이트 뉴스\"}, {\"url\": \"https://news.google.com/rss/articles/CBMiWkFVX3lxTE1TR0V4SExLY0tFRWg0Uk93WEs4eE9MS0cxV19BUFd1dTZwellvTV9Yd09oMUs4NlllNGhvWlMyczNuejNYakxPeXVLUGNsRHczdmpfN1hZR1hkUdIBVEFVX3lxTE8zTkctQVlfV0JGWkx1UEo5OFRvSmhpVFFvX3hWNHY4N28wVHZZeC1rbW5KblBRdmpsUC0zdi1VY0tLQ2RGY0JYWlpUYTBsWWJEYTlZNA?oc=5\", \"content\": \"\\\"한강이 이렇게 빨리 노벨상을 받게 될 줄은 예상 못 했어요\\\" - 한국경제\"}, {\"url\": \"https://news.google.com/rss/articles/CBMibkFVX3lxTE43MFo5Z2Q4UGNUZnAtMjhYeXNqNk1rbl9lYXRWdTFRX1Z0R3RqLWlqSk1LWVRrRjl6bFFVVEg2VEMtc09YUW5jeEVyVFIxM05ZeDRnUUo2Sjcwd1lvWGFicFVzSHNZSGpZbU05MEFR?oc=5\", \"content\": \"파격만이 가득한 2024 노벨상 수상을 돌아보며 - 포항공대신문\"}]\n",
      "\n",
      "[ chatbot ]\n",
      "\n",
      "2024년 노벨 문학상 수상자는 한강입니다. 이에 대한 이유는 한강의 작품이 역사적 트라우마에 맞서 강렬한 시적 산문을 펼쳐낸 데에 있다고 합니다.\n"
     ]
    }
   ],
   "source": [
    "question = \"2024년 노벨 문학상 관련 뉴스를 알려주세요.\"\n",
    "\n",
    "# 초기 입력 State 를 정의\n",
    "input = State(dummy_data=\"테스트 문자열\", messages=[(\"user\", question)])\n",
    "\n",
    "# config 설정\n",
    "config = RunnableConfig(\n",
    "    recursion_limit=10,  # 최대 10개의 노드까지 방문. 그 이상은 RecursionError 발생\n",
    "    configurable={\"thread_id\": \"1\"},  # 스레드 ID 설정\n",
    "    tags=[\"my-rag\"],  # Tag\n",
    ")\n",
    "\n",
    "for event in graph.stream(\n",
    "    input=input,\n",
    "    config=config,\n",
    "    output_keys=[\"messages\"],  # messages 만 출력\n",
    "):\n",
    "    for key, value in event.items():\n",
    "        # messages 가 존재하는 경우\n",
    "        if value and \"messages\" in value:\n",
    "            # key 는 노드 이름\n",
    "            print(f\"\\n[ {key} ]\\n\")\n",
    "            # messages 의 마지막 요소의 content 를 출력합니다.\n",
    "            print(value[\"messages\"][-1].content)"
   ]
  },
  {
   "cell_type": "markdown",
   "metadata": {},
   "source": [
    "### Stream_mode 사용하기"
   ]
  },
  {
   "cell_type": "code",
   "execution_count": 19,
   "metadata": {},
   "outputs": [
    {
     "name": "stdout",
     "output_type": "stream",
     "text": [
      "\n",
      "[ messages ]\n",
      "\n",
      "메시지 개수: 1\n",
      "\n",
      "[ dummy_data ]\n",
      "\n",
      "==============================  단계  ==============================\n",
      "\n",
      "[ messages ]\n",
      "\n",
      "메시지 개수: 2\n",
      "\n",
      "[ dummy_data ]\n",
      "\n",
      "==============================  단계  ==============================\n",
      "해당 키워드의 뉴스가 없습니다.\n",
      "\n",
      "[ messages ]\n",
      "\n",
      "메시지 개수: 3\n",
      "\n",
      "[ dummy_data ]\n",
      "\n",
      "==============================  단계  ==============================\n",
      "\n",
      "[ messages ]\n",
      "\n",
      "메시지 개수: 4\n",
      "\n",
      "[ dummy_data ]\n",
      "\n",
      "==============================  단계  ==============================\n"
     ]
    }
   ],
   "source": [
    "# 질문\n",
    "question = \"2024년 노벨 문학상 관련 뉴스를 알려주세요.\"\n",
    "\n",
    "# 초기 입력 State 를 정의\n",
    "input = State(dummy_data=\"테스트 문자열\", messages=[(\"user\", question)])\n",
    "\n",
    "# config 설정\n",
    "config = RunnableConfig(\n",
    "    recursion_limit=10,  # 최대 10개의 노드까지 방문. 그 이상은 RecursionError 발생\n",
    "    configurable={\"thread_id\": \"1\"},  # 스레드 ID 설정\n",
    "    tags=[\"my-rag\"],  # Tag\n",
    ")\n",
    "\n",
    "# values 모드로 스트리밍 출력\n",
    "for event in graph.stream(\n",
    "    input=input,\n",
    "    stream_mode=\"values\",  # 기본값\n",
    "):\n",
    "    for key, value in event.items():\n",
    "        # key 는 state 의 key 값\n",
    "        print(f\"\\n[ {key} ]\\n\")\n",
    "        if key == \"messages\":\n",
    "            print(f\"메시지 개수: {len(value)}\")\n",
    "            # print(value)\n",
    "    print(\"===\" * 10, \" 단계 \", \"===\" * 10)\n"
   ]
  },
  {
   "cell_type": "code",
   "execution_count": 28,
   "metadata": {},
   "outputs": [
    {
     "name": "stdout",
     "output_type": "stream",
     "text": [
      "\n",
      "[ chatbot ]\n",
      "\n",
      "dict_keys(['messages', 'dummy_data'])\n",
      "메시지 개수: 1\n",
      "==============================  단계  ==============================\n",
      "해당 키워드의 뉴스가 없습니다.\n",
      "\n",
      "[ tools ]\n",
      "\n",
      "dict_keys(['messages'])\n",
      "메시지 개수: 1\n",
      "==============================  단계  ==============================\n",
      "\n",
      "[ chatbot ]\n",
      "\n",
      "dict_keys(['messages', 'dummy_data'])\n",
      "메시지 개수: 1\n",
      "==============================  단계  ==============================\n"
     ]
    }
   ],
   "source": [
    "# 질문\n",
    "question = \"2024년 노벨 문학상 관련 뉴스를 알려주세요.\"\n",
    "\n",
    "# 초기 입력 State 를 정의\n",
    "input = State(dummy_data=\"테스트 문자열\", messages=[(\"user\", question)])\n",
    "\n",
    "# config 설정\n",
    "config = RunnableConfig(\n",
    "    recursion_limit=10,  # 최대 10개의 노드까지 방문. 그 이상은 RecursionError 발생\n",
    "    configurable={\"thread_id\": \"1\"},  # 스레드 ID 설정\n",
    "    tags=[\"my-rag\"],  # Tag\n",
    ")\n",
    "\n",
    "# updates 모드로 스트리밍 출력\n",
    "for event in graph.stream(\n",
    "    input=input,\n",
    "    stream_mode=\"updates\",  # 기본값\n",
    "):\n",
    "    for key, value in event.items():\n",
    "        # key 는 노드 이름\n",
    "        print(f\"\\n[ {key} ]\\n\")\n",
    "\n",
    "        # value 는 노드의 출력값\n",
    "        print(value.keys())\n",
    "\n",
    "        # value 에는 state 가 dict 형태로 저장(values 의 key 값)\n",
    "        if \"messages\" in value:\n",
    "            print(f\"메시지 개수: {len(value['messages'])}\")\n",
    "            # print(value[\"messages\"])\n",
    "    print(\"===\" * 10, \" 단계 \", \"===\" * 10)\n"
   ]
  },
  {
   "cell_type": "markdown",
   "metadata": {},
   "source": [
    "### interrupt_before, interrupt_after 옵션"
   ]
  },
  {
   "cell_type": "code",
   "execution_count": 32,
   "metadata": {},
   "outputs": [
    {
     "name": "stdout",
     "output_type": "stream",
     "text": [
      "\n",
      "[chatbot]\n",
      "\n",
      "dict_keys(['messages', 'dummy_data'])\n",
      "[AIMessage(content='', additional_kwargs={}, response_metadata={'model': 'llama3.1:8b', 'created_at': '2025-01-24T06:44:42.683615Z', 'done': True, 'done_reason': 'stop', 'total_duration': 2606556625, 'load_duration': 32413041, 'prompt_eval_count': 168, 'prompt_eval_duration': 557000000, 'eval_count': 24, 'eval_duration': 2016000000, 'message': Message(role='assistant', content='', images=None, tool_calls=None)}, id='run-71ebb7c9-a39b-46e3-8758-80c8fdae038e-0', tool_calls=[{'name': 'search_keyword', 'args': {'query': '2024년 노벨 문학상'}, 'id': '59eea194-ccbc-4ae6-95d6-3f8dbb29b31f', 'type': 'tool_call'}], usage_metadata={'input_tokens': 168, 'output_tokens': 24, 'total_tokens': 192})]\n",
      "메시지 개수: 1\n",
      "==============================  단계  ==============================\n",
      "\n",
      "[__interrupt__]\n",
      "\n",
      "==============================  단계  ==============================\n"
     ]
    }
   ],
   "source": [
    "# 질문\n",
    "question = \"2024년 노벨 문학상 관련 뉴스를 알려주세요.\"\n",
    "\n",
    "# 초기 입력 State 를 정의\n",
    "input = State(dummy_data=\"테스트 문자열\", messages=[(\"user\", question)])\n",
    "\n",
    "# config 설정\n",
    "config = RunnableConfig(\n",
    "    recursion_limit=10,  # 최대 10개의 노드까지 방문. 그 이상은 RecursionError 발생\n",
    "    configurable={\"thread_id\": \"1\"},  # 스레드 ID 설정\n",
    "    tags=[\"my-rag\"],  # Tag\n",
    ")\n",
    "\n",
    "for event in graph.stream(\n",
    "    input=input,\n",
    "    config=config,\n",
    "    stream_mode=\"updates\",  # 기본값\n",
    "    interrupt_before=[\"tools\"],  # tools 노드 이전에 스트리밍 중단\n",
    "):\n",
    "    for key, value in event.items():\n",
    "        # key 는 노드 이름\n",
    "        print(f\"\\n[{key}]\\n\")\n",
    "\n",
    "        # value 는 노드의 출력값\n",
    "        if isinstance(value, dict):\n",
    "            print(value.keys())\n",
    "            if \"messages\" in value:\n",
    "                print(value[\"messages\"])\n",
    "\n",
    "        # value 에는 state 가 dict 형태로 저장(values 의 key 값)\n",
    "        if \"messages\" in value:\n",
    "            print(f\"메시지 개수: {len(value['messages'])}\")\n",
    "    print(\"===\" * 10, \" 단계 \", \"===\" * 10)\n"
   ]
  },
  {
   "cell_type": "code",
   "execution_count": 39,
   "metadata": {},
   "outputs": [
    {
     "name": "stdout",
     "output_type": "stream",
     "text": [
      "\n",
      "[__interrupt__]\n",
      "\n",
      "dict_keys(['messages', 'dummy_data'])\n",
      "[AIMessage(content='', additional_kwargs={}, response_metadata={'model': 'llama3.1:8b', 'created_at': '2025-01-24T06:47:47.843856Z', 'done': True, 'done_reason': 'stop', 'total_duration': 18344854167, 'load_duration': 12241540167, 'prompt_eval_count': 165, 'prompt_eval_duration': 4074000000, 'eval_count': 24, 'eval_duration': 2025000000, 'message': Message(role='assistant', content='', images=None, tool_calls=None)}, id='run-52305424-fb61-410c-999e-59c8185d779f-0', tool_calls=[{'name': 'search_keyword', 'args': {'query': '2024년 노벨 문학상'}, 'id': 'c7024d8c-f222-44ed-957a-41014aa28ae0', 'type': 'tool_call'}], usage_metadata={'input_tokens': 165, 'output_tokens': 24, 'total_tokens': 189})]\n",
      "메시지 개수: 1\n",
      "\n",
      "[__interrupt__]\n",
      "\n",
      "dict_keys(['messages'])\n",
      "[ToolMessage(content='[{\"url\": \"https://news.google.com/rss/articles/CBMiU0FVX3lxTE9UNHJNX1kwMW00MDJoRngzbW83VGh0VmhkZjYzRGlwNDR1VEpudEM4S2dFajdTa3VCUUdITEl2TEFndFE1NENGZWFCZE4tWnhhbWVn?oc=5\", \"content\": \"한강 \\\\\"현대사의 비극, 역사의 한 장으로 바꾸는 건 내 의도 아냐\\\\\" - 네이트 뉴스\"}, {\"url\": \"https://news.google.com/rss/articles/CBMiaEFVX3lxTE4xVV96b1c5cjZNWHl5VFd3aGZkcDNoSDN0Vmp6a3RNVVl2VG1FOW96RTFOUnpBYkR2OEx3VGRsS3RaQTdvQ3FkcmFRQmd5UmtMd1labGFQS2J6YmpKZ1p4S2xXTUVXQjVS0gFsQVVfeXFMTlctOUd6VTVQRXF6dWpTNnJ2S1d1dndJdGFGN2I1Yjl1bEhVNU03UmpSNUtONFZZZ045bmNZMGgxX3NlQjJydGwzUnpwamR6V0hSTWVFbEVKWVA5b3JxQ1NQWmNfVXRhR1AyZ2lG?oc=5\", \"content\": \"2024 노벨문학상의 주인공, ‘한강’의 대표 문장 6 - Den\"}, {\"url\": \"https://news.google.com/rss/articles/CBMiWkFVX3lxTE1TR0V4SExLY0tFRWg0Uk93WEs4eE9MS0cxV19BUFd1dTZwellvTV9Yd09oMUs4NlllNGhvWlMyczNuejNYakxPeXVLUGNsRHczdmpfN1hZR1hkUdIBVEFVX3lxTE8zTkctQVlfV0JGWkx1UEo5OFRvSmhpVFFvX3hWNHY4N28wVHZZeC1rbW5KblBRdmpsUC0zdi1VY0tLQ2RGY0JYWlpUYTBsWWJEYTlZNA?oc=5\", \"content\": \"\\\\\"한강이 이렇게 빨리 노벨상을 받게 될 줄은 예상 못 했어요\\\\\" - 한국경제\"}, {\"url\": \"https://news.google.com/rss/articles/CBMiZ0FVX3lxTE1SN0RHZk5Qa2xPLVZkWjdRUUZpZGNfYnZ3bm5zY0RCLThtT1dtM2s0YmY1VnBvZlozTmlQUDJKbDVfQVlURWtta21vdXkwMFNGVDJUVWtpaS1GMGZrVXdnNG1yWkFaQ0U?oc=5\", \"content\": \"[청년발언대] \\\\\"한강 노벨문학상 수상 이후 한국문학 전례 없는 호황\\\\\" - 청년일보\"}, {\"url\": \"https://news.google.com/rss/articles/CBMiWEFVX3lxTFB6U1hYUkdONk53ZlR1NW1zMlI1OGRDLXM0TUhQUXM2RTVCeFpoY2Z0Zlc5ZnpVcXBWUzF2d3ZJX0NIcjZLdmpjSUFyakxUSTlHOEZOcTFZNlDSAVRBVV95cUxPRzBDRjJERHVpUXpaNFAyX053VUg5SVJCeWxvdlg4a2J2Y0FIdUdNLXhnS2JRVWswZUVKTWxQXzFPOHhfTklGOUs1cDlEWVlTZzZUTHU?oc=5\", \"content\": \"전세계 휩쓴 한강 신드롬 … ‘빛의 속도’로 ‘날개’ 단 K문학 [2025 신년특집-한국문학의 힘] - 세계일보\"}]', name='search_keyword', id='fbc014a5-0afb-4292-b63a-fe1ac66867f6', tool_call_id='c7024d8c-f222-44ed-957a-41014aa28ae0')]\n",
      "메시지 개수: 1\n",
      "\n",
      "[__interrupt__]\n",
      "\n"
     ]
    }
   ],
   "source": [
    "# 질문\n",
    "question = \"2024년 노벨 문학상 관련 뉴스\"\n",
    "\n",
    "# 초기 입력 State 를 정의\n",
    "input = State(dummy_data=\"테스트 문자열\", messages=[(\"user\", question)])\n",
    "\n",
    "# config 설정\n",
    "config = RunnableConfig(\n",
    "    recursion_limit=10,  # 최대 10개의 노드까지 방문. 그 이상은 RecursionError 발생\n",
    "    configurable={\"thread_id\": \"1\"},  # 스레드 ID 설정\n",
    "    tags=[\"my-rag\"],  # Tag\n",
    ")\n",
    "\n",
    "for event in graph.stream(\n",
    "    input=input,\n",
    "    config=config,\n",
    "    stream_mode=\"updates\",\n",
    "    interrupt_after=[\"tools\"],  # tools 실행 후 interrupt\n",
    "):\n",
    "    for value in event.values():\n",
    "        # key 는 노드 이름\n",
    "        print(f\"\\n[{key}]\\n\")\n",
    "\n",
    "        if isinstance(value, dict):\n",
    "            # value 는 노드의 출력값\n",
    "            print(value.keys())\n",
    "            if \"messages\" in value:\n",
    "                print(value[\"messages\"])\n",
    "\n",
    "        # value 에는 state 가 dict 형태로 저장(values 의 key 값)\n",
    "        if \"messages\" in value:\n",
    "            print(f\"메시지 개수: {len(value['messages'])}\")"
   ]
  }
 ],
 "metadata": {
  "kernelspec": {
   "display_name": "lang",
   "language": "python",
   "name": "python3"
  },
  "language_info": {
   "codemirror_mode": {
    "name": "ipython",
    "version": 3
   },
   "file_extension": ".py",
   "mimetype": "text/x-python",
   "name": "python",
   "nbconvert_exporter": "python",
   "pygments_lexer": "ipython3",
   "version": "3.11.11"
  }
 },
 "nbformat": 4,
 "nbformat_minor": 2
}
