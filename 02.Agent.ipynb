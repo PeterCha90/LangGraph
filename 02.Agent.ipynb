{
 "cells": [
  {
   "cell_type": "code",
   "execution_count": 1,
   "metadata": {},
   "outputs": [
    {
     "name": "stdout",
     "output_type": "stream",
     "text": [
      "LangSmith 추적을 시작합니다.\n",
      "[프로젝트명]\n",
      "LangGraph_agent_101\n"
     ]
    }
   ],
   "source": [
    "# API 키를 환경변수로 관리하기 위한 설정 파일\n",
    "from dotenv import load_dotenv\n",
    "\n",
    "# API 키 정보 로드\n",
    "load_dotenv()\n",
    "\n",
    "# LangSmith 추적을 설정합니다. https://smith.langchain.com\n",
    "# !pip install -qU langchain-teddynote\n",
    "from langchain_teddynote import logging\n",
    "\n",
    "# 프로젝트 이름을 입력합니다.\n",
    "logging.langsmith(\"LangGraph_agent_101\")"
   ]
  },
  {
   "cell_type": "code",
   "execution_count": 2,
   "metadata": {},
   "outputs": [
    {
     "data": {
      "text/plain": [
       "[{'title': '랭체인(langchain)의 OpenAI GPT 모델(ChatOpenAI) 사용법 (1) - 테디노트',\n",
       "  'url': 'https://teddylee777.github.io/langchain/langchain-tutorial-01/',\n",
       "  'content': '태그:\\nChatGPT,\\nChatOpenAI,\\nGPT3.5,\\nGPT4,\\nlangchain,\\nlangchain tutorial,\\nOpenAI,\\n랭체인,\\n랭체인 튜토리얼\\n카테고리:\\nlangchain\\n업데이트: 2023년 09월 28일\\n참고\\n[Assistants API] Code Interpreter, Retrieval, Functions 활용법\\n2024년 02월 13일\\n35 분 소요\\nOpenAI의 temperature\\nmax_tokens\\nmodel_name: 적용 가능한 모델 리스트\\ngpt-3.5-turbo\\ngpt-3.5-turbo-0301\\ngpt-3.5-turbo-0613\\ngpt-3.5-turbo-16k\\ngpt-3.5-turbo-16k-0613\\ngpt-3.5-turbo-instruct\\ngpt-3.5-turbo-instruct-0914\\ngpt-4\\ngpt-4-0314\\ngpt-4-0613\\n🔥 프롬프트 템플릿의 활용\\nPromptTemplate\\n사용자의 입력 변수를 사용하여 완전한 프롬프트 문자열을 만드는 LangChain 한국어 튜토리얼\\n바로가기 👀\\n랭체인(langchain)의 OpenAI GPT 모델(ChatOpenAI) 사용법 (1)\\n2023년 09월 28일\\n5 분 소요\\n언어 모델을 활용한 애플리케이션 개발을 돕는 프레임워크인 랭체인(LangChain) 에 대해 깊이 있게 다뤄보고자 합니다.\\n ① run()\\nrun() 함수로 템플릿 프롬프트 실행\\n② apply()\\napply() 함수로 여러개의 입력을 한 번에 실행\\ntext 키 값으로 결과 뭉치가 반환되었음을 확인할 수 있습니다.\\n LLMChain 객체\\nLLMChain\\nLLMChain은 특정 PromptTemplate와 연결된 체인 객체를 생성합니다\\n사용법\\nprompt: 앞서 정의한 PromptTemplate 객체를 사용합니다.\\n',\n",
       "  'score': 0.7876867,\n",
       "  'raw_content': '🔥알림🔥\\n① 테디노트 유튜브 -\\n구경하러 가기!\\n② LangChain 한국어 튜토리얼\\n바로가기 👀\\n랭체인(langchain)의 OpenAI GPT 모델(ChatOpenAI) 사용법 (1)\\n2023년 09월 28일\\n5 분 소요\\n언어 모델을 활용한 애플리케이션 개발을 돕는 프레임워크인 랭체인(LangChain) 에 대해 깊이 있게 다뤄보고자 합니다.\\n튜토리얼은 시리즈 형식으로 구성되어, 시리즈를 거듭하면서 랭체인(LangChain) 을 통해 언어 모델 기반의 애플리케이션 개발은 더욱 간결하고 효과적으로 이루어질 수 있습니다.\\n🌱 랭체인의 주요 기능\\n랭체인을 통해 다음과 같은 특징을 갖는 애플리케이션을 개발할 수 있습니다.\\n랭체인의 가치\\n랭체인의 핵심적인 가치는 여러 가지가 있지만, 그 중에서도 두 가지 주요한 점을 꼽자면 다음과 같습니다.\\n특히, 이러한 사용 준비된 체인은 초보자도 랭체인을 쉽게 시작할 수 있게 도와주며, 복잡한 애플리케이션을 계획하는 전문가들은 기존 체인을 손쉽게 커스터마이징하거나 새롭게 구축할 수 있게 도와줍니다.\\n🌱 환경설정\\nAPI KEY 발급\\n먼저, openai 의 API KEY 를 발급 받아야 합니다. 발급은 다음의 절차를 통해 진행할 수 있습니다.\\nhttps://platform.openai.com/account/api-keys 로 접속합니다.\\nLog in 버튼을 클릭 후 계정에 로그인 합니다. 계정이 아직 생성되지 않은 경우에는 Sign up 으로 회원가입 후 로그인 합니다.\\n“Create new secret key” 버튼을 클릭하여 새로운 키를 발급합니다.\\nName 에는 발급하는 키에 대한 별칭을 입력합니다.\\n새롭게 발급한 키를 복사합니다. 잃어버리면 다시 발급하여야 하므로, 안전한 곳에 저장해 둡니다.\\n모듈 설치(openai, langchain)\\npip 명령어로 모듈을 설치 합니다. 아나콘다 가상환경에서 설치해도 좋습니다.\\n먼저, 설치한 openai 모듈을 import 한 뒤, 발급받은 API KEY를 다음과 같이 설정합니다.\\n사용 가능한 모델 리스트 출력\\n🔥 ChatOpenAI\\nOpenAI 사의 채팅 전용 Large Language Model(llm) 입니다.\\n객체를 생성할 때 다음을 옵션 값을 지정할 수 있습니다. 옵션에 대한 상세 설명은 다음과 같습니다.\\ntemperature\\nmax_tokens\\nmodel_name: 적용 가능한 모델 리스트\\ngpt-3.5-turbo\\ngpt-3.5-turbo-0301\\ngpt-3.5-turbo-0613\\ngpt-3.5-turbo-16k\\ngpt-3.5-turbo-16k-0613\\ngpt-3.5-turbo-instruct\\ngpt-3.5-turbo-instruct-0914\\ngpt-4\\ngpt-4-0314\\ngpt-4-0613\\n🔥 프롬프트 템플릿의 활용\\nPromptTemplate\\n사용자의 입력 변수를 사용하여 완전한 프롬프트 문자열을 만드는 데 사용되는 템플릿입니다\\n사용법\\ntemplate: 템플릿 문자열입니다. 이 문자열 내에서 중괄호 {}는 변수를 나타냅니다.\\ninput_variables: 중괄호 안에 들어갈 변수의 이름을 리스트로 정의합니다.\\ninput_variables\\ninput_variables는 PromptTemplate에서 사용되는 변수의 이름을 정의하는 리스트입니다.\\n사용법: 리스트 형식으로 변수 이름을 정의합니다.\\nLLMChain 객체\\nLLMChain\\nLLMChain은 특정 PromptTemplate와 연결된 체인 객체를 생성합니다\\n사용법\\nprompt: 앞서 정의한 PromptTemplate 객체를 사용합니다.\\nllm: 언어 모델을 나타내며, 이 예시에서는 이미 어딘가에서 정의된 것으로 보입니다.\\n① run()\\nrun() 함수로 템플릿 프롬프트 실행\\n② apply()\\napply() 함수로 여러개의 입력을 한 번에 실행\\ntext 키 값으로 결과 뭉치가 반환되었음을 확인할 수 있습니다.\\n이를 반복문으로 출력한다면 다음과 같습니다.\\n③ generate()\\ngenerate() 는 문자열 대신에 LLMResult를 반환하는 점을 제외하고는 apply와 유사합니다.\\nLLMResult는 토큰 사용량과 종료 이유와 같은 유용한 생성 정보를 자주 포함하고 있습니다.\\n④ 2개 이상의 변수를 템플릿 안에 정의\\n2개 이상의 변수를 적용하여 템플릿을 생성할 수 있습니다.\\n이번에는 2개 이상의 변수(input_variables) 를 활용하여 템플릿 구성을 해보겠습니다.\\n⑤ 스트리밍(streaming)\\n스트리밍 옵션은 질의에 대한 답변을 실시간으로 받을 때 유용합니다.\\n다음과 같이 streaming=True 로 설정하고 스트리밍으로 답변을 받기 위한 StreamingStdOutCallbackHandler() 을 콜백으로 지정합니다.\\n태그:\\nChatGPT,\\nChatOpenAI,\\nGPT3.5,\\nGPT4,\\nlangchain,\\nlangchain tutorial,\\nOpenAI,\\n랭체인,\\n랭체인 튜토리얼\\n카테고리:\\nlangchain\\n업데이트: 2023년 09월 28일\\n참고\\n[Assistants API] Code Interpreter, Retrieval, Functions 활용법\\n2024년 02월 13일\\n35 분 소요\\nOpenAI의 새로운 Assistants API는 대화와 더불어 강력한 도구 접근성을 제공합니다. 본 튜토리얼은 OpenAI Assistants API를 활용하는 내용을 다룹니다. 특히, Assistant API 가 제공하는 도구인 Code Interpreter, Retrieval...\\n[LangChain] 에이전트(Agent)와 도구(tools)를 활용한 지능형 검색 시스템 구축 가이드\\n2024년 02월 09일\\n41 분 소요\\n이 글에서는 LangChain 의 Agent 프레임워크를 활용하여 복잡한 검색과 데이터 처리 작업을 수행하는 방법을 소개합니다. LangSmith 를 사용하여 Agent의 추론 단계를 추적합니다. Agent가 활용할 검색 도구(Tavily Search), PDF 기반 검색 리트리버...\\nLangChain RAG 파헤치기: 문서 기반 QA 시스템 설계 방법 - 심화편\\n2024년 02월 06일\\n23 분 소요\\nLangChain의 RAG 시스템을 통해 문서(PDF, txt, 웹페이지 등)에 대한 질문-답변을 찾는 과정을 정리하였습니다.\\nLangChain으로 네이버 뉴스 기반 Q&A 애플리케이션 구축하기 - 기본편\\n2024년 02월 06일\\n7 분 소요\\nLangChain을 활용하여 간단하게 네이버 뉴스기사를 바탕으로 Q&A 애플리케이션을 만드는 방법을 다룹니다.'},\n",
       " {'title': '랭체인(langchain) + 정형데이터(CSV, Excel) - ChatGPT 기반 데이터분석 (4) - 테디노트',\n",
       "  'url': 'https://teddylee777.github.io/langchain/langchain-tutorial-04/',\n",
       "  'content': '🔥알림🔥 ① 테디노트 유튜브 - 구경하러 가기! ② LangChain 한국어 튜토리얼 바로가기 👀 ③ 랭체인 노트 무료 전자책(wikidocs) 바로가기 🙌 ④ RAG 비법노트 LangChain 강의오픈 바로가기 🙌 ⑤ 서울대 PyTorch 딥러닝 강의 바로가기 🙌. 랭체인(langchain) + 정형데이터(CSV, Excel) - ChatGPT 기반 데이터분석 (4)',\n",
       "  'score': 0.6455898,\n",
       "  'raw_content': '🔥알림🔥\\n① 테디노트 유튜브 -\\n구경하러 가기!\\n② LangChain 한국어 튜토리얼\\n바로가기 👀\\n③ 랭체인 노트 무료 전자책(wikidocs)\\n바로가기 🙌\\n④ RAG 비법노트 LangChain 강의오픈\\n바로가기 🙌\\n⑤ 서울대 PyTorch 딥러닝 강의\\n바로가기 🙌\\n랭체인(langchain) + 정형데이터(CSV, Excel) - ChatGPT 기반 데이터분석 (4)\\n2023년 10월 02일\\n4 분 소요\\n이번 포스팅에서는 랭체인(LangChain) 을 활용하여 정형데이터(CSV, Excel) 에 대한 ChatGPT 기반 질의응답을 통해 데이터 분석하는 방법 에 대해 알아보겠습니다.\\n이번 튜토리얼에서는 langchain 의 create_pandas_dataframe_agent() 을 통해 에이전트를 생성한 뒤, 생성된 에이전트에 자연어로 데이터에 대한 질의 응답 을 통해 원하는 분석 결과를 도출하는 방법에 대해 다루겠습니다.\\n한가지 흥미로운 사실은 자연어로 에이전트에 질문하면, 에이전트가 이를 pandas 문법을 변환하여 코드를 실행한 뒤, 결과를 다시 자연어로 반환해 준다는 점입니다. 에이전트가 답변을 도출하는 과정에서 실행한 pandas 코드도 확인 할 수 있습니다.\\n✔️ (이전글) LangChain 튜토리얼\\n🌱 환경설정\\n라이브러리 설치\\nOPENAI API KEY 를 설정합니다.\\n🔥 데이터 로드\\npandas를 활용하여 csv 파일을 DataFrame 으로 로드합니다.\\n🔥 Pandas DataFrame Agent\\n🔥 2개 이상의 DataFrame\\n2개 이상의 데이터프레임에 기반한 LLM 기반 질의를 할 수 있습니다. 2개 이상의 데이터프레임 입력시 [] 로 묶어주면 됩니다.\\n태그:\\nChatGPT,\\nChatOpenAI,\\ncsv,\\nexcel,\\nGPT3.5,\\nGPT4,\\nlangchain,\\nlangchain tutorial,\\nOpenAI,\\n데이터분석,\\n랭체인,\\n랭체인 튜토리얼\\n카테고리:\\nlangchain\\n업데이트: 2023년 10월 02일\\n참고\\npoetry 의 거의 모든것 (튜토리얼)\\n2024년 03월 30일\\n5 분 소요\\nPython 개발에 있어서 poetry는 매우 강력한 도구로, 프로젝트의 의존성 관리와 패키지 배포를 간소화하는 데 큰 도움을 줍니다. 지금부터 poetry 활용 튜토리얼을 살펴 보겠습니다.\\nLangGraph Retrieval Agent를 활용한 동적 문서 검색 및 처리\\n2024년 03월 06일\\n10 분 소요\\nLangGraph Retrieval Agent는 언어 처리, AI 모델 통합, 데이터베이스 관리, 그래프 기반 데이터 처리 등 다양한 기능을 제공하여 언어 기반 AI 애플리케이션 개발에 필수적인 도구입니다.\\n[Assistants API] Code Interpreter, Retrieval, Functions 활용법\\n2024년 02월 13일\\n35 분 소요\\nOpenAI의 새로운 Assistants API는 대화와 더불어 강력한 도구 접근성을 제공합니다. 본 튜토리얼은 OpenAI Assistants API를 활용하는 내용을 다룹니다. 특히, Assistant API 가 제공하는 도구인 Code Interpreter, Retrieval...\\n[LangChain] 에이전트(Agent)와 도구(tools)를 활용한 지능형 검색 시스템 구축 가이드\\n2024년 02월 09일\\n41 분 소요\\n이 글에서는 LangChain 의 Agent 프레임워크를 활용하여 복잡한 검색과 데이터 처리 작업을 수행하는 방법을 소개합니다. LangSmith 를 사용하여 Agent의 추론 단계를 추적합니다. Agent가 활용할 검색 도구(Tavily Search), PDF 기반 검색 리트리버...'},\n",
       " {'title': 'linktr.ee/teddynote | Linktree',\n",
       "  'url': 'https://linktr.ee/teddynote',\n",
       "  'content': '11/9 파이콘한국 2024 \"에이전트 튜토리얼\" 10/31 Amazon AWS GenAI Loft Seoul 행사 - 발표자료(PDF) ... 📘 랭체인 한국어 튜토리얼🇰🇷. Github. 9/21 테디노트-Gencon2024-ModularRAG-20240921.pdf.',\n",
       "  'score': 0.6450534,\n",
       "  'raw_content': None}]"
      ]
     },
     "execution_count": 2,
     "metadata": {},
     "output_type": "execute_result"
    }
   ],
   "source": [
    "from langchain_teddynote.tools.tavily import TavilySearch\n",
    "\n",
    "# 검색 도구 생성\n",
    "tool = TavilySearch(max_results=3)\n",
    "\n",
    "# 도구 목록에 추가\n",
    "tools = [tool]\n",
    "\n",
    "# 도구 실행\n",
    "tool.invoke(\"테디노트 랭체인 튜토리얼\")"
   ]
  },
  {
   "cell_type": "code",
   "execution_count": 18,
   "metadata": {},
   "outputs": [],
   "source": [
    "from typing import Annotated\n",
    "from typing_extensions import TypedDict\n",
    "from langchain_ollama import ChatOllama\n",
    "from langgraph.graph.message import add_messages\n",
    "\n",
    "\n",
    "# State 정의\n",
    "class State(TypedDict):\n",
    "    # list 타입에 add_messages 적용(list 에 message 추가)\n",
    "    messages: Annotated[list, add_messages]\n",
    "\n",
    "# LLM 초기화\n",
    "llm = ChatOllama(model=\"llama3.1:8b\")\n",
    "\n",
    "# LLM 에 도구 바인딩\n",
    "llm_with_tools = llm.bind_tools(tools)"
   ]
  },
  {
   "cell_type": "code",
   "execution_count": 19,
   "metadata": {},
   "outputs": [],
   "source": [
    "# 노드 함수 정의\n",
    "def chatbot(state: State):\n",
    "    answer = llm_with_tools.invoke(state[\"messages\"])\n",
    "    # 메시지 목록 반환\n",
    "    return {\"messages\": [answer]}  # 자동으로 add_messages 적용"
   ]
  },
  {
   "cell_type": "code",
   "execution_count": 20,
   "metadata": {},
   "outputs": [
    {
     "data": {
      "text/plain": [
       "<langgraph.graph.state.StateGraph at 0x1307b5d50>"
      ]
     },
     "execution_count": 20,
     "metadata": {},
     "output_type": "execute_result"
    }
   ],
   "source": [
    "from langgraph.graph import StateGraph\n",
    "\n",
    "# 상태 그래프 초기화\n",
    "graph_builder = StateGraph(State)\n",
    "\n",
    "# 노드 추가\n",
    "graph_builder.add_node(\"chatbot\", chatbot)"
   ]
  },
  {
   "cell_type": "code",
   "execution_count": 21,
   "metadata": {},
   "outputs": [
    {
     "data": {
      "text/plain": [
       "<langgraph.graph.state.StateGraph at 0x1307b5d50>"
      ]
     },
     "execution_count": 21,
     "metadata": {},
     "output_type": "execute_result"
    }
   ],
   "source": [
    "import json\n",
    "from langchain_core.messages import ToolMessage\n",
    "\n",
    "\n",
    "class BasicToolNode:\n",
    "    \"\"\"Run tools requested in the last AIMessage node\"\"\"\n",
    "\n",
    "    def __init__(self, tools: list) -> None:\n",
    "        # 도구 리스트\n",
    "        self.tools_list = {tool.name: tool for tool in tools}\n",
    "\n",
    "    def __call__(self, inputs: dict):\n",
    "        # 메시지가 존재할 경우 가장 최근 메시지 1개 추출\n",
    "        if messages := inputs.get(\"messages\", []):\n",
    "            message = messages[-1]\n",
    "        else:\n",
    "            raise ValueError(\"No message found in input\")\n",
    "\n",
    "        # 도구 호출 결과\n",
    "        outputs = []\n",
    "        for tool_call in message.tool_calls:\n",
    "            # 도구 호출 후 결과 저장\n",
    "            tool_result = self.tools_list[tool_call[\"name\"]].invoke(tool_call[\"args\"])\n",
    "            outputs.append(\n",
    "                # 도구 호출 결과를 메시지로 저장\n",
    "                ToolMessage(\n",
    "                    content=json.dumps(\n",
    "                        tool_result, ensure_ascii=False\n",
    "                    ),  # 도구 호출 결과를 문자열로 변환\n",
    "                    name=tool_call[\"name\"],\n",
    "                    tool_call_id=tool_call[\"id\"],\n",
    "                )\n",
    "            )\n",
    "\n",
    "        return {\"messages\": outputs}\n",
    "\n",
    "\n",
    "# 도구 노드 생성\n",
    "tool_node = BasicToolNode(tools=[tool])\n",
    "\n",
    "# 그래프에 도구 노드 추가\n",
    "graph_builder.add_node(\"tools\", tool_node)"
   ]
  },
  {
   "cell_type": "code",
   "execution_count": 22,
   "metadata": {},
   "outputs": [],
   "source": [
    "from langgraph.graph import START, END\n",
    "\n",
    "\n",
    "def route_tools(state: State):\n",
    "    if messages := state.get(\"messages\", []):\n",
    "        # 가장 최근 AI 메시지 추출\n",
    "        ai_message = messages[-1]\n",
    "    else:\n",
    "        # 입력 상태에 메시지가 없는 경우 예외 발생\n",
    "        raise ValueError(f\"No messages found in input state to tool_edge: {state}\")\n",
    "\n",
    "    # AI 메시지에 도구 호출이 있는 경우 \"tools\" 반환\n",
    "    if hasattr(ai_message, \"tool_calls\") and len(ai_message.tool_calls) > 0:\n",
    "        # 도구 호출이 있는 경우 \"tools\" 반환\n",
    "        return \"tools\"\n",
    "    # 도구 호출이 없는 경우 \"END\" 반환\n",
    "    return END\n",
    "\n",
    "\n",
    "# `tools_condition` 함수는 챗봇이 도구 사용을 요청하면 \"tools\"를 반환하고, 직접 응답이 가능한 경우 \"END\"를 반환\n",
    "graph_builder.add_conditional_edges(\n",
    "    source=\"chatbot\",\n",
    "    path=route_tools,\n",
    "    # route_tools 의 반환값이 \"tools\" 인 경우 \"tools\" 노드로, 그렇지 않으면 END 노드로 라우팅\n",
    "    path_map={\"tools\": \"tools\", END: END},\n",
    ")\n",
    "\n",
    "# tools > chatbot\n",
    "graph_builder.add_edge(\"tools\", \"chatbot\")\n",
    "\n",
    "# START > chatbot\n",
    "graph_builder.add_edge(START, \"chatbot\")\n",
    "\n",
    "# 그래프 컴파일\n",
    "graph = graph_builder.compile()\n"
   ]
  },
  {
   "cell_type": "code",
   "execution_count": 23,
   "metadata": {},
   "outputs": [
    {
     "data": {
      "image/png": "[encoded data removed]",
      "text/plain": [
       "<IPython.core.display.Image object>"
      ]
     },
     "metadata": {},
     "output_type": "display_data"
    }
   ],
   "source": [
    "from langchain_teddynote.graphs import visualize_graph\n",
    "\n",
    "# 그래프 시각화\n",
    "visualize_graph(graph)\n"
   ]
  },
  {
   "cell_type": "code",
   "execution_count": 24,
   "metadata": {},
   "outputs": [
    {
     "name": "stdout",
     "output_type": "stream",
     "text": [
      "\n",
      "==============\n",
      "STEP: chatbot\n",
      "==============\n",
      "\n",
      "    \u001b[93mcontent\u001b[0m: \"\"\n",
      "    \u001b[93madditional_kwargs\u001b[0m: {}\n",
      "    \u001b[93mresponse_metadata\u001b[0m:\n",
      "        \u001b[94mmodel\u001b[0m: \"llama3.1:8b\"\n",
      "        \u001b[94mcreated_at\u001b[0m: \"2025-01-23T13:00:01.187182Z\"\n",
      "        \u001b[94mdone\u001b[0m: True\n",
      "        \u001b[94mdone_reason\u001b[0m: \"stop\"\n",
      "        \u001b[94mtotal_duration\u001b[0m: 6338615041\n",
      "        \u001b[94mload_duration\u001b[0m: 947148625\n",
      "        \u001b[94mprompt_eval_count\u001b[0m: 206\n",
      "        \u001b[94mprompt_eval_duration\u001b[0m: 3956000000\n",
      "        \u001b[94meval_count\u001b[0m: 26\n",
      "        \u001b[94meval_duration\u001b[0m: 1431000000\n",
      "        \u001b[94mmessage\u001b[0m:\n",
      "            \u001b[95mrole\u001b[0m: \"assistant\"\n",
      "            \u001b[95mcontent\u001b[0m: \"\"\n",
      "            \u001b[95mimages\u001b[0m: None\n",
      "            \u001b[95mtool_calls\u001b[0m: None\n",
      "    \u001b[93mtype\u001b[0m: \"ai\"\n",
      "    \u001b[93mname\u001b[0m: None\n",
      "    \u001b[93mid\u001b[0m: \"run-bc30caa7-5dee-4014-a014-07e65918bc79-0\"\n",
      "    \u001b[93mexample\u001b[0m: False\n",
      "    \u001b[93mtool_calls\u001b[0m:\n",
      "        \u001b[93mindex [0]\u001b[0m\n",
      "            \u001b[95mname\u001b[0m: \"tavily_web_search\"\n",
      "            \u001b[95margs\u001b[0m: {\"query\": \"테디노트 유튜브\"}\n",
      "            \u001b[95mid\u001b[0m: \"c7e17cec-25f4-440b-a6a3-0b9dd6945c45\"\n",
      "            \u001b[95mtype\u001b[0m: \"tool_call\"\n",
      "    \u001b[93minvalid_tool_calls\u001b[0m:\n",
      "    \u001b[93musage_metadata\u001b[0m: {\"input_tokens\": 206, \"output_tokens\": 26, \"total_tokens\": 232}\n",
      "\n",
      "==============\n",
      "STEP: tools\n",
      "==============\n",
      "\n",
      "    \u001b[93mcontent\u001b[0m: \"[{\"title\": \"강의 - 테디노트\", \"url\": \"https://teddylee777.github.io/lectures/\", \"content\": \"텐서플로 개발자 자격증 취득\\n🙏 아래의 내용을 참고해 주세요 🙏\\n📌 VOD 강의 링크\\n💻 한 방으로 끝내는 판다스(Pandas) 데이터 분석 - 전자책 포함\\n🙏 아래의 내용을 참고해 주세요 🙏\\n📌 VOD 강의 링크\\n🌱 한 권으로 끝내는 파이썬(Python) 코딩 입문 - 전자책 포함\\n🙏 아래의 내용을 참고해 주세요 🙏\\n📌 VOD 강의 링크\\n🌱 깃헙 블로그(Github blog)로 차별화 된 나만의 홈페이지 만들기!\\n 🔥알림🔥\\n① 테디노트 유튜브 -\\n구경하러 가기!\\n② 서울대 X 테디노트 ChatGPT & PyTorch 강의\\n강의 커리큘럼 👀\\n강의\\n아래에 나열된 강의는 모두 제가 직접 촬영 및 진행한 내 새끼같은 강의들입니다.\\n 주제별로 강의 영상을 시리즈로 모아 놓았어요😊\\n구독, 좋아요👍 그리고 댓글 감사합니다🥰\\n📌 지금 당장 유튜브 보러가기\\n✏️ 머신러닝 스터디 혼자 해보기\\n깃헙(GitHub)에 혼자서 데이터 분석, 머신러닝, 딥러닝을 스터디 할 수 있도록 주제별로 정리해 놓았어요✌️\\n저도 혼자서 공부를 했었는데, 이해가 쏙쏙 되는 강의와 블로그 주소들을 메모해 두었다가 정리해 본 내용이에요.\\n 강의 링크\\n🌱 스트림릿(Streamlit)을 활용한 파이썬 웹앱 제작하기\\n🙏 아래의 내용을 참고해 주세요 🙏\\n스트림릿(streamlit)을 활용하여 파이썬 웹앱 대시보드를 구현해보고 싶으신 분들께 추천 드립니다🤩\\n데이터 분석/대시보드 제작 그리고 머신러닝 모델을 배포해서 서비스화 시키는 과정입니다😊\\n파이썬 기본 문법만 알고 계신다면 부담 없이 도전해 만들어 보고 싶으신 분들께 추천 드립니다🤩\\n코딩은 거의 없기 때문에 코린이도 문제 없어요😊\\n테디노트와 같은 블로그를 만들어 보고 싶으시다면 지금 바로 도전해 보세요 🥰\\n📌 VOD\", \"score\": 0.7539928, \"raw_content\": \"🔥알림🔥\\n① 테디노트 유튜브 -\\n구경하러 가기!\\n② 서울대 X 테디노트 ChatGPT & PyTorch 강의\\n강의 커리큘럼 👀\\n강의\\n아래에 나열된 강의는 모두 제가 직접 촬영 및 진행한 내 새끼같은 강의들입니다.\\n강의에 대한 후기를 먼저 보시면 아시겠지만, 감사하게도 많은 분들이 수강하고 좋은 평가를 남겨 주셨습니다. 정말 한분 한분 감사하다는 인사를 꼭 드리고 싶습니다🙏\\n강의를 제작하면서 이것 하나만큼은 진심이었습니다.\\n“내 강의를 수강하신 분들의 돈, 시간을 낭비하는 강의는 절대 만들지도 팔지도 않겠다”\\n혹여 부족한 점이 있다 하더라도 추가 질의 응답을 통해 소통하고 있습니다.\\n데이터와 인공지능에 관심있는 분들이 조금이라도 지름길을 걸으실 수 있도록 양질의 콘텐츠 개발에 최선을 다하겠습니다. 감사합니다😊\\n🔥 Google 공인! 텐서플로 개발자 자격증 취득\\n🙏 아래의 내용을 참고해 주세요 🙏\\n📌 VOD 강의 링크\\n💻 한 방으로 끝내는 판다스(Pandas) 데이터 분석 - 전자책 포함\\n🙏 아래의 내용을 참고해 주세요 🙏\\n📌 VOD 강의 링크\\n🌱 한 권으로 끝내는 파이썬(Python) 코딩 입문 - 전자책 포함\\n🙏 아래의 내용을 참고해 주세요 🙏\\n📌 VOD 강의 링크\\n🌱 깃헙 블로그(Github blog)로 차별화 된 나만의 홈페이지 만들기!\\n🙏 아래의 내용을 참고해 주세요 🙏\\n제작부터 커스터마이징까지! 차별화된 깃헙 블로그(GitHub blog) 만들어 보고 싶으신 분들께 추천 드립니다🤩\\n코딩은 거의 없기 때문에 코린이도 문제 없어요😊\\n테디노트와 같은 블로그를 만들어 보고 싶으시다면 지금 바로 도전해 보세요 🥰\\n📌 VOD 강의 링크\\n🌱 스트림릿(Streamlit)을 활용한 파이썬 웹앱 제작하기\\n🙏 아래의 내용을 참고해 주세요 🙏\\n스트림릿(streamlit)을 활용하여 파이썬 웹앱 대시보드를 구현해보고 싶으신 분들께 추천 드립니다🤩\\n데이터 분석/대시보드 제작 그리고 머신러닝 모델을 배포해서 서비스화 시키는 과정입니다😊\\n파이썬 기본 문법만 알고 계신다면 부담 없이 도전해 보실 수 있어요 🥰\\n📌 VOD 강의 링크\\n❤️ 테디노트 유튜브(YouTube)\\n그 밖에도 다양한 주제로 강의 영상을 유튜브(YouTube) 채널에 업로드 하고 있어요\\n유튜브 채널에서 재생목록을 꼭 클릭해 보세요! 주제별로 강의 영상을 시리즈로 모아 놓았어요😊\\n구독, 좋아요👍 그리고 댓글 감사합니다🥰\\n📌 지금 당장 유튜브 보러가기\\n✏️ 머신러닝 스터디 혼자 해보기\\n깃헙(GitHub)에 혼자서 데이터 분석, 머신러닝, 딥러닝을 스터디 할 수 있도록 주제별로 정리해 놓았어요✌️\\n저도 혼자서 공부를 했었는데, 이해가 쏙쏙 되는 강의와 블로그 주소들을 메모해 두었다가 정리해 본 내용이에요.\\n그 밖에 실습파일, 블로그, 논문 등도 잘 정리해 두었으니, 지나가다 쓱 들러보세요😊\\n👀 (주의) 내용이 무척 많으니, 다 습득하려 하지 마시고, 모르는 내용만 발췌해서 보세요\\n📌 지금 당장 혼공 하러가기\"}, {\"title\": \"테디노트 TeddyNote - YouTube\", \"url\": \"https://www.youtube.com/channel/UCt2wAAXgm87ACiQnDHQEW6Q\", \"content\": \"데이터 분석, 머신러닝, 딥러닝, LLM 에 대한 내용을 다룹니다. 연구보다는 개발에 관심이 많습니다 🙇‍♂️🔥 \\\"테디노트의 RAG 비법노트\\\" 랭체인\", \"score\": 0.74807674, \"raw_content\": null}, {\"title\": \"linktr.ee/teddynote | Linktree\", \"url\": \"https://linktr.ee/teddynote\", \"content\": \"유튜브. 📘 랭체인 한국어 튜토리얼🇰🇷. Github. 9/21 테디노트-Gencon2024-ModularRAG-20240921.pdf.\", \"score\": 0.73299384, \"raw_content\": \"linktr.ee/teddynote | Linktree\\n\\n테디노트\\nAI Contents Creator. #LLM #RAG #LangChain\\nYouTubeLinkedInGitHubEmail\\n 12/15 모두콘2024 - AI 시대의 생존 전략: 대체되지 않는 인재로 성장하기\\n [FastCampus] 테디노트의 RAG 비법노트🙌\\n11/27 SK 웨이브힐 2024\\n11/25 모두의연구소 비즈클럽 - 생성형 AI 의 비즈니스 도입\\n11/9 파이콘한국 2024 \\\"에이전트 튜토리얼\\\"\\n 10/31 Amazon AWS GenAI Loft Seoul 행사 - 발표자료(PDF)\\n🔥[100% 무료] 테디노트 YouTube 콘텐츠 학습 순서🔥\\n유튜브\\n📘 랭체인 한국어 튜토리얼🇰🇷\\n Github\\n 9/21 테디노트-Gencon2024-ModularRAG-20240921.pdf\\n 블로그\\n링크드인\\n HuggingFace\\nCookie Preferences\\n테디노트\\nShare this Linktree\\nReport Linktree\\nJoin teddynote on Linktree\\nGet your own free Linktree. The only link in bio trusted by 50M+ people.\\nSign up free\\nFind out more\\nJoin the only link in bio trusted by 50M+\\ncreators.\\nbusinesses.\\nmusicians.\\nrealtors.\\ncreatives.\\nOne link to share everything you create, curate and sell across IG, TikTok and more.\\nlinktr.ee/\\nClaim your Linktree\\nSubscribe to @teddynote\\nLearn more about Linktree\\nSign up free\\n\\nShare Linktree\\nClose\\nShare link\\nClose\\n### Track A_이경록_AI시대의생존전략.pdf drive.google.com/file/d/1g1FsFOT2i-q2ZTc-sNkrAjjyWaFzo5wj/view?usp=sharing\\nShare link\\nClose\\n### [FastCampus] 테디노트의 RAG 비법노트🙌 fastcampus.co.kr/data_online_teddy\\nShare link\\nClose\\n### GitHub - teddylee777/SK-WaveHill-2024 github.com/teddylee777/SK-WaveHill-2024 Contribute to teddylee777/SK-WaveHill-2024 development by creating an account on GitHub.\\nShare link\\nClose\\n### 11/25 모두의연구소 비즈클럽 - 생성형 AI 의 비즈니스 도입 link.teddynote.com/modulabs\\nShare link\\nClose\\n### 11/9 파이콘한국 2024 \\\"에이전트 튜토리얼\\\" share.note.sx/17l7syil#Vei4HfxlE2WMSVTiYieRHoQFzBGF9GIi6K2lv8Fn0e0\\nShare link\\nClose\\n### 10/31 Amazon AWS GenAI Loft Seoul 행사 - 발표자료(PDF) www.dropbox.com/scl/fi/gcymuf1p8a8chd2l8xwzu/GenAI_Loft_-_-V04.pdf?rlkey=n8oszytjxzjyqnch12wbqspme&st=72p3i0f2&dl=1\\nShare link\\nClose\\n### 🔥[100% 무료] 테디노트 YouTube 콘텐츠 학습 순서🔥 teddylee777.notion.site/YouTube-RAG-10a24f35d12980dc8478c750faa752a2\\nShare link\\nClose\\n### 유튜브 m.youtube.com/c/teddynote?sub_confirmation=1\\nShare link\\nClose\\n### 📘 랭체인 한국어 튜토리얼🇰🇷 wikidocs.net/book/14314\\nShare link\\nClose\\n### Github github.com/teddylee777\\nShare link\\nClose\\n### 9/21 테디노트-Gencon2024-ModularRAG-20240921.pdf link.teddynote.com/Gencon2024\\nShare link\\nClose\\n### 블로그 teddylee777.github.io/\\nShare link\\nClose\\n### 링크드인 www.linkedin.com/in/teddy-lee/\\nShare link\\nClose\\n### HuggingFace huggingface.co/teddylee777\\nThis site uses cookies for performance, analytics, and personalisation which helps us to improve our site and provide you with personalised content. You may choose to set \\\"Cookie Preferences\\\" to further manage your cookie selections. For more information please see ourPrivacy Policy & Cookie Notice.\\nCookie Preferences\\n\\nCookie Preferences & Do Not Sell My Personal Information\\nWhen you visit our website, we store cookies on your browser to collect information. The information collected might relate to you, your preferences or your device, and is mostly used to make the site work as you expect it to and to provide a more personalized web experience. However, you can choose not to allow certain types of cookies, which may impact your experience of the site and the services we are able to offer. Click on the different category headings to find out more and change our default settings according to your preference. You cannot opt-out of our First Party Strictly Necessary Cookies as they are deployed in order to ensure the proper functioning of our website (such as prompting the cookie banner and remembering your settings, to log into your account, to redirect you when you log out, etc.). For more information about the First and Third Party Cookies used please follow this link.\\nMore information\\nAllow All\\nManage Consent Preferences\\nStrictly Necessary Cookies\\nAlways Active\\nThese cookies are necessary for the website to function and cannot be switched off in our systems. They are usually only set in response to actions made by you which amount to a request for services, such as setting your privacy preferences, logging in or filling in forms. You can set your browser to block or alert you about these cookies, but some parts of the site will not then work.\\nFunctional Cookies\\nFunctional Cookies\\nThese cookies enable the website to provide enhanced functionality and personalisation. They may be set by us or by third party providers whose services we have added to our pages. If you do not allow these cookies then some or all of these services may not function properly.\\nPerformance Cookies\\nPerformance Cookies\\nThese cookies allow us to count visits and traffic sources so we can measure and improve the performance of our site. They help us to know which pages are the most and least popular and see how visitors move around the site. All information these cookies collect is aggregated and therefore anonymous. If you do not allow these cookies we will not know when you have visited our site, and will not be able to monitor its performance.\\nTargeting Cookies\\nTargeting Cookies\\nThese cookies may be set through our site by our advertising partners. They may be used by those companies to build a profile of your interests and show you relevant adverts on other sites. They do not store directly personal information, but are based on uniquely identifying your browser and internet device. If you do not allow these cookies, you will experience less targeted advertising.\\nSocial Media Cookies\\nSocial Media Cookies\\nThese cookies are set by a range of social media services that we have added to the site to enable you to share our content with your friends and networks. They are capable of tracking your browser across other sites and building up a profile of your interests. This may impact the content and messages you see on other websites you visit. If you do not allow these cookies you may not be able to use or see these sharing tools.\\nUser Profile Cookies - Targeting\\nUser Profile Cookies - Targeting\\nThese cookies may be set by a user on their profile on our site. They may be used by a user and their advertising partners to build a profile of your interest and show you relevant adverts on other sites. They do not store directly personal information, but are based on uniquely identifying your browser and internet device.\\nUser Profile Cookies - Analytics\\nUser Profile Cookies - Analytics\\nThese cookies may be set by a user on their profile on our site. They may be used by a user in conjunction with their third party analytics provider to measure and improve performance for their profile.\\nCookie List\\nClear\\ncheckbox label label\\nApply Cancel\\nConsent Leg.Interest\\ncheckbox label label\\ncheckbox label label\\ncheckbox label label\\nConfirm My Choices\\n\"}]\"\n",
      "    \u001b[93madditional_kwargs\u001b[0m: {}\n",
      "    \u001b[93mresponse_metadata\u001b[0m: {}\n",
      "    \u001b[93mtype\u001b[0m: \"tool\"\n",
      "    \u001b[93mname\u001b[0m: \"tavily_web_search\"\n",
      "    \u001b[93mid\u001b[0m: \"8344c88e-8fd3-4191-8b85-593294fb0115\"\n",
      "    \u001b[93mtool_call_id\u001b[0m: \"c7e17cec-25f4-440b-a6a3-0b9dd6945c45\"\n",
      "    \u001b[93martifact\u001b[0m: None\n",
      "    \u001b[93mstatus\u001b[0m: \"success\"\n",
      "\n",
      "==============\n",
      "STEP: chatbot\n",
      "==============\n",
      "\n",
      "    \u001b[93mcontent\u001b[0m: \"테디 리(Teddy Lee)는 AI 개발자이며, 탁월한 AI 개발 및 학습 기술을 공유하는 블로그인 teddylee777.github.io를 운영하고 있습니다. 그는 또한 Hugging Face와 같은 플랫폼에서 AI 모델과 툴킷을 공유합니다.\n",
      "\n",
      "테디 리의 블로그는 다양한 주제와 지식을 제공하며, 다음과 같습니다.\n",
      "\n",
      "1. AI 개발 및 학습\n",
      "2. 데이터 분석 및 시각화\n",
      "3. 머신 러닝 및 딥러닝\n",
      "4. 자연어 처리\n",
      "5. 컴퓨터 비전\n",
      "\n",
      "그의 블로그는 다양한 언어로 번역되어全球에 공개되었습니다.\n",
      "\n",
      "테디 리는 또한 YouTube 채널인 m.youtube.com/c/teddynote?sub_confirmation=1를 운영하고 있습니다. 이 채널에서는 AI와 관련된 주제와 지식을 공유하며, AI 개발 및 학습에 대한 정보를 제공합니다.\"\n",
      "    \u001b[93madditional_kwargs\u001b[0m: {}\n",
      "    \u001b[93mresponse_metadata\u001b[0m:\n",
      "        \u001b[94mmodel\u001b[0m: \"llama3.1:8b\"\n",
      "        \u001b[94mcreated_at\u001b[0m: \"2025-01-23T13:00:32.520791Z\"\n",
      "        \u001b[94mdone\u001b[0m: True\n",
      "        \u001b[94mdone_reason\u001b[0m: \"stop\"\n",
      "        \u001b[94mtotal_duration\u001b[0m: 27736737542\n",
      "        \u001b[94mload_duration\u001b[0m: 42843167\n",
      "        \u001b[94mprompt_eval_count\u001b[0m: 2048\n",
      "        \u001b[94mprompt_eval_duration\u001b[0m: 13467000000\n",
      "        \u001b[94meval_count\u001b[0m: 203\n",
      "        \u001b[94meval_duration\u001b[0m: 13917000000\n",
      "        \u001b[94mmessage\u001b[0m:\n",
      "            \u001b[95mrole\u001b[0m: \"assistant\"\n",
      "            \u001b[95mcontent\u001b[0m: \"테디 리(Teddy Lee)는 AI 개발자이며, 탁월한 AI 개발 및 학습 기술을 공유하는 블로그인 teddylee777.github.io를 운영하고 있습니다. 그는 또한 Hugging Face와 같은 플랫폼에서 AI 모델과 툴킷을 공유합니다.\n",
      "\n",
      "테디 리의 블로그는 다양한 주제와 지식을 제공하며, 다음과 같습니다.\n",
      "\n",
      "1. AI 개발 및 학습\n",
      "2. 데이터 분석 및 시각화\n",
      "3. 머신 러닝 및 딥러닝\n",
      "4. 자연어 처리\n",
      "5. 컴퓨터 비전\n",
      "\n",
      "그의 블로그는 다양한 언어로 번역되어全球에 공개되었습니다.\n",
      "\n",
      "테디 리는 또한 YouTube 채널인 m.youtube.com/c/teddynote?sub_confirmation=1를 운영하고 있습니다. 이 채널에서는 AI와 관련된 주제와 지식을 공유하며, AI 개발 및 학습에 대한 정보를 제공합니다.\"\n",
      "            \u001b[95mimages\u001b[0m: None\n",
      "            \u001b[95mtool_calls\u001b[0m: None\n",
      "    \u001b[93mtype\u001b[0m: \"ai\"\n",
      "    \u001b[93mname\u001b[0m: None\n",
      "    \u001b[93mid\u001b[0m: \"run-d5a8d0d4-0ebe-488c-8d68-176921878049-0\"\n",
      "    \u001b[93mexample\u001b[0m: False\n",
      "    \u001b[93mtool_calls\u001b[0m:\n",
      "    \u001b[93minvalid_tool_calls\u001b[0m:\n",
      "    \u001b[93musage_metadata\u001b[0m: {\"input_tokens\": 2048, \"output_tokens\": 203, \"total_tokens\": 2251}\n"
     ]
    }
   ],
   "source": [
    "from pprint import pprint\n",
    "from langchain_teddynote.messages import display_message_tree\n",
    "\n",
    "question = \"테디노트 YouTube\"\n",
    "events = graph.stream({\"messages\": [(\"user\", question)]})\n",
    "\n",
    "for event in events:\n",
    "    for key, value in event.items():\n",
    "        print(f\"\\n==============\\nSTEP: {key}\\n==============\\n\")\n",
    "        display_message_tree(value[\"messages\"][-1])"
   ]
  },
  {
   "cell_type": "code",
   "execution_count": null,
   "metadata": {},
   "outputs": [],
   "source": []
  }
 ],
 "metadata": {
  "kernelspec": {
   "display_name": "lang",
   "language": "python",
   "name": "python3"
  },
  "language_info": {
   "codemirror_mode": {
    "name": "ipython",
    "version": 3
   },
   "file_extension": ".py",
   "mimetype": "text/x-python",
   "name": "python",
   "nbconvert_exporter": "python",
   "pygments_lexer": "ipython3",
   "version": "3.11.11"
  }
 },
 "nbformat": 4,
 "nbformat_minor": 2
}
