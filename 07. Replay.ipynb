{
 "cells": [
  {
   "cell_type": "markdown",
   "metadata": {},
   "source": [
    "### 기본 Search Tool graph"
   ]
  },
  {
   "cell_type": "code",
   "execution_count": 1,
   "metadata": {},
   "outputs": [
    {
     "data": {
      "image/png": "[encoded data removed]",
      "text/plain": [
       "<IPython.core.display.Image object>"
      ]
     },
     "metadata": {},
     "output_type": "display_data"
    }
   ],
   "source": [
    "from typing import Annotated\n",
    "from typing_extensions import TypedDict\n",
    "\n",
    "from langchain_teddynote.tools.tavily import TavilySearch\n",
    "from langchain_ollama import ChatOllama\n",
    "from langgraph.checkpoint.memory import MemorySaver\n",
    "from langgraph.graph import StateGraph, START, END\n",
    "from langgraph.graph.message import add_messages\n",
    "from langgraph.prebuilt import ToolNode, tools_condition\n",
    "from langchain_teddynote.graphs import visualize_graph\n",
    "\n",
    "\n",
    "########## 1. 상태 정의 ##########\n",
    "# 상태 정의\n",
    "class State(TypedDict):\n",
    "    # 메시지 목록 주석 추가\n",
    "    messages: Annotated[list, add_messages]\n",
    "\n",
    "\n",
    "########## 2. 도구 정의 및 바인딩 ##########\n",
    "# 도구 초기화\n",
    "tool = TavilySearch(max_results=3)\n",
    "# 도구 목록 정의\n",
    "tools = [tool]\n",
    "\n",
    "# LLM 초기화\n",
    "llm = ChatOllama(model=\"llama3.1:8b\")\n",
    "# 도구와 LLM 결합\n",
    "llm_with_tools = llm.bind_tools(tools)\n",
    "\n",
    "\n",
    "########## 3. 노드 추가 ##########\n",
    "# 챗봇 함수 정의\n",
    "def chatbot(state: State):\n",
    "    # 메시지 호출 및 반환\n",
    "    return {\"messages\": [llm_with_tools.invoke(state[\"messages\"])]}\n",
    "\n",
    "\n",
    "# 상태 그래프 생성\n",
    "graph_builder = StateGraph(State)\n",
    "# 챗봇 노드 추가\n",
    "graph_builder.add_node(\"chatbot\", chatbot)\n",
    "\n",
    "# 도구 노드 생성 및 추가\n",
    "tool_node = ToolNode(tools=tools)\n",
    "# 도구 노드 추가\n",
    "graph_builder.add_node(\"tools\", tool_node)\n",
    "\n",
    "# 조건부 엣지\n",
    "graph_builder.add_conditional_edges(\n",
    "    \"chatbot\",\n",
    "    tools_condition,\n",
    ")\n",
    "\n",
    "########## 4. 엣지 추가 ##########\n",
    "# tools > chatbot\n",
    "graph_builder.add_edge(\"tools\", \"chatbot\")\n",
    "# START > chatbot\n",
    "graph_builder.add_edge(START, \"chatbot\")\n",
    "# chatbot > END\n",
    "graph_builder.add_edge(\"chatbot\", END)\n",
    "\n",
    "########## 5. 그래프 컴파일 ##########\n",
    "# 메모리 저장소 초기화\n",
    "memory = MemorySaver()\n",
    "# 그래프 빌더 컴파일\n",
    "graph = graph_builder.compile(checkpointer=memory)\n",
    "\n",
    "########## 6. 그래프 시각화 ##########\n",
    "# 그래프 시각화\n",
    "visualize_graph(graph)\n"
   ]
  },
  {
   "cell_type": "markdown",
   "metadata": {},
   "source": [
    "### 1. 중간 단계의 상태(State) 수동 업데이트"
   ]
  },
  {
   "cell_type": "markdown",
   "metadata": {},
   "source": [
    "##### 특정 단계 메세지 수정하기"
   ]
  },
  {
   "cell_type": "code",
   "execution_count": 2,
   "metadata": {},
   "outputs": [],
   "source": [
    "from langchain_core.runnables import RunnableConfig\n",
    "\n",
    "# 질문\n",
    "question = \"LangGraph 가 무엇인지 조사하여 알려주세요!\"\n",
    "\n",
    "# 초기 입력 상태를 정의\n",
    "input = State(messages=[(\"user\", question)])\n",
    "\n",
    "# config 설정\n",
    "config = RunnableConfig(\n",
    "    configurable={\"thread_id\": \"1\"},  # 스레드 ID 설정\n",
    ")"
   ]
  },
  {
   "cell_type": "markdown",
   "metadata": {},
   "source": [
    "* 우선 채널목록을 출력하여 `interrupt_before` 와 `interrupt_after` 를 적용할 수 있는 목록을 출력합니다."
   ]
  },
  {
   "cell_type": "code",
   "execution_count": 3,
   "metadata": {},
   "outputs": [
    {
     "data": {
      "text/plain": [
       "['messages',\n",
       " '__start__',\n",
       " 'chatbot',\n",
       " 'tools',\n",
       " 'branch:__start__:__self__:chatbot',\n",
       " 'branch:__start__:__self__:tools',\n",
       " 'branch:chatbot:__self__:chatbot',\n",
       " 'branch:chatbot:__self__:tools',\n",
       " 'branch:tools:__self__:chatbot',\n",
       " 'branch:tools:__self__:tools',\n",
       " 'start:chatbot',\n",
       " 'branch:chatbot:tools_condition:tools']"
      ]
     },
     "execution_count": 3,
     "metadata": {},
     "output_type": "execute_result"
    }
   ],
   "source": [
    "# 그래프 채널 목록 출력\n",
    "list(graph.channels)"
   ]
  },
  {
   "cell_type": "code",
   "execution_count": 4,
   "metadata": {},
   "outputs": [
    {
     "name": "stdout",
     "output_type": "stream",
     "text": [
      "================================\u001b[1m Human Message \u001b[0m=================================\n",
      "\n",
      "LangGraph 가 무엇인지 조사하여 알려주세요!\n",
      "==================================\u001b[1m Ai Message \u001b[0m==================================\n",
      "Tool Calls:\n",
      "  tavily_web_search (3f812c63-cc68-46fd-8ae4-6bbbaf2fd904)\n",
      " Call ID: 3f812c63-cc68-46fd-8ae4-6bbbaf2fd904\n",
      "  Args:\n",
      "    query: LangGraph\n"
     ]
    }
   ],
   "source": [
    "# 그래프 스트림 호출\n",
    "events = graph.stream(\n",
    "    input=input, config=config, interrupt_before=[\"tools\"], stream_mode=\"values\"\n",
    ")\n",
    "\n",
    "# 이벤트 반복 처리\n",
    "for event in events:\n",
    "    # 메시지가 이벤트에 포함된 경우\n",
    "    if \"messages\" in event:\n",
    "        # 마지막 메시지의 예쁜 출력\n",
    "        event[\"messages\"][-1].pretty_print()"
   ]
  },
  {
   "cell_type": "code",
   "execution_count": 5,
   "metadata": {},
   "outputs": [
    {
     "name": "stdout",
     "output_type": "stream",
     "text": [
      "==================================\u001b[1m Ai Message \u001b[0m==================================\n",
      "Tool Calls:\n",
      "  tavily_web_search (3f812c63-cc68-46fd-8ae4-6bbbaf2fd904)\n",
      " Call ID: 3f812c63-cc68-46fd-8ae4-6bbbaf2fd904\n",
      "  Args:\n",
      "    query: LangGraph\n"
     ]
    }
   ],
   "source": [
    "# 그래프 상태 스냅샷 생성\n",
    "snapshot = graph.get_state(config)\n",
    "\n",
    "# 가장 최근 메시지 추출\n",
    "last_message = snapshot.values[\"messages\"][-1]\n",
    "\n",
    "# 메시지 출력\n",
    "last_message.pretty_print()"
   ]
  },
  {
   "cell_type": "code",
   "execution_count": 6,
   "metadata": {},
   "outputs": [
    {
     "name": "stdout",
     "output_type": "stream",
     "text": [
      "[수정된 웹 검색 결과] \n",
      "LangGraph는 상태 기반의 다중 액터 애플리케이션을 LLM을 활용해 구축할 수 있도록 지원합니다.\n",
      "LangGraph는 사이클 흐름, 제어 가능성, 지속성, 클라우드 배포 기능을 제공하는 오픈 소스 라이브러리입니다.\n",
      "\n",
      "자세한 튜토리얼은 [LangGraph 튜토리얼](https://langchain-ai.github.io/langgraph/tutorials/) 과\n",
      "테디노트의 [랭체인 한국어 튜토리얼](https://wikidocs.net/233785) 을 참고하세요.\n"
     ]
    }
   ],
   "source": [
    "modified_search_result = \"\"\"[수정된 웹 검색 결과] \n",
    "LangGraph는 상태 기반의 다중 액터 애플리케이션을 LLM을 활용해 구축할 수 있도록 지원합니다.\n",
    "LangGraph는 사이클 흐름, 제어 가능성, 지속성, 클라우드 배포 기능을 제공하는 오픈 소스 라이브러리입니다.\n",
    "\n",
    "자세한 튜토리얼은 [LangGraph 튜토리얼](https://langchain-ai.github.io/langgraph/tutorials/) 과\n",
    "테디노트의 [랭체인 한국어 튜토리얼](https://wikidocs.net/233785) 을 참고하세요.\"\"\"\n",
    "\n",
    "print(modified_search_result)"
   ]
  },
  {
   "cell_type": "code",
   "execution_count": 7,
   "metadata": {},
   "outputs": [
    {
     "name": "stdout",
     "output_type": "stream",
     "text": [
      "3f812c63-cc68-46fd-8ae4-6bbbaf2fd904\n"
     ]
    }
   ],
   "source": [
    "# 수정하고자 하는 `ToolMessage` 의 `tool_call_id` 추출\n",
    "tool_call_id = last_message.tool_calls[0][\"id\"]\n",
    "print(tool_call_id)"
   ]
  },
  {
   "cell_type": "code",
   "execution_count": 8,
   "metadata": {},
   "outputs": [
    {
     "name": "stdout",
     "output_type": "stream",
     "text": [
      "=================================\u001b[1m Tool Message \u001b[0m=================================\n",
      "\n",
      "[수정된 웹 검색 결과] \n",
      "LangGraph는 상태 기반의 다중 액터 애플리케이션을 LLM을 활용해 구축할 수 있도록 지원합니다.\n",
      "LangGraph는 사이클 흐름, 제어 가능성, 지속성, 클라우드 배포 기능을 제공하는 오픈 소스 라이브러리입니다.\n",
      "\n",
      "자세한 튜토리얼은 [LangGraph 튜토리얼](https://langchain-ai.github.io/langgraph/tutorials/) 과\n",
      "테디노트의 [랭체인 한국어 튜토리얼](https://wikidocs.net/233785) 을 참고하세요.\n"
     ]
    }
   ],
   "source": [
    "from langchain_core.messages import AIMessage, ToolMessage\n",
    "\n",
    "new_messages = [\n",
    "    # LLM API의 도구 호출과 일치하는 ToolMessage 필요\n",
    "    ToolMessage(\n",
    "        content=modified_search_result,\n",
    "        tool_call_id=tool_call_id,\n",
    "    ),\n",
    "    # LLM의 응답에 직접적으로 내용 추가\n",
    "    # AIMessage(content=modified_search_result),\n",
    "]\n",
    "\n",
    "new_messages[-1].pretty_print()"
   ]
  },
  {
   "cell_type": "markdown",
   "metadata": {},
   "source": [
    "##### StateGraph의 update_state 메서드"
   ]
  },
  {
   "cell_type": "code",
   "execution_count": 33,
   "metadata": {},
   "outputs": [],
   "source": [
    "# 노드 메세지가 어떻게 쌓이고 있는지 체크하기위한 함수.\n",
    "from utils import check_state"
   ]
  },
  {
   "cell_type": "code",
   "execution_count": 10,
   "metadata": {},
   "outputs": [
    {
     "name": "stdout",
     "output_type": "stream",
     "text": [
      "(최근 1개의 메시지 출력)\n",
      "\n",
      "content='[수정된 웹 검색 결과] \\nLangGraph는 상태 기반의 다중 액터 애플리케이션을 LLM을 활용해 구축할 수 있도록 지원합니다.\\nLangGraph는 사이클 흐름, 제어 가능성, 지속성, 클라우드 배포 기능을 제공하는 오픈 소스 라이브러리입니다.\\n\\n자세한 튜토리얼은 [LangGraph 튜토리얼](https://langchain-ai.github.io/langgraph/tutorials/) 과\\n테디노트의 [랭체인 한국어 튜토리얼](https://wikidocs.net/233785) 을 참고하세요.' id='7f217e4d-7709-4e66-a38c-e0be16da813c' tool_call_id='3f812c63-cc68-46fd-8ae4-6bbbaf2fd904'\n"
     ]
    }
   ],
   "source": [
    "graph.update_state(\n",
    "    # 업데이트할 상태 지정\n",
    "    config,\n",
    "    # 제공할 업데이트된 값. `State`의 메시지는 \"추가 전용\"으로 기존 상태에 추가됨\n",
    "    {\"messages\": new_messages},\n",
    "    as_node=\"tools\",\n",
    ")\n",
    "\n",
    "print(\"(최근 1개의 메시지 출력)\\n\")\n",
    "print(graph.get_state(config).values[\"messages\"][-1])"
   ]
  },
  {
   "cell_type": "code",
   "execution_count": 11,
   "metadata": {},
   "outputs": [
    {
     "data": {
      "text/plain": [
       "('chatbot',)"
      ]
     },
     "execution_count": 11,
     "metadata": {},
     "output_type": "execute_result"
    }
   ],
   "source": [
    "snapshot = graph.get_state(config)\n",
    "snapshot.next"
   ]
  },
  {
   "cell_type": "code",
   "execution_count": 12,
   "metadata": {},
   "outputs": [
    {
     "name": "stdout",
     "output_type": "stream",
     "text": [
      "=================================\u001b[1m Tool Message \u001b[0m=================================\n",
      "\n",
      "[수정된 웹 검색 결과] \n",
      "LangGraph는 상태 기반의 다중 액터 애플리케이션을 LLM을 활용해 구축할 수 있도록 지원합니다.\n",
      "LangGraph는 사이클 흐름, 제어 가능성, 지속성, 클라우드 배포 기능을 제공하는 오픈 소스 라이브러리입니다.\n",
      "\n",
      "자세한 튜토리얼은 [LangGraph 튜토리얼](https://langchain-ai.github.io/langgraph/tutorials/) 과\n",
      "테디노트의 [랭체인 한국어 튜토리얼](https://wikidocs.net/233785) 을 참고하세요.\n",
      "==================================\u001b[1m Ai Message \u001b[0m==================================\n",
      "\n",
      "LangGraph는 상태 기반의 다중 액터 애플리케이션을 LLM(대규모 언어 모델)을 활용해 구축할 수 있도록 지원하는 오픈 소스 라이브러리입니다. LangGraph는 사이클 흐름, 제어 가능성, 지속성, 클라우드 배포 기능을 제공합니다. LangGraph의 자세한 튜토리얼은 공식 홈페이지와 TeddyNote의 한국어 튜토리얼에서 확인할 수 있습니다.\n"
     ]
    }
   ],
   "source": [
    "# `None`는 현재 상태에 아무것도 추가하지 않음\n",
    "# thread_id = 1\n",
    "# 그래프 중단지점부터 재시작 \n",
    "events = graph.stream(None, config, stream_mode=\"values\")\n",
    "\n",
    "# 이벤트 반복 처리\n",
    "for event in events:\n",
    "    # 메시지가 이벤트에 포함된 경우\n",
    "    if \"messages\" in event:\n",
    "        # 마지막 메시지의 예쁜 출력\n",
    "        event[\"messages\"][-1].pretty_print()"
   ]
  },
  {
   "cell_type": "code",
   "execution_count": 13,
   "metadata": {},
   "outputs": [
    {
     "name": "stdout",
     "output_type": "stream",
     "text": [
      "================================\u001b[1m Human Message \u001b[0m=================================\n",
      "\n",
      "LangGraph 가 무엇인지 조사하여 알려주세요!\n",
      "==================================\u001b[1m Ai Message \u001b[0m==================================\n",
      "Tool Calls:\n",
      "  tavily_web_search (3f812c63-cc68-46fd-8ae4-6bbbaf2fd904)\n",
      " Call ID: 3f812c63-cc68-46fd-8ae4-6bbbaf2fd904\n",
      "  Args:\n",
      "    query: LangGraph\n",
      "=================================\u001b[1m Tool Message \u001b[0m=================================\n",
      "\n",
      "[수정된 웹 검색 결과] \n",
      "LangGraph는 상태 기반의 다중 액터 애플리케이션을 LLM을 활용해 구축할 수 있도록 지원합니다.\n",
      "LangGraph는 사이클 흐름, 제어 가능성, 지속성, 클라우드 배포 기능을 제공하는 오픈 소스 라이브러리입니다.\n",
      "\n",
      "자세한 튜토리얼은 [LangGraph 튜토리얼](https://langchain-ai.github.io/langgraph/tutorials/) 과\n",
      "테디노트의 [랭체인 한국어 튜토리얼](https://wikidocs.net/233785) 을 참고하세요.\n",
      "==================================\u001b[1m Ai Message \u001b[0m==================================\n",
      "\n",
      "LangGraph는 상태 기반의 다중 액터 애플리케이션을 LLM(대규모 언어 모델)을 활용해 구축할 수 있도록 지원하는 오픈 소스 라이브러리입니다. LangGraph는 사이클 흐름, 제어 가능성, 지속성, 클라우드 배포 기능을 제공합니다. LangGraph의 자세한 튜토리얼은 공식 홈페이지와 TeddyNote의 한국어 튜토리얼에서 확인할 수 있습니다.\n"
     ]
    }
   ],
   "source": [
    "# 그래프 상태 스냅샷 생성\n",
    "# thread_id = 1\n",
    "snapshot = graph.get_state(config)\n",
    "\n",
    "# 최근 세 개의 메시지 출력\n",
    "for message in snapshot.values[\"messages\"]:\n",
    "    message.pretty_print()\n"
   ]
  },
  {
   "cell_type": "code",
   "execution_count": 14,
   "metadata": {},
   "outputs": [
    {
     "data": {
      "text/plain": [
       "{'configurable': {'thread_id': '1',\n",
       "  'checkpoint_ns': '',\n",
       "  'checkpoint_id': '1efe50dc-7a2b-6d3a-8004-5a6b542e2e76'}}"
      ]
     },
     "execution_count": 14,
     "metadata": {},
     "output_type": "execute_result"
    }
   ],
   "source": [
    "# 이 함수가 작동할 노드 지정. 이 노드가 방금 실행된 것처럼 자동으로 처리 계속\n",
    "# thread_id = 1\n",
    "graph.update_state(\n",
    "    config,\n",
    "    {\n",
    "        \"messages\": [\n",
    "            AIMessage(content=\"마지막으로 최종 메시지를 추가하여 마무리 합니다.\")\n",
    "        ]\n",
    "    },\n",
    "    as_node=\"chatbot\",\n",
    ")\n"
   ]
  },
  {
   "cell_type": "code",
   "execution_count": 15,
   "metadata": {},
   "outputs": [
    {
     "name": "stdout",
     "output_type": "stream",
     "text": [
      "================================\u001b[1m Human Message \u001b[0m=================================\n",
      "\n",
      "LangGraph 가 무엇인지 조사하여 알려주세요!\n",
      "==================================\u001b[1m Ai Message \u001b[0m==================================\n",
      "Tool Calls:\n",
      "  tavily_web_search (3f812c63-cc68-46fd-8ae4-6bbbaf2fd904)\n",
      " Call ID: 3f812c63-cc68-46fd-8ae4-6bbbaf2fd904\n",
      "  Args:\n",
      "    query: LangGraph\n",
      "=================================\u001b[1m Tool Message \u001b[0m=================================\n",
      "\n",
      "[수정된 웹 검색 결과] \n",
      "LangGraph는 상태 기반의 다중 액터 애플리케이션을 LLM을 활용해 구축할 수 있도록 지원합니다.\n",
      "LangGraph는 사이클 흐름, 제어 가능성, 지속성, 클라우드 배포 기능을 제공하는 오픈 소스 라이브러리입니다.\n",
      "\n",
      "자세한 튜토리얼은 [LangGraph 튜토리얼](https://langchain-ai.github.io/langgraph/tutorials/) 과\n",
      "테디노트의 [랭체인 한국어 튜토리얼](https://wikidocs.net/233785) 을 참고하세요.\n",
      "==================================\u001b[1m Ai Message \u001b[0m==================================\n",
      "\n",
      "LangGraph는 상태 기반의 다중 액터 애플리케이션을 LLM(대규모 언어 모델)을 활용해 구축할 수 있도록 지원하는 오픈 소스 라이브러리입니다. LangGraph는 사이클 흐름, 제어 가능성, 지속성, 클라우드 배포 기능을 제공합니다. LangGraph의 자세한 튜토리얼은 공식 홈페이지와 TeddyNote의 한국어 튜토리얼에서 확인할 수 있습니다.\n",
      "==================================\u001b[1m Ai Message \u001b[0m==================================\n",
      "\n",
      "마지막으로 최종 메시지를 추가하여 마무리 합니다.\n"
     ]
    }
   ],
   "source": [
    "# 그래프 상태 스냅샷 생성\n",
    "snapshot = graph.get_state(config)\n",
    "\n",
    "# 최근 세 개의 메시지 출력\n",
    "for message in snapshot.values[\"messages\"]:\n",
    "    message.pretty_print()"
   ]
  },
  {
   "cell_type": "code",
   "execution_count": 16,
   "metadata": {},
   "outputs": [
    {
     "name": "stdout",
     "output_type": "stream",
     "text": [
      "()\n"
     ]
    }
   ],
   "source": [
    "# 다음 상태 출력\n",
    "print(snapshot.next)"
   ]
  },
  {
   "cell_type": "code",
   "execution_count": 17,
   "metadata": {},
   "outputs": [
    {
     "name": "stdout",
     "output_type": "stream",
     "text": [
      "dd7cac91-af41-4af2-9cae-4eba8767fa68\n",
      "메시지 수:  5 다음 노드:  ()\n",
      "--------------------------------------------------------------------------------\n",
      "run-7dc0aabc-78bf-4673-922d-a987f523a343-0\n",
      "메시지 수:  4 다음 노드:  ()\n",
      "--------------------------------------------------------------------------------\n",
      "7f217e4d-7709-4e66-a38c-e0be16da813c\n",
      "메시지 수:  3 다음 노드:  ('chatbot',)\n",
      "--------------------------------------------------------------------------------\n",
      "run-cb1ef320-c55c-415a-b6cd-ccc861167e31-0\n",
      "메시지 수:  2 다음 노드:  ('tools',)\n",
      "--------------------------------------------------------------------------------\n",
      "ab7d964d-c8dd-4731-97a5-053d187b370b\n",
      "메시지 수:  1 다음 노드:  ('chatbot',)\n",
      "--------------------------------------------------------------------------------\n"
     ]
    }
   ],
   "source": [
    "# ---------- 상태 체크 ---------- #\n",
    "# 상태 기록 가져오기\n",
    "check_state(graph, config)\n"
   ]
  },
  {
   "cell_type": "markdown",
   "metadata": {},
   "source": [
    "### 2. Interrupt 후 메시지 상태 업데이트 - 이어서 진행"
   ]
  },
  {
   "cell_type": "code",
   "execution_count": 18,
   "metadata": {},
   "outputs": [
    {
     "name": "stdout",
     "output_type": "stream",
     "text": [
      "thread_id: df588e\n",
      "================================\u001b[1m Human Message \u001b[0m=================================\n",
      "\n",
      "LangGraph 에 대해서 배워보고 싶습니다. 유용한 자료를 추천해 주세요!\n",
      "==================================\u001b[1m Ai Message \u001b[0m==================================\n",
      "Tool Calls:\n",
      "  tavily_web_search (3b94da34-1a58-4af1-a507-60d2fe2c6e55)\n",
      " Call ID: 3b94da34-1a58-4af1-a507-60d2fe2c6e55\n",
      "  Args:\n",
      "    query: LangGraph 관련된자료\n"
     ]
    }
   ],
   "source": [
    "from langchain_teddynote.graphs import generate_random_hash\n",
    "\n",
    "# 같은 graph(1번에서 다 돌고 끝난 그래프)에 새로운 thread_id로 시작.\n",
    "thread_id = generate_random_hash()\n",
    "print(f\"thread_id: {thread_id}\")\n",
    "\n",
    "question = \"LangGraph 에 대해서 배워보고 싶습니다. 유용한 자료를 추천해 주세요!\"\n",
    "\n",
    "# 초기 입력 상태를 정의\n",
    "input = State(messages=[(\"user\", question)])\n",
    "\n",
    "# 새로운 config 생성\n",
    "config = {\"configurable\": {\"thread_id\": thread_id}}\n",
    "\n",
    "events = graph.stream(\n",
    "    input=input,\n",
    "    config=config,\n",
    "    interrupt_before=[\"tools\"],\n",
    "    stream_mode=\"values\",\n",
    ")\n",
    "for event in events:\n",
    "    if \"messages\" in event:\n",
    "        event[\"messages\"][-1].pretty_print()"
   ]
  },
  {
   "cell_type": "code",
   "execution_count": 19,
   "metadata": {},
   "outputs": [
    {
     "name": "stdout",
     "output_type": "stream",
     "text": [
      "Message ID run-60047d7d-8652-4e40-bf9a-3783caaeb9d2-0\n"
     ]
    }
   ],
   "source": [
    "from langchain_core.messages import AIMessage\n",
    "\n",
    "# 스냅샷 상태 가져오기\n",
    "snapshot = graph.get_state(config)\n",
    "# messages 의 마지막 메시지 가져오기\n",
    "existing_message = snapshot.values[\"messages\"][-1]\n",
    "\n",
    "# 메시지 ID 출력\n",
    "print(\"Message ID\", existing_message.id)"
   ]
  },
  {
   "cell_type": "code",
   "execution_count": 22,
   "metadata": {},
   "outputs": [
    {
     "name": "stdout",
     "output_type": "stream",
     "text": [
      "run-60047d7d-8652-4e40-bf9a-3783caaeb9d2-0\n",
      "메시지 수:  2 다음 노드:  ('tools',)\n",
      "--------------------------------------------------------------------------------\n",
      "53884b1b-26ac-4411-a9dd-037d68163c65\n",
      "메시지 수:  1 다음 노드:  ('chatbot',)\n",
      "--------------------------------------------------------------------------------\n"
     ]
    }
   ],
   "source": [
    "# ---------- 상태 체크 ---------- #\n",
    "# 상태 기록 가져오기\n",
    "check_state(graph, config)\n"
   ]
  },
  {
   "cell_type": "code",
   "execution_count": 23,
   "metadata": {},
   "outputs": [
    {
     "name": "stdout",
     "output_type": "stream",
     "text": [
      "{'name': 'tavily_web_search', 'args': {'query': 'LangGraph 관련된자료'}, 'id': '3b94da34-1a58-4af1-a507-60d2fe2c6e55', 'type': 'tool_call'}\n"
     ]
    }
   ],
   "source": [
    "# 첫 번째 도구 호출 출력\n",
    "print(existing_message.tool_calls[0])"
   ]
  },
  {
   "cell_type": "code",
   "execution_count": 24,
   "metadata": {},
   "outputs": [
    {
     "data": {
      "text/plain": [
       "{'name': 'tavily_web_search',\n",
       " 'args': {'query': 'LangGraph site:teddylee777.github.io'},\n",
       " 'id': '3b94da34-1a58-4af1-a507-60d2fe2c6e55',\n",
       " 'type': 'tool_call'}"
      ]
     },
     "execution_count": 24,
     "metadata": {},
     "output_type": "execute_result"
    }
   ],
   "source": [
    "# tool_calls 를 복사하여 새로운 도구 호출 생성\n",
    "new_tool_call = existing_message.tool_calls[0].copy()\n",
    "\n",
    "# 쿼리 매개변수 업데이트(갱신)\n",
    "new_tool_call[\"args\"] = {\"query\": \"LangGraph site:teddylee777.github.io\"}\n",
    "new_tool_call"
   ]
  },
  {
   "cell_type": "code",
   "execution_count": 25,
   "metadata": {},
   "outputs": [
    {
     "name": "stdout",
     "output_type": "stream",
     "text": [
      "run-60047d7d-8652-4e40-bf9a-3783caaeb9d2-0\n",
      "==================================\u001b[1m Ai Message \u001b[0m==================================\n",
      "Tool Calls:\n",
      "  tavily_web_search (3b94da34-1a58-4af1-a507-60d2fe2c6e55)\n",
      " Call ID: 3b94da34-1a58-4af1-a507-60d2fe2c6e55\n",
      "  Args:\n",
      "    query: LangGraph site:teddylee777.github.io\n"
     ]
    }
   ],
   "source": [
    "# AIMessage 생성\n",
    "new_message = AIMessage(\n",
    "    content=existing_message.content, # 원래 비어있었지만, 암튼 기존꺼 그대로 넣어줌.\n",
    "    tool_calls=[new_tool_call],\n",
    "    # 중요! ID는 메시지를 상태에 추가하는 대신 교체하는 방법\n",
    "    id=existing_message.id,\n",
    ")\n",
    "\n",
    "print(new_message.id)\n",
    "\n",
    "# 수정한 메시지 출력\n",
    "new_message.pretty_print()"
   ]
  },
  {
   "cell_type": "code",
   "execution_count": 26,
   "metadata": {},
   "outputs": [
    {
     "name": "stdout",
     "output_type": "stream",
     "text": [
      "{'name': 'tavily_web_search', 'args': {'query': 'LangGraph site:teddylee777.github.io'}, 'id': '3b94da34-1a58-4af1-a507-60d2fe2c6e55', 'type': 'tool_call'}\n",
      "\n",
      "Message ID run-60047d7d-8652-4e40-bf9a-3783caaeb9d2-0\n"
     ]
    },
    {
     "data": {
      "text/plain": [
       "{'configurable': {'thread_id': 'df588e',\n",
       "  'checkpoint_ns': '',\n",
       "  'checkpoint_id': '1efe50f2-2dab-6ce2-8002-ecadace9d953'}}"
      ]
     },
     "execution_count": 26,
     "metadata": {},
     "output_type": "execute_result"
    }
   ],
   "source": [
    "# 업데이트된 도구 호출 출력\n",
    "print(new_message.tool_calls[0])\n",
    "# 메시지 ID 출력\n",
    "print(\"\\nMessage ID\", new_message.id)\n",
    "\n",
    "# 상태 업데이트\n",
    "# thread_id: df588e\n",
    "graph.update_state(config, {\"messages\": [new_message]})"
   ]
  },
  {
   "cell_type": "code",
   "execution_count": 27,
   "metadata": {},
   "outputs": [
    {
     "data": {
      "text/plain": [
       "[{'name': 'tavily_web_search',\n",
       "  'args': {'query': 'LangGraph site:teddylee777.github.io'},\n",
       "  'id': '3b94da34-1a58-4af1-a507-60d2fe2c6e55',\n",
       "  'type': 'tool_call'}]"
      ]
     },
     "execution_count": 27,
     "metadata": {},
     "output_type": "execute_result"
    }
   ],
   "source": [
    "# 마지막 메시지의 도구 호출 가져오기\n",
    "# 업데이트 잘 됐는지 확인\n",
    "graph.get_state(config).values[\"messages\"][-1].tool_calls"
   ]
  },
  {
   "cell_type": "code",
   "execution_count": 28,
   "metadata": {},
   "outputs": [
    {
     "name": "stdout",
     "output_type": "stream",
     "text": [
      "run-60047d7d-8652-4e40-bf9a-3783caaeb9d2-0\n",
      "메시지 수:  2 다음 노드:  ('tools',)\n",
      "--------------------------------------------------------------------------------\n",
      "run-60047d7d-8652-4e40-bf9a-3783caaeb9d2-0\n",
      "메시지 수:  2 다음 노드:  ('tools',)\n",
      "--------------------------------------------------------------------------------\n",
      "53884b1b-26ac-4411-a9dd-037d68163c65\n",
      "메시지 수:  1 다음 노드:  ('chatbot',)\n",
      "--------------------------------------------------------------------------------\n"
     ]
    }
   ],
   "source": [
    "# ---------- 상태 체크 ---------- #\n",
    "# 상태 기록 가져오기\n",
    "check_state(graph, config)\n"
   ]
  },
  {
   "cell_type": "code",
   "execution_count": 29,
   "metadata": {},
   "outputs": [
    {
     "name": "stdout",
     "output_type": "stream",
     "text": [
      "==================================\u001b[1m Ai Message \u001b[0m==================================\n",
      "Tool Calls:\n",
      "  tavily_web_search (3b94da34-1a58-4af1-a507-60d2fe2c6e55)\n",
      " Call ID: 3b94da34-1a58-4af1-a507-60d2fe2c6e55\n",
      "  Args:\n",
      "    query: LangGraph site:teddylee777.github.io\n",
      "=================================\u001b[1m Tool Message \u001b[0m=================================\n",
      "Name: tavily_web_search\n",
      "\n",
      "[{\"title\": \"LangGraph - Multi-Agent Collaboration (다중 협업 ... - 테디노트\", \"url\": \"https://teddylee777.github.io/langgraph/langgraph-multi-agent-collaboration/\", \"content\": \"LangGraph - Multi-Agent Collaboration (다중 협업 에이전트) 로 복잡한 테스크를 수행하는 LLM 어플리케이션 제작 LangChain 에서 야심차게 LangGraph 를 새롭게 출시하였습니다.\", \"score\": 0.4031679, \"raw_content\": \"🔥알림🔥\\n① 테디노트 유튜브 -\\n구경하러 가기!\\n② LangChain 한국어 튜토리얼\\n바로가기 👀\\n③ 랭체인 노트 무료 전자책(wikidocs)\\n바로가기 🙌\\n④ RAG 비법노트 LangChain 강의오픈\\n바로가기 🙌\\n⑤ 서울대 PyTorch 딥러닝 강의\\n바로가기 🙌\\nLangGraph - Multi-Agent Collaboration(다중 협업 에이전트) 로 복잡한 테스크를 수행하는 LLM 어플리케이션 제작\\n2024년 01월 29일\\n26 분 소요\\nLangChain 에서 야심차게 LangGraph 를 새롭게 출시하였습니다. LangGraph 라이브러리가 출시하게 된 가장 큰 이유는 “복잡한 문제들은 단일 AI 에이전트만으로 해결하기 어렵다” 라는 문장에서 시작합니다.\\n이 글에서는 LangGraph의 다중 에이전트 협업을 통해 이러한 문제들을 효과적으로 해결하는 방법을 소개합니다. 특히, LangGraph를 활용한 새로운 접근법을 중점적으로 다룹니다.\\nReference\\n본 튜토리얼은 LangGraph 튜토리얼 노트북 파일을 참조하여 작성하였습니다.\\n실습파일\\n요약\\n주요내용\\n튜토리얼 영상\\n기본 다중 에이전트 협업\\n단일 에이전트는 일반적으로 단일 도메인 내에서 소수의 도구를 사용하여 효과적으로 작동할 수 있지만, gpt-4와 같은 강력한 모델을 사용하더라도 많은 도구를 사용하는 데에는 덜 효과적일 수 있습니다.\\n복잡한 작업에 접근하는 한 가지 방법은 ‘나누고 정복하기(divide-and-conquer)’ 접근법입니다. 각 작업이나 도메인에 대해 전문화된 에이전트를 만들고 작업을 올바른 ‘전문가’에게 라우팅합니다.\\n이 노트북은 Wu 등이 작성한 논문 AutoGen: 다중 에이전트 대화를 통한 차세대 LLM 애플리케이션 가능하게 하기에서 영감을 받아 LangGraph를 사용하여 이를 수행하는 한 가지 방법을 보여줍니다.\\n결과적으로 생성된 그래프는 다음 다이어그램과 같은 모습일 것입니다.\\n필요한 패키지를 설치합니다.\\npython-dotenv 라이브러리를 사용하여 환경 변수에서 토큰 정보를 로드합니다.\\n이 라이브러리는 .env 파일에 저장된 환경 변수를 읽어와서 Python 프로그램에서 사용할 수 있게 해줍니다. load_dotenv 함수를 호출하여 .env 파일의 내용을 로드합니다.\\n_set_if_undefined는 환경 변수가 설정되어 있지 않을 경우 사용자로부터 해당 환경 변수의 값을 입력받아 설정하는 역할을 합니다. 이 함수는 OPENAI_API_KEY, LANGCHAIN_API_KEY, TAVILY_API_KEY 세 개의 API 키에 대해 환경 변수가 설정되어 있는지 확인하고, 없을 경우 사용자에게 입력을 요청합니다.\\n또한, LangSmith 추적 기능을 활성화하고 프로젝트 이름을 ‘Multi-agent Collaboration’으로 설정합니다.\\n에이전트 생성\\ncreate_agent는 AI 에이전트를 생성하는 데 사용됩니다. 이 에이전트는 다른 AI 보조자들과 협력하여 제공된 도구들을 사용해 질문에 대한 답변을 진행합니다. 에이전트는 최종 답변을 할 수 있는 경우 응답 앞에 ‘FINAL ANSWER’라고 표시하여 팀이 작업을 멈출 수 있도록 합니다.\\ncreate_agent 함수는 llm, tools, system_message 세 개의 매개변수를 받으며, 각 도구의 이름을 포함한 프롬프트를 생성하여 에이전트에게 전달합니다.\\nformat_tool_to_openai_function 함수는 도구를 OpenAI 함수 형식으로 변환하는 데 사용되며, ChatPromptTemplate.from_messages는 에이전트에게 전달될 메시지 템플릿을 생성합니다. 마지막으로, 생성된 프롬프트는 llm.bind_functions을 통해 에이전트의 기능과 결합됩니다.\\nTool(도구) 정의\\n우리의 에이전트들이 미래에 사용할 몇 가지 도구들을 정의할 것입니다\\n함수 python_repl은 주어진 파이썬 코드를 실행하고 그 결과를 반환합니다. 이 함수는 tool 데코레이터로 장식되어 있으며, 사용자가 제공한 코드를 PythonREPL 인스턴스를 통해 실행합니다.\\n실행 결과는 표준 출력으로 반환되며, 실행 중 발생한 예외는 오류 메시지와 함께 반환됩니다. 사용자는 print(...) 함수를 사용하여 값을 출력할 수 있습니다.\\n이 함수는 차트 생성과 같은 작업에 사용될 수 있습니다.\\n그래프 생성\\n이제 우리는 도구를 정의하고 몇 가지 헬퍼 함수를 만들었으므로, 아래에서 개별 에이전트를 생성하고 LangGraph를 사용하여 서로 통신하는 방법을 알려줄 것입니다.\\n상태 정의\\n우리는 먼저 그래프의 상태를 정의합니다. 이것은 가장 최근의 발신자를 추적하는 키와 함께 메시지의 리스트일 것입니다.\\n이 코드는 langchain 라이브러리를 사용하여 AI 에이전트와 상호작용하는 그래프 기반의 시스템을 구축하기 위한 준비 작업을 포함하고 있습니다.\\nAgentState 클래스는 에이전트의 상태를 나타내며, messages는 BaseMessage 객체의 시퀀스로 구성되며, sender는 메시지를 보낸 사람의 식별자를 나타냅니다.\\nAnnotated와 operator.add를 사용하여 messages 필드에 메시지를 추가할 수 있는 기능을 제공합니다.\\n에이전트 노드 정의하기\\n이제 노드를 정의할 필요가 있습니다. 먼저, 에이전트들을 위한 노드를 정의합시다.\\n함수 agent_node는 주어진 에이전트의 상태를 처리하고, 결과 메시지와 발신자 정보를 포함하는 딕셔너리를 반환합니다. FunctionMessage 인스턴스인 경우에는 특별한 처리를 하지 않고, 그렇지 않은 경우에는 HumanMessage 인스턴스로 변환합니다.\\nChatOpenAI 클래스의 인스턴스 llm은 모델 gpt-4-1106-preview를 사용하여 생성됩니다.\\nresearch_agent와 chart_agent는 각각 연구자와 차트 생성기를 위한 에이전트를 생성하며, 이들은 llm을 사용하고 특정 도구(tavily_tool, python_repl)와 시스템 메시지를 설정합니다. research_node와 chart_node는 functools.partial을 사용하여 agent_node 함수에 필요한 인자를 미리 설정한 콜백 함수를 생성합니다.\\nTool Node (도구 노드) 정의\\n우리는 이제 도구를 실행하는 노드를 정의합니다\\ntool_node는 상태 객체를 받아 마지막 메시지에서 도구 호출을 추출하고, 해당 도구를 실행한 후 결과를 FunctionMessage 형태로 반환합니다.\\n이 함수는 ToolExecutor 인스턴스를 사용하여 도구를 실행하며, 실행 결과는 새로운 메시지 리스트에 추가되어 반환됩니다.\\n단일 인자 입력은 값으로 직접 전달되며, 복수 인자의 경우 ToolInvocation 객체를 통해 전달됩니다.\\n에지 로직 정의\\n에이전트의 결과에 따라 무엇을 할지 결정하는 데 필요한 일부 에지 로직을 정의할 수 있습니다.\\nrouter는 상태 정보를 받아서 다음 단계를 결정합니다. 상태 정보에서 마지막 메시지를 확인하고, 이 메시지에 특정 키워드가 포함되어 있는지에 따라 다음 단계를 반환합니다.\\n만약 마지막 메시지의 additional_kwargs에 function_call이 포함되어 있다면, 이전 에이전트가 도구를 호출한 것으로 간주하고 \\\"call_tool\\\"을 반환합니다. 만약 마지막 메시지의 내용에 \\\"FINAL ANSWER\\\"가 포함되어 있다면, 작업이 완료되었다고 판단하고 \\\"end\\\"를 반환합니다. 그렇지 않으면 작업을 계속 진행해야 하므로 \\\"continue\\\"를 반환합니다.\\n그래프 정의하기\\n이제 모든 것을 종합하여 그래프를 정의할 수 있습니다!\\nStateGraph 클래스를 사용하여 상태 기반 워크플로우를 구성합니다.\\nAgentState를 기반으로 StateGraph 객체를 생성하고, add_node 메서드를 사용하여 여러 노드(Researcher, Chart Generator, call_tool)를 추가합니다.\\nadd_conditional_edges 메서드를 통해 조건부 엣지를 추가하여, 각 노드가 특정 조건에 따라 다른 노드로 이동할 수 있도록 합니다. 예를 들어, Researcher 노드는 router 함수의 결과에 따라 Chart Generator 또는 call_tool로 이동하거나 워크플로우를 종료할 수 있습니다. call_tool 노드는 sender 필드를 기반으로 원래 호출한 노드로 돌아갑니다.\\n마지막으로 set_entry_point 메서드로 시작점을 Researcher로 설정하고, compile 메서드로 워크플로우 그래프를 컴파일합니다.\\n호출\\n그래프가 생성되었으니 이제 호출할 수 있습니다! 몇 가지 통계를 차트로 나타내도록 해봅시다.\\n이 코드는 graph 객체의 stream 메소드를 사용하여 데이터를 스트리밍합니다.\\nHumanMessage 객체를 사용하여 대한민국의 2018년부터 2022년까지의 출산율 데이터를 요청하고, 해당 데이터에 대한 그래프를 그리도록 요청합니다. 또한, 코드 실행이 완료되면 종료하도록 메시지에 포함되어 있습니다.\\n스트림은 최대 200번의 재귀 호출로 제한됩니다.\\n라이선스\\n태그:\\nAutoGen,\\nLangChain,\\nLangGraph,\\nLLM,\\nPython,\\n그래프 기반 시스템,\\n노드,\\n다중 에이전트,\\n데이터 스트리밍,\\n딥러닝,\\n랭체인,\\n머신러닝,\\n멀티에이전트,\\n상태 정의,\\n에지 로직,\\n협업,\\n호출\\n카테고리:\\nlanggraph\\n업데이트: 2024년 01월 29일\\n참고\\npoetry 의 거의 모든것 (튜토리얼)\\n2024년 03월 30일\\n5 분 소요\\nPython 개발에 있어서 poetry는 매우 강력한 도구로, 프로젝트의 의존성 관리와 패키지 배포를 간소화하는 데 큰 도움을 줍니다. 지금부터 poetry 활용 튜토리얼을 살펴 보겠습니다.\\nLangGraph Retrieval Agent를 활용한 동적 문서 검색 및 처리\\n2024년 03월 06일\\n10 분 소요\\nLangGraph Retrieval Agent는 언어 처리, AI 모델 통합, 데이터베이스 관리, 그래프 기반 데이터 처리 등 다양한 기능을 제공하여 언어 기반 AI 애플리케이션 개발에 필수적인 도구입니다.\\n[Assistants API] Code Interpreter, Retrieval, Functions 활용법\\n2024년 02월 13일\\n35 분 소요\\nOpenAI의 새로운 Assistants API는 대화와 더불어 강력한 도구 접근성을 제공합니다. 본 튜토리얼은 OpenAI Assistants API를 활용하는 내용을 다룹니다. 특히, Assistant API 가 제공하는 도구인 Code Interpreter, Retrieval...\\n[LangChain] 에이전트(Agent)와 도구(tools)를 활용한 지능형 검색 시스템 구축 가이드\\n2024년 02월 09일\\n41 분 소요\\n이 글에서는 LangChain 의 Agent 프레임워크를 활용하여 복잡한 검색과 데이터 처리 작업을 수행하는 방법을 소개합니다. LangSmith 를 사용하여 Agent의 추론 단계를 추적합니다. Agent가 활용할 검색 도구(Tavily Search), PDF 기반 검색 리트리버...\"}, {\"title\": \"구글 코랩 (colab) 한글 깨짐 현상 해결방법 - 테디노트\", \"url\": \"https://teddylee777.github.io/colab/colab-korean/\", \"content\": \"구글 코랩(colab) 한글 깨짐 현상 해결방법 - 테디노트 Colab  구글 코랩(colab) 한글 깨짐 현상 해결방법 ② LangChain 한국어 튜토리얼 바로가기 👀 ④ RAG 비법노트 LangChain 강의오픈 바로가기 🙌 ⑤ 서울대 PyTorch 딥러닝 강의 바로가기 🙌 구글 코랩(colab) 한글 깨짐 현상 해결방법 코랩(Colab)의 런타임을 재시작 합니다. 구글 colab에서 시각화 라이브러리(matplotlib, seaborn)을 사용하게 되면 한글 깨짐 현상이 나타나게 됩니다. !sudo apt-get install -y fonts-nanum 코랩(Colab)의 런타임을 재시작 합니다. 태그: colab 한글, google colab, 구글 코랩, 코랩, 코랩 한글, 코랩 한글깨짐, 한글깨짐, 한글폰트 카테고리: colab LangGraph Retrieval Agent를 활용한 동적 문서 검색 및 처리 [Assistants API] Code Interpreter, Retrieval, Functions 활용법 특히, Assistant API 가 제공하는 도구인 Code Interpreter, Retrieval... [LangChain] 에이전트(Agent)와 도구(tools)를 활용한 지능형 검색 시스템 구축 가이드\", \"score\": 0.32859457, \"raw_content\": \"구글 코랩(colab) 한글 깨짐 현상 해결방법 - 테디노트\\n\\nSkip to primary navigation\\nSkip to content\\nSkip to footer\\n\\n테디노트 데이터와 인공지능을 좋아하는 개발자 노트\\n\\n검색\\n카테고리\\n태그\\n연도\\n강의\\n어바웃미\\n\\n토글 메뉴\\n\\nHome \\n/3.  Colab \\n/5.  구글 코랩(colab) 한글 깨짐 현상 해결방법\\n\\n🔥알림🔥\\n① 테디노트 유튜브 - 구경하러 가기!\\n② LangChain 한국어 튜토리얼 바로가기 👀\\n③ 랭체인 노트 무료 전자책(wikidocs) 바로가기 🙌\\n④ RAG 비법노트 LangChain 강의오픈 바로가기 🙌\\n⑤ 서울대 PyTorch 딥러닝 강의 바로가기 🙌\\n구글 코랩(colab) 한글 깨짐 현상 해결방법\\n2020년 06월 13일 최대 1 분 소요\\n목차\\n\\nSTEP 1. 나눔 폰트 설치 (Nanum)\\nSTEP 2. 코랩(Colab)의 런타임을 재시작 합니다.\\nSTEP 3. matplotlib의 폰트를 Nanum 폰트로 지정합니다.\\n\\n구글 colab에서 시각화 라이브러리(matplotlib, seaborn)을 사용하게 되면 한글 깨짐 현상이 나타나게 됩니다. 한글 폰트 깨짐 현상에 대한 해결 방법에 대하여 알려드리겠습니다.\\n\\n아래와 같이 한글 폰트가 깨지는 것을 확인할 수 있습니다\\n\\n\\nSTEP 1. 나눔 폰트 설치 (Nanum)\\ncolab 파일을 연 뒤 첫번 째 cell에 아래 코드를 붙혀 넣고 실행합니다.\\n!sudo apt-get install -y fonts-nanum\\n!sudo fc-cache -fv\\n!rm ~/.cache/matplotlib -rf\\n그럼 아래와 같이 설치를 진행하게 됩니다.\\n\\nSTEP 2. 코랩(Colab)의 런타임을 재시작 합니다.\\n런타임 - 런타임 다시 시작 을 클릭하여 런타임을 재시작합니다.\\n\\n\\n예를 클릭하여 재시작합니다\\n\\n\\nSTEP 3. matplotlib의 폰트를 Nanum 폰트로 지정합니다.\\n```\\nimport matplotlib.pyplot as plt\\nplt.rc('font', family='NanumBarunGothic') \\n```\\n\\n한글이 정상 출력됨을 확인합니다\\n\\n\\n태그: colab 한글, google colab, 구글 코랩, 코랩, 코랩 한글, 코랩 한글깨짐, 한글깨짐, 한글폰트\\n카테고리: colab\\n업데이트: 2020년 06월 13일\\n공유하기\\nTwitter Facebook LinkedIn\\n이전 다음\\n댓글남기기\\n참고\\npoetry 의 거의 모든것 (튜토리얼)\\n2024년 03월 30일 5 분 소요\\nPython 개발에 있어서 poetry는 매우 강력한 도구로, 프로젝트의 의존성 관리와 패키지 배포를 간소화하는 데 큰 도움을 줍니다. 지금부터 poetry 활용 튜토리얼을 살펴 보겠습니다.\\nLangGraph Retrieval Agent를 활용한 동적 문서 검색 및 처리\\n2024년 03월 06일 10 분 소요\\nLangGraph Retrieval Agent는 언어 처리, AI 모델 통합, 데이터베이스 관리, 그래프 기반 데이터 처리 등 다양한 기능을 제공하여 언어 기반 AI 애플리케이션 개발에 필수적인 도구입니다.\\n[Assistants API] Code Interpreter, Retrieval, Functions 활용법\\n2024년 02월 13일 35 분 소요\\nOpenAI의 새로운 Assistants API는 대화와 더불어 강력한 도구 접근성을 제공합니다. 본 튜토리얼은 OpenAI Assistants API를 활용하는 내용을 다룹니다. 특히, Assistant API 가 제공하는 도구인 Code Interpreter, Retrieval...\\n[LangChain] 에이전트(Agent)와 도구(tools)를 활용한 지능형 검색 시스템 구축 가이드\\n2024년 02월 09일 41 분 소요\\n이 글에서는 LangChain 의 Agent 프레임워크를 활용하여 복잡한 검색과 데이터 처리 작업을 수행하는 방법을 소개합니다. LangSmith 를 사용하여 Agent의 추론 단계를 추적합니다. Agent가 활용할 검색 도구(Tavily Search), PDF 기반 검색 리트리버...\\n\\n팔로우:\\nYouTube\\nGitHub\\nInstagram\\n피드\\n\\n© 2024 테디노트. Powered by Jekyll & Minimal Mistakes.\"}, {\"title\": \"LangGraph Retrieval Agent를 활용한 동적 문서 검색 및 처리\", \"url\": \"https://teddylee777.github.io/langgraph/langgraph-agentic-rag/\", \"content\": \"태그:\\nAI 애플리케이션,\\nlangchain,\\nlanggraph,\\nopenai,\\npython,\\nretrieval agent,\\n검색 에이전트,\\n그래프 기반 데이터 처리,\\n데이터베이스 관리,\\n문서 검색,\\n정보 처리\\n카테고리:\\nlanggraph\\n업데이트: 2024년 03월 06일\\n참고\\npoetry 의 거의 모든것 (튜토리얼)\\n2024년 03월 30일\\n5 분 소요\\nPython 개발에 있어서 poetry는 매우 강력한 도구로, 프로젝트의 의존성 관리와 패키지 배포를 간소화하는 데 큰 도움을 줍니다. 지금부터 poetry 활용 튜토리얼을 Agent state\\n그래프를 정의해야 합니다.\\n노드와 엣지(Nodes and Edges)\\n우리는 agentic RAG 그래프를 다음과 같이 구성할 수 있습니다\\n상태는 메시지의 집합입니다\\n각 노드는 상태를 업데이트(추가)합니다\\n조건부 엣지는 다음에 방문할 노드를 결정합니다\\n문서 검색, 관련성 평가, 질문 재구성, 그리고 답변 생성을 포함하는 정보 검색 및 처리 프로세스를 구현합니다.\\n Graph\\n에이전트로 시작하며, call_model\\n에이전트는 함수를 호출할지 결정합니다\\n만약 호출한다면, 도구(검색기)를 호출하는 action을 수행합니다\\n그 다음 메시지(state)에 도구의 출력을 추가하여 에이전트를 호출합니다\\nStateGraph 클래스는 상태 기반 그래프를 정의하고 관리하는 데 사용됩니다.\\n 특히, Assistant API 가 제공하는 도구인 Code Interpreter, Retrieval...\\n[LangChain] 에이전트(Agent)와 도구(tools)를 활용한 지능형 검색 시스템 구축 가이드\\n2024년 02월 09일\\n41 분 소요\\n이 글에서는 LangChain 의 Agent 프레임워크를 활용하여 복잡한 검색과 LangChain 한국어 튜토리얼\\n바로가기 👀\\n③ 랭체인 노트 무료 전자책(wikidocs)\\n바로가기 🙌\\n\", \"score\": 0.2978277, \"raw_content\": \"🔥알림🔥\\n① 테디노트 유튜브 -\\n구경하러 가기!\\n② LangChain 한국어 튜토리얼\\n바로가기 👀\\n③ 랭체인 노트 무료 전자책(wikidocs)\\n바로가기 🙌\\nLangGraph Retrieval Agent를 활용한 동적 문서 검색 및 처리\\n2024년 03월 06일\\n10 분 소요\\nLangGraph Retrieval Agent는 언어 처리, AI 모델 통합, 데이터베이스 관리, 그래프 기반 데이터 처리 등 다양한 기능을 제공하여 언어 기반 AI 애플리케이션 개발에 필수적인 도구입니다.\\n본 블로그에서는 LangGraph와 Retrieval Agent의 통합 과정, 구현 방법, 그리고 실제 사용 예시를 통해 이러한 도구들의 효과적인 활용 방법을 탐구합니다.\\nPython 코드를 중심으로 설명을 진행하며, 실제 구현 예시를 통해 문서 검색 및 처리의 전체 흐름을 이해할 수 있도록 구성되어 있습니다.\\n주요 내용\\n설치\\n다양한 언어 처리 및 AI 관련 라이브러리를 설치하는 명령어입니다. langchain_community, tiktoken, langchain-openai, langchainhub, chromadb, langchain, langgraph 등의 패키지를 포함합니다.\\nAPI KEY를 로드합니다.\\nLangGraph Retrieval Agent\\n검색 에이전트는 인덱스에서 검색할지 여부에 대한 결정을 내리고 싶을 때 유용합니다.\\n검색 에이전트를 구현하기 위해서는 LLM에 검색 도구에 대한 접근 권한을 제공하기만 하면 됩니다. 이를 LangGraph로 구현해 봅시다!\\nRetriever\\n첫 번째로, 3개의 블로그 게시물을 인덱싱합니다.\\nLangChain의 create_retriever_tool 함수를 사용하여 특정 주제에 대한 블로그 게시물을 검색하고 정보를 반환하는 도구를 생성합니다. 이 예제에서는 Lilian Weng의 블로그 게시물 중 LLM 에이전트, 프롬프트 엔지니어링, LLM에 대한 적대적 공격에 관한 정보를 검색합니다.\\n생성된 도구는 ToolExecutor 클래스의 인스턴스에 등록되어 실행될 준비가 됩니다. ToolExecutor는 등록된 모든 도구를 관리하고 실행하는 역할을 담당합니다.\\nAgent state\\n그래프를 정의해야 합니다.\\n노드와 엣지(Nodes and Edges)\\n우리는 agentic RAG 그래프를 다음과 같이 구성할 수 있습니다\\n상태는 메시지의 집합입니다\\n각 노드는 상태를 업데이트(추가)합니다\\n조건부 엣지는 다음에 방문할 노드를 결정합니다\\n문서 검색, 관련성 평가, 질문 재구성, 그리고 답변 생성을 포함하는 정보 검색 및 처리 프로세스를 구현합니다.\\n각 단계는 특정 입력에 따라 동작하며, 이 과정은 대화형 에이전트나 정보 검색 시스템에서 유용하게 사용될 수 있습니다.\\nGraph\\n에이전트로 시작하며, call_model\\n에이전트는 함수를 호출할지 결정합니다\\n만약 호출한다면, 도구(검색기)를 호출하는 action을 수행합니다\\n그 다음 메시지(state)에 도구의 출력을 추가하여 에이전트를 호출합니다\\nStateGraph 클래스는 상태 기반 그래프를 정의하고 관리하는 데 사용됩니다.\\n주어진 코드는 워크플로우를 설정하여 에이전트의 결정에 따라 문서를 검색하거나 다른 작업을 수행하는 과정을 정의합니다.\\n처음에는 agent 노드를 시작점으로 설정하고, 에이전트의 결정(should_retrieve)에 따라 retrieve 노드를 호출하거나 작업을 종료합니다.\\nretrieve 노드 이후에는 문서의 평가(grade_documents)를 통해 generate 또는 rewrite 작업을 결정하고, 각각의 경로를 따라 최종적으로 작업을 마무리하거나 에이전트로 돌아가는 과정을 포함합니다.\\n이 과정은 복잡한 결정과 작업의 흐름을 관리하는 데 사용될 수 있으며, 최종적으로 워크플로우를 컴파일하여 실행 가능한 애플리케이션을 생성합니다.\\n다음은 langchain_core.messages 모듈의 HumanMessage 클래스를 활용하여 사용자의 질문을 정의하고, app.stream 메소드를 통해 이 질문에 대한 응답을 스트리밍하는 과정을 보여줍니다.\\nReference\\n본 튜토리얼은 langchain-ai 튜토리얼 노트북 파일을 참조하여 작성하였습니다.\\n태그:\\nAI 애플리케이션,\\nlangchain,\\nlanggraph,\\nopenai,\\npython,\\nretrieval agent,\\n검색 에이전트,\\n그래프 기반 데이터 처리,\\n데이터베이스 관리,\\n문서 검색,\\n정보 처리\\n카테고리:\\nlanggraph\\n업데이트: 2024년 03월 06일\\n참고\\npoetry 의 거의 모든것 (튜토리얼)\\n2024년 03월 30일\\n5 분 소요\\nPython 개발에 있어서 poetry는 매우 강력한 도구로, 프로젝트의 의존성 관리와 패키지 배포를 간소화하는 데 큰 도움을 줍니다. 지금부터 poetry 활용 튜토리얼을 살펴 보겠습니다.\\n[Assistants API] Code Interpreter, Retrieval, Functions 활용법\\n2024년 02월 13일\\n34 분 소요\\nOpenAI의 새로운 Assistants API는 대화와 더불어 강력한 도구 접근성을 제공합니다. 본 튜토리얼은 OpenAI Assistants API를 활용하는 내용을 다룹니다. 특히, Assistant API 가 제공하는 도구인 Code Interpreter, Retrieval...\\n[LangChain] 에이전트(Agent)와 도구(tools)를 활용한 지능형 검색 시스템 구축 가이드\\n2024년 02월 09일\\n41 분 소요\\n이 글에서는 LangChain 의 Agent 프레임워크를 활용하여 복잡한 검색과 데이터 처리 작업을 수행하는 방법을 소개합니다. LangSmith 를 사용하여 Agent의 추론 단계를 추적합니다. Agent가 활용할 검색 도구(Tavily Search), PDF 기반 검색 리트리버...\\nLangChain RAG 파헤치기: 문서 기반 QA 시스템 설계 방법 - 심화편\\n2024년 02월 06일\\n22 분 소요\\nLangChain의 RAG 시스템을 통해 문서(PDF, txt, 웹페이지 등)에 대한 질문-답변을 찾는 과정을 정리하였습니다.\"}]\n",
      "==================================\u001b[1m Ai Message \u001b[0m==================================\n",
      "\n",
      "이 글은 LangChain과 OpenAI Assistants API를 활용하여 지능형 검색 시스템 구축에 필요한 지침을 제공합니다. 본 글에서는 LangChain의 Agent 프레임워크와 OpenAI의 Assistants API를 사용하여 복잡한 검색과 데이터 처리 작업을 수행하는 방법을 소개하고, LangSmith를 사용하여 Agent의 추론 단계를 추적하는 방법을 설명합니다.\n"
     ]
    }
   ],
   "source": [
    "# 그래프 스트림에서 이벤트 수신\n",
    "# 다시 그래프 시작하기. \n",
    "# thread_id: df588e\n",
    "events = graph.stream(None, config, stream_mode=\"values\")\n",
    "\n",
    "# 각 이벤트에 대한 처리\n",
    "for event in events:\n",
    "    # 메시지가 있는 경우 마지막 메시지 출력\n",
    "    if \"messages\" in event:\n",
    "        event[\"messages\"][-1].pretty_print()"
   ]
  },
  {
   "cell_type": "code",
   "execution_count": 32,
   "metadata": {},
   "outputs": [
    {
     "name": "stdout",
     "output_type": "stream",
     "text": [
      "run-159914be-d6ff-422d-94a9-76e0deb58368-0\n",
      "메시지 수:  4 다음 노드:  ()\n",
      "--------------------------------------------------------------------------------\n",
      "dac299d7-8277-483e-b94d-2639abb385cf\n",
      "메시지 수:  3 다음 노드:  ('chatbot',)\n",
      "--------------------------------------------------------------------------------\n",
      "run-60047d7d-8652-4e40-bf9a-3783caaeb9d2-0\n",
      "메시지 수:  2 다음 노드:  ('tools',)\n",
      "--------------------------------------------------------------------------------\n",
      "run-60047d7d-8652-4e40-bf9a-3783caaeb9d2-0\n",
      "메시지 수:  2 다음 노드:  ('tools',)\n",
      "--------------------------------------------------------------------------------\n",
      "53884b1b-26ac-4411-a9dd-037d68163c65\n",
      "메시지 수:  1 다음 노드:  ('chatbot',)\n",
      "--------------------------------------------------------------------------------\n"
     ]
    }
   ],
   "source": [
    "from utils import check_state\n",
    "\n",
    "# thread_id: df588e\n",
    "check_state(graph, config)\n"
   ]
  },
  {
   "cell_type": "code",
   "execution_count": 34,
   "metadata": {},
   "outputs": [
    {
     "name": "stdout",
     "output_type": "stream",
     "text": [
      "================================\u001b[1m Human Message \u001b[0m=================================\n",
      "\n",
      "내가 지금까지 배운 내용에 대해서 매우 친절하고 정성스럽게 한국어로 답변해줘! 출처를 반드시 포함해줘!\n",
      "==================================\u001b[1m Ai Message \u001b[0m==================================\n",
      "Tool Calls:\n",
      "  tavily_web_search (d097b3e7-1b3c-4fe8-bd8e-4f0f4330b42e)\n",
      " Call ID: d097b3e7-1b3c-4fe8-bd8e-4f0f4330b42e\n",
      "  Args:\n",
      "    query: 총되일 나세요 횏로해유다장 주속하세요\n",
      "=================================\u001b[1m Tool Message \u001b[0m=================================\n",
      "Name: tavily_web_search\n",
      "\n",
      "[{\"title\": \"韓語祝賀語指南：掌握韓文祝福，開啟人際關係新篇章 | 姜允熙韓語教室\", \"url\": \"https://koreantalker.cc/祝賀-韓文\", \"content\": \"韓文筆記：新年祝賀語與其他常用祝賀語 隨著新年的到來，您是否希望以最地道的韓文向親朋好友獻上祝福？掌握韓文祝賀語不僅能展現您的語言能力，還能縮短與韓國朋友、同事或客戶之間的距離，開啟人際關係的新篇章。 我們從最常見的新年祝賀語入手。在韓國，通常會使用「새해 복 많이\", \"score\": 0.101456024, \"raw_content\": null}, {\"title\": \"김영철, 타일러의 진짜 미국식 영어 - 표현 정리 1-5회\", \"url\": \"https://agitate.tistory.com/249\", \"content\": \"출처: SBS 김영철의 파워 FM (링크) 1회 (2016. 11. 14.) 한국어: 번창하세요[대박나세요].영어 (1): Congratulations! Keep up the good work. (축하드려요! 앞으로도 번창하세요.)영어 (2): Congratulations! Keep it up. (축하드려요! 앞으로도 번창하세요.) 설명: 우선 그동안 잘 해온 것에 대한 칭찬(Congratulations!)을 먼저 한 다음\", \"score\": 0.06657539, \"raw_content\": \"\\n\\n\\t\\t\\t\\t\\t\\n\\t\\t\\t\\t\\t\\n\\t\\t\\t\\t\\t\\tArsene Lupin의 공부 블로그\\n\\t\\t\\t\\t\\t\\n\\t\\t\\t\\t\\n\\n김영철, 타일러의 진짜 미국식 영어 - 표현 정리 1-5회\\n출처: SBS 김영철의 파워 FM (링크)\\n\\n\\n1회 (2016. 11. 14.)\\n\\n한국어: 번창하세요[대박나세요].\\n영어 (1): Congratulations! Keep up the good work.\\n         (축하드려요! 앞으로도 번창하세요.)\\n영어 (2): Congratulations! Keep it up.\\n         (축하드려요! 앞으로도 번창하세요.)\\n\\n설명: 우선 그동안 잘 해온 것에 대한 칭찬(Congratulations!)을 먼저 한 다음, 앞으로도 계속 잘 되기를 바란다[그동안 했던 좋은 일을 계속하기를 바란다]는 의미의 표현(Keep up the good work. / Keep it up.)을 해 주는 것이 좋음.\\n\\n추가 표현: Hit the jackpot. \\n직역: 복권이나 도박에서 대박을 터뜨리다.\\n설명: 달성하기 어려운 일을 앞두고 있을 때 ‘잘하라’고 하거나, 부부가 결혼했는데 (배우자가) 너무 좋아서 ‘복권에 당첨된 것 같다’고 말해줄 때 사용.\\n\\n\\n2회 (2016. 11. 15.)\\n\\n한국어: 나 몸치야.\\n영어: I can’t dance to save my life.\\n     (죽어도 춤은 못 춰요.)\\n\\n설명: 생사가 걸린 일이라도 춤을 못 춘다, 즉 정말 춤을 못 춘다는 의미. I have two left feet.(나는 왼발이 두 개예요.)의 경우는 관용구이긴 하지만 자주 사용하지는 않음. ‘I can’t ~ to save my life.’를 이용하여 I can’t sing to save my life.나 I can’t do math to save my life.와 같은 표현도 사용할 수 있음.\\n\\n추가 표현: 역지사지(易地思之)\\n영어: Put yourself in someone else’s shoes.\\n     (스스로 다른 사람의 신발을 신어 보세요.)\\n\\n  \\n\\n3회 (2016. 11. 17.)\\n\\n한국어: (시험을 앞둔 사람에게) 실력 발휘 해.\\n영어: Kill it. \\n       (해치워 버려.)\\n\\n설명: 미국인의 경우 응원을 할 때 도전대상 또는 경쟁대상을 이기라는 식으로 표현하는 경향이 있음. 예를 들어 게임[경기]에 나서는 선수에게 Kill’em.(=Kill them. 상대편을 눌러 줘.)이나 Knock’em out.(상대편을 때려눕혀.)와 같은 식으로 응원함. 이것을 시험을 앞둔 사람에게도 사용할 수 있는데, 시험(a test)은 단수이므로 Kill it.과 같이 표현함. 이 외에 Show’em who’s boss.(누가 상사인지[진짜 힘이 센지] 보여 줘.)도 사용할 수 있음. Do your best.(최선을 다해.)도 사용할 수 있기는 함.\\n\\n추가 표현 (1): How are you?에 대한 대답들\\n영어 (1): (I’m) doing well[good].\\n영어 (2): Great. \\n추가 표현 (2): I think I need a cup of coffee.\\n             (커피 한 잔 마실 필요가 있는 것 같아요.)\\n\\n4회 (2016. 11. 18.)\\n\\n한국어: 손이 열 개라도 모자라. (=너무 바빠.)\\n영어 (1): I’m up to my neck in work.\\n         (일이 목까지 차올라서 더 할 수가 없어.)\\n영어 (2): I’ve got a lot of my plate right now.\\n         (접시에 더 담을 수 없을 정도로 가득 찼어요.)\\n\\n설명: I’m too busy.라고 말할 경우 상대방을 조금 세게 거절하는 느낌이 들기 때문에 ‘really’에 강세를 넣어 I’m really busy.라고 표현하는 게 더 적절함.\\n\\n추가 표현: I’m happy to be with you.\\n(함께 해서 기뻐요.)\\n\\n\\n5회 (2017. 1. 2.)\\n\\n한국어: 짚신도 짝이 있어.\\n영어: There’s plenty of fish in the sea.\\n     (바다에 물고기가 얼마나 많은데.)\\n\\n설명: 관용어로 쓰이는 Every Jack has his Jill.(모든 Jack에게는 그에게 맞는 Jill이 있다.)의 경우 남성에게만 해당하는 표현이므로 모든 상황에 쓰기에는 적절치 않음.\\n\\n영어공부 tip: 단어 하나하나에 대해 관심을 가져야 습득이 된다. 또는 관심을 가지고 있는 내용을 통해 영어를 배우는 것이 좋다.\\n태그\\n관련글\\n공지사항\\n최근글\\n인기글\\n최근댓글\\n태그\\n전체 방문자\\n188,504\\nToday : 7\\nYesterday : 25\\nDesigned by 티스토리\\n© Kakao Corp.\\n티스토리툴바\\n\\n\"}, {\"title\": \"온라인가나다 상세보기 (넘쳐오다, 넘쳐나다 / 넘쳐 오다, 넘쳐 나다) | 국립국어원\", \"url\": \"https://www.korean.go.kr/front/onlineQna/onlineQnaView.do?mn_id=216&qna_seq=289879\", \"content\": \"안녕하십니까? 1. '넘쳐 오다'가 (물이) 넘쳐서 (이쪽으로) 오는 것을 나타낸다면 '넘쳐 오다'로 띄어 씁니다. 만약 (물이) 넘치는 것이 계속 진행되어 온 것을 나타낸다면 보조 용언 '오다'가 쓰인 것이므로 '넘쳐 오다'로 띄어 쓰는 것이 원칙이나 붙여 쓰는 것도 허용할 수 있는데 이러한 표현이 쓰일\", \"score\": 0.03737261, \"raw_content\": null}]\n",
      "==================================\u001b[1m Ai Message \u001b[0m==================================\n",
      "\n",
      "내가 지금까지 배운 내용에 대해서 매우 친절하고 정성스럽게 한국어로 답변해주고 싶습니다!\n",
      "\n",
      "'번창하세요'는 한국의 경영학자들에 의해 만들어진 용어입니다. '번창'이라는 단어는 '축복'을 의미하며, '바른업'을 의미하는 한자 ' 번'과 '행'을 의미하는 한자가 합쳐진 것으로 추정됩니다. 또한, '번'에는 '성공', '부강'의 의미가 포함되어 있습니다.\n",
      "\n",
      "한국에서 '번창하세요'라는 표현은 경영학자들의 논문에 등장하여 gradually 인기를 얻었습니다. 1993년부터 한국의 경영학자들은 경영학 연구를 위해 경영학 학회를 만들었고, 그들의 활동을 통해 경영학이 사회적으로 인기가 높아지게 되었습니다.\n",
      "\n",
      "한국에서 '번창하세요'라는 표현은 경영학에 대한 관심이 높아지는 것을 나타냅니다. 또한, '번'에는 '성공', '부강'의 의미가 포함되어 있으므로, 이는 성공과 부강을 기원하는 표현으로 해석할 수 있습니다.\n",
      "\n",
      "따라서, '번창하세요'라는 표현은 한국인에게 경영학 연구에 대한 관심을 높이고, 그들의 연구 성과를 인상적으로 만들기 위해 사용되고 있는 것으로 보입니다.\n"
     ]
    }
   ],
   "source": [
    "# 새로운 메세지를 넣어서 다시 graph 시작 \n",
    "# 이벤트 스트림 생성\n",
    "# thread_id: df588e\n",
    "events = graph.stream(\n",
    "    {\n",
    "        \"messages\": (\n",
    "            \"user\",\n",
    "            \"내가 지금까지 배운 내용에 대해서 매우 친절하고 정성스럽게 한국어로 답변해줘! 출처를 반드시 포함해줘!\",\n",
    "            # 테디형이 이렇게 다시 질문을 해서 다시 graph를 시작하는 의도는,\n",
    "            # 앞에 query를 수정한 결과로 배운 대화를 이 config가 해당하는 thread_id의 checkpointer를 가지고\n",
    "            # 기억을 하고 있기 때문에, 그 기억을 반영해서 챗봇이 출처까지 넣어서 답변하는 것을 보여주기 위해서다.\n",
    "            # 하지만 Ollama llama3.1:8b 모델을 사용한다면 챗봇이 tool_call을 하면서 \n",
    "            # 이 부분에서 멍청하게 Query를 넣어서 멍청한 답변을 하고 있을 가능성이 커서 \n",
    "            # 테디형이 의도한대로 동작은 못하지만.. 아무튼 의도는 그렇다. \n",
    "        )\n",
    "    },\n",
    "    config,\n",
    "    stream_mode=\"values\",\n",
    ")\n",
    "\n",
    "# 메시지 이벤트 처리\n",
    "for event in events:\n",
    "    if \"messages\" in event:\n",
    "        # 마지막 메시지 출력\n",
    "        event[\"messages\"][-1].pretty_print()"
   ]
  },
  {
   "cell_type": "markdown",
   "metadata": {},
   "source": [
    "### Replay"
   ]
  },
  {
   "cell_type": "code",
   "execution_count": 35,
   "metadata": {},
   "outputs": [
    {
     "name": "stdout",
     "output_type": "stream",
     "text": [
      "메시지 수:  8 다음 노드:  ()\n",
      "--------------------------------------------------------------------------------\n",
      "메시지 수:  7 다음 노드:  ('chatbot',)\n",
      "--------------------------------------------------------------------------------\n",
      "메시지 수:  6 다음 노드:  ('tools',)\n",
      "--------------------------------------------------------------------------------\n",
      "메시지 수:  5 다음 노드:  ('chatbot',)\n",
      "--------------------------------------------------------------------------------\n",
      "메시지 수:  4 다음 노드:  ('__start__',)\n",
      "--------------------------------------------------------------------------------\n",
      "메시지 수:  4 다음 노드:  ()\n",
      "--------------------------------------------------------------------------------\n",
      "메시지 수:  3 다음 노드:  ('chatbot',)\n",
      "--------------------------------------------------------------------------------\n",
      "메시지 수:  2 다음 노드:  ('tools',)\n",
      "--------------------------------------------------------------------------------\n",
      "메시지 수:  2 다음 노드:  ('tools',)\n",
      "--------------------------------------------------------------------------------\n",
      "메시지 수:  1 다음 노드:  ('chatbot',)\n",
      "--------------------------------------------------------------------------------\n"
     ]
    }
   ],
   "source": [
    "to_replay_state = None\n",
    "\n",
    "# 상태 기록 가져오기\n",
    "# thread_id: df588e\n",
    "for state in graph.get_state_history(config):\n",
    "\n",
    "    messages = state.values[\"messages\"]\n",
    "\n",
    "    if len(messages) > 0:\n",
    "        # print(state.values[\"messages\"][-1].id) # message_id\n",
    "        # 메시지 수 및 다음 상태 출력\n",
    "        print(\"메시지 수: \", len(state.values[\"messages\"]), \"다음 노드: \", state.next)\n",
    "        print(\"-\" * 80)\n",
    "        # 특정 상태 선택 기준: 채팅 메시지 수\n",
    "        if len(state.values[\"messages\"]) == 2:\n",
    "            # 특정 메시지 ID 선택\n",
    "            to_replay_state = state\n",
    "\n",
    "\n",
    "# 같은 config(=같은 thread_id) 상에서 질문을 2번해서, 첫 번째 질문이 끝나고\n",
    "# () 노드가 끝난 뒤에, 다시 __start__로 돌아가는 node가 \n",
    "# 하나 더 추가된 뒤에, 이전의 메세지를 그대로 쥐고 \n",
    "# 다시 chatbot이 시작되면서 메세지를 4개 더 쌓은 것을 알 수 있다."
   ]
  },
  {
   "cell_type": "code",
   "execution_count": 36,
   "metadata": {},
   "outputs": [
    {
     "name": "stdout",
     "output_type": "stream",
     "text": [
      "    \u001b[93mcontent\u001b[0m: \"\"\n",
      "    \u001b[93madditional_kwargs\u001b[0m: {}\n",
      "    \u001b[93mresponse_metadata\u001b[0m:\n",
      "        \u001b[94mmodel\u001b[0m: \"llama3.1:8b\"\n",
      "        \u001b[94mcreated_at\u001b[0m: \"2025-02-07T04:43:50.231599Z\"\n",
      "        \u001b[94mdone\u001b[0m: True\n",
      "        \u001b[94mdone_reason\u001b[0m: \"stop\"\n",
      "        \u001b[94mtotal_duration\u001b[0m: 25568830834\n",
      "        \u001b[94mload_duration\u001b[0m: 19093365875\n",
      "        \u001b[94mprompt_eval_count\u001b[0m: 221\n",
      "        \u001b[94mprompt_eval_duration\u001b[0m: 4399000000\n",
      "        \u001b[94meval_count\u001b[0m: 24\n",
      "        \u001b[94meval_duration\u001b[0m: 2075000000\n",
      "        \u001b[94mmessage\u001b[0m: {\"role\": \"assistant\", \"content\": \"\", \"images\": None, \"tool_calls\": None}\n",
      "    \u001b[93mtype\u001b[0m: \"ai\"\n",
      "    \u001b[93mname\u001b[0m: None\n",
      "    \u001b[93mid\u001b[0m: \"run-60047d7d-8652-4e40-bf9a-3783caaeb9d2-0\"\n",
      "    \u001b[93mexample\u001b[0m: False\n",
      "    \u001b[93mtool_calls\u001b[0m:\n",
      "        \u001b[93mindex [0]\u001b[0m\n",
      "            \u001b[95mname\u001b[0m: \"tavily_web_search\"\n",
      "            \u001b[95margs\u001b[0m: {\"query\": \"LangGraph 관련된자료\"}\n",
      "            \u001b[95mid\u001b[0m: \"3b94da34-1a58-4af1-a507-60d2fe2c6e55\"\n",
      "            \u001b[95mtype\u001b[0m: \"tool_call\"\n",
      "    \u001b[93minvalid_tool_calls\u001b[0m:\n",
      "    \u001b[93musage_metadata\u001b[0m: {\"input_tokens\": 221, \"output_tokens\": 24, \"total_tokens\": 245}\n"
     ]
    }
   ],
   "source": [
    "from langchain_teddynote.messages import display_message_tree\n",
    "\n",
    "# 선택한 메시지(= 메세지가 2개 밖에 없을 때) 가져오기\n",
    "existing_message = to_replay_state.values[\"messages\"][-1]\n",
    "\n",
    "# 메시지 트리 출력\n",
    "display_message_tree(existing_message)\n"
   ]
  },
  {
   "cell_type": "code",
   "execution_count": 37,
   "metadata": {},
   "outputs": [
    {
     "data": {
      "text/plain": [
       "{'name': 'tavily_web_search',\n",
       " 'args': {'query': 'LangGraph human-in-the-loop workflow site:reddit.com'},\n",
       " 'id': '3b94da34-1a58-4af1-a507-60d2fe2c6e55',\n",
       " 'type': 'tool_call'}"
      ]
     },
     "execution_count": 37,
     "metadata": {},
     "output_type": "execute_result"
    }
   ],
   "source": [
    "# 아까한거랑 똑같이 query를 수정해보자. \n",
    "tool_call = existing_message.tool_calls[0].copy()\n",
    "tool_call[\"args\"] = {\"query\": \"LangGraph human-in-the-loop workflow site:reddit.com\"}\n",
    "tool_call"
   ]
  },
  {
   "cell_type": "code",
   "execution_count": 38,
   "metadata": {},
   "outputs": [
    {
     "data": {
      "text/plain": [
       "{'query': 'LangGraph human-in-the-loop workflow site:reddit.com'}"
      ]
     },
     "execution_count": 38,
     "metadata": {},
     "output_type": "execute_result"
    }
   ],
   "source": [
    "# AIMessage 생성\n",
    "new_message = AIMessage(\n",
    "    content=existing_message.content,\n",
    "    tool_calls=[tool_call],\n",
    "    # 중요! ID는 메시지를 상태에 추가하는 대신 교체하는 방법\n",
    "    id=existing_message.id,\n",
    ")\n",
    "\n",
    "# 수정한 메시지 출력\n",
    "new_message.tool_calls[0][\"args\"]"
   ]
  },
  {
   "cell_type": "code",
   "execution_count": 39,
   "metadata": {},
   "outputs": [
    {
     "data": {
      "text/plain": [
       "[{'name': 'tavily_web_search',\n",
       "  'args': {'query': 'LangGraph 관련된자료'},\n",
       "  'id': '3b94da34-1a58-4af1-a507-60d2fe2c6e55',\n",
       "  'type': 'tool_call'}]"
      ]
     },
     "execution_count": 39,
     "metadata": {},
     "output_type": "execute_result"
    }
   ],
   "source": [
    "# 수정 전 메시지 확인\n",
    "graph.get_state(to_replay_state.config).values[\"messages\"][-1].tool_calls\n"
   ]
  },
  {
   "cell_type": "code",
   "execution_count": 40,
   "metadata": {},
   "outputs": [
    {
     "data": {
      "text/plain": [
       "{'configurable': {'thread_id': 'df588e',\n",
       "  'checkpoint_ns': '',\n",
       "  'checkpoint_id': '1efe5126-f4b5-6b1a-8002-ec4412ca6263'}}"
      ]
     },
     "execution_count": 40,
     "metadata": {},
     "output_type": "execute_result"
    }
   ],
   "source": [
    "# 상태 업데이트\n",
    "updated_state = graph.update_state(\n",
    "    to_replay_state.config,\n",
    "    {\"messages\": [new_message]},\n",
    ")\n",
    "updated_state"
   ]
  },
  {
   "cell_type": "code",
   "execution_count": 43,
   "metadata": {},
   "outputs": [
    {
     "name": "stdout",
     "output_type": "stream",
     "text": [
      "run-60047d7d-8652-4e40-bf9a-3783caaeb9d2-0\n",
      "메시지 수:  2 다음 노드:  ('tools',)\n",
      "--------------------------------------------------------------------------------\n",
      "run-cbe1fd33-91df-4a59-bb1f-f85f5d37d05f-0\n",
      "메시지 수:  8 다음 노드:  ()\n",
      "--------------------------------------------------------------------------------\n",
      "c89f45de-414d-45c1-a095-fc103dcb7f38\n",
      "메시지 수:  7 다음 노드:  ('chatbot',)\n",
      "--------------------------------------------------------------------------------\n",
      "run-100783d3-85b4-4eb7-b201-73401a2b2e52-0\n",
      "메시지 수:  6 다음 노드:  ('tools',)\n",
      "--------------------------------------------------------------------------------\n",
      "23b76469-2017-46bb-9313-88051a0401ef\n",
      "메시지 수:  5 다음 노드:  ('chatbot',)\n",
      "--------------------------------------------------------------------------------\n",
      "run-159914be-d6ff-422d-94a9-76e0deb58368-0\n",
      "메시지 수:  4 다음 노드:  ('__start__',)\n",
      "--------------------------------------------------------------------------------\n",
      "run-159914be-d6ff-422d-94a9-76e0deb58368-0\n",
      "메시지 수:  4 다음 노드:  ()\n",
      "--------------------------------------------------------------------------------\n",
      "dac299d7-8277-483e-b94d-2639abb385cf\n",
      "메시지 수:  3 다음 노드:  ('chatbot',)\n",
      "--------------------------------------------------------------------------------\n",
      "run-60047d7d-8652-4e40-bf9a-3783caaeb9d2-0\n",
      "메시지 수:  2 다음 노드:  ('tools',)\n",
      "--------------------------------------------------------------------------------\n",
      "run-60047d7d-8652-4e40-bf9a-3783caaeb9d2-0\n",
      "메시지 수:  2 다음 노드:  ('tools',)\n",
      "--------------------------------------------------------------------------------\n",
      "53884b1b-26ac-4411-a9dd-037d68163c65\n",
      "메시지 수:  1 다음 노드:  ('chatbot',)\n",
      "--------------------------------------------------------------------------------\n"
     ]
    }
   ],
   "source": [
    "# 메세지 수가 2가 됐다. 이전 메세지는 쥐고있지 않은 딱 메세지가 2개였던 상태로 돌아간 상태.\n",
    "# to_replay_state.config 를 넣어줌으로써 진짜 그 노드로 돌아간 상태.\n",
    "check_state(graph, config)"
   ]
  },
  {
   "cell_type": "code",
   "execution_count": 44,
   "metadata": {},
   "outputs": [
    {
     "name": "stdout",
     "output_type": "stream",
     "text": [
      "==================================\u001b[1m Ai Message \u001b[0m==================================\n",
      "Tool Calls:\n",
      "  tavily_web_search (3b94da34-1a58-4af1-a507-60d2fe2c6e55)\n",
      " Call ID: 3b94da34-1a58-4af1-a507-60d2fe2c6e55\n",
      "  Args:\n",
      "    query: LangGraph human-in-the-loop workflow site:reddit.com\n",
      "=================================\u001b[1m Tool Message \u001b[0m=================================\n",
      "Name: tavily_web_search\n",
      "\n",
      "[{\"title\": \"Human intervention in agent workflows : r/LangChain - Reddit\", \"url\": \"https://www.reddit.com/r/LangChain/comments/1bjnmu4/human_intervention_in_agent_workflows/\", \"content\": \"When building LLM workflows with LangChain/LangGraph what's the best way to build a node in the workflow where a human can validate/approve/reject a flow? I know there is a Human-in-the-loop component in LangGraph that will prompt the user for input. But what if I'm not creating a user-initiated chat conversation, but a flow that reacts to e.g\", \"score\": 0.7067782, \"raw_content\": null}, {\"title\": \"LangGraph Workflow for Quality Assurance : r/LangChain - Reddit\", \"url\": \"https://www.reddit.com/r/LangChain/comments/1bsblmu/langgraph_workflow_for_quality_assurance/\", \"content\": \"Get app Get the Reddit app Log In Log in to Reddit Get the Reddit app I've been working on a concept to automate the Quality Assurance (QA) process for complex legal documents using LangGraph, aiming to streamline the workflow, reduce manual effort, and improve compliance efficiency. Handling specific parts of the QA process using AI rather human reviews, from initial document submission to final approval. Policy Compliance Checker Node (PCCN): Checks documents against policy rules. Quality Assurance Node (QAN): Final review to ensure document quality. Has anyone automated a Quality Assurance process with langchain/graph? Communities Best of Reddit Topics Reddit, Inc. Password New to Reddit? Enter the 6-digit code from your authenticator app Use a code from an authenticator app Password Password Choose a Reddit account to continue\", \"score\": 0.6041426, \"raw_content\": \"Reddit - Dive into anything\\nSkip to main contentOpen menu Open navigation  Go to Reddit Home\\nr/LangChain A chip A close button\\nGet app Get the Reddit app Log In Log in to Reddit\\nExpand user menu Open settings menu\\n\\nLog In / Sign Up Advertise on Reddit Shop Collectible Avatars\\n\\nGet the Reddit app\\nScan this QR code to download the app now\\nOr check it out in the app stores\\n\\nGo to LangChain\\nr/LangChain\\nr/LangChain\\nLangChain is an open-source framework and developer toolkit that helps developers get LLM applications from prototype to production. It is available for Python and Javascript at https://www.langchain.com/.\\n\\nMembers Online\\n•\\nSwimminInIt\\nADMIN MOD\\nLangGraph Workflow for Quality Assurance\\nQuestion | Help\\nI've been working on a concept to automate the Quality Assurance (QA) process for complex legal documents using LangGraph, aiming to streamline the workflow, reduce manual effort, and improve compliance efficiency. Handling specific parts of the QA process using AI rather human reviews, from initial document submission to final approval.\\nI see a ton of people talking about document chat and integration with knowledge repos. Rather than just providing information I am looking to perform QA on the documents itself.\\nHere's a brief overview of the workflow:\\n\\n\\nDocument Submission (Manual User Action): Entry point for examiners to submit documents.\\n\\n\\nPre-Processing Node (Script for Data Manipulation): Handles initial formatting and basic validation.\\n\\n\\nPolicy Compliance Checker Node (PCCN): Checks documents against policy rules.\\n\\n\\nError Suggestion Node (ESN): Identifies compliance issues and suggests corrections.\\n\\n\\nQuality Assurance Node (QAN): Final review to ensure document quality.\\n\\n\\nFeedback and Interaction Node (FIN): Where examiners review AI suggestions and apply corrections.\\n\\n\\nApproval and Compliance Marking Node (ACMN): Marks documents as approved.\\n\\n\\nSome questions I have are:\\n\\n\\nHas anyone automated a Quality Assurance process with langchain/graph?\\n\\n\\nIf yes, what was successful or what did not work?\\n\\n\\nAny suggestions on how to improve my approach?\\n\\n\\nAre there any examples you are aware of I could use as a reference?\\n\\n\\nI appreciate any help and thoughts on the topic!\\nRead more\\nTop 4% Rank by size\\nPublic\\nAnyone can view, post, and comment to this community\\n\\n\\n \\n\\n\\n \\n\\n\\n\\n\\n\\nTOPICS\\n\\n\\nInternet Culture (Viral)\\n\\n\\nAmazing Animals & Pets Cringe & Facepalm Funny Interesting Memes Oddly Satisfying Reddit Meta Wholesome & Heartwarming\\n\\n\\nGames\\n\\n\\nAction Games Adventure Games Esports Gaming Consoles & Gear Gaming News & Discussion Mobile Games Other Games Role-Playing Games Simulation Games Sports & Racing Games Strategy Games*   Tabletop Games\\n\\n\\nQ&As\\n\\n\\nQ&As*   Stories & Confessions\\n\\n\\nTechnology\\n\\n\\n3D Printing Artificial Intelligence & Machine Learning Computers & Hardware Consumer Electronics DIY Electronics Programming Software & Apps Streaming Services Tech News & Discussion*   Virtual & Augmented Reality\\n\\n\\nPop Culture\\n\\n\\nCelebrities Creators & Influencers Generations & Nostalgia Podcasts Streamers*   Tarot & Astrology\\n\\n\\nMovies & TV\\n\\n\\nAction Movies & Series Animated Movies & Series Comedy Movies & Series Crime, Mystery, & Thriller Movies & Series Documentary Movies & Series Drama Movies & Series Fantasy Movies & Series Horror Movies & Series Movie News & Discussion Reality TV Romance Movies & Series Sci-Fi Movies & Series Superhero Movies & Series*   TV News & Discussion\\n\\n\\n\\n\\n\\nRESOURCES\\n\\n\\nAbout Reddit Advertise Help Blog Careers*   Press\\n\\n\\n\\n\\nCommunities Best of Reddit Topics\\n\\n\\n\\nContent Policy Privacy Policy User Agreement\\n\\nReddit, Inc. © 2024. All rights reserved.\\nclose\\nLog In\\nBy continuing, you agree to our User Agreement and acknowledge that you understand the Privacy Policy.\\nContinue with phone number\\n\\nOR\\n\\nEmail or username\\nPassword\\nForgot password?\\nNew to Reddit? Sign Up\\nLog In\\nback\\nEnter the 6-digit code from your authenticator app\\nYou’ve set up two-factor authentication for this account.\\nVerification code\\nLost access to your authenticator? Use a backup code\\nCheck code\\nback\\nEnter a 6-digit backup code\\nYou’ve set up two-factor authentication for this account.\\nBackup code\\nDon’t have access to your backup code? Use a code from an authenticator app\\nCheck code\\nclose\\nSign Up\\nBy continuing, you agree to our User Agreement and acknowledge that you understand the Privacy Policy.\\nEmail\\nAlready a redditor? Log In\\nContinue\\nback\\nCreate your username and password\\nReddit is anonymous, so your username is what you’ll go by here. Choose wisely—because once you get a name, you can’t change it.\\nUsername\\nPassword\\nContinue\\nclose\\nSign Up\\nBy continuing, you agree to our User Agreement and acknowledge that you understand the Privacy Policy.\\nContinue with phone number\\n\\nOR\\n\\nEmail\\nAlready a redditor? Log In\\nContinue\\nback\\nCreate your username and password\\nReddit is anonymous, so your username is what you’ll go by here. Choose wisely—because once you get a name, you can’t change it.\\nUsername\\nPassword\\nContinue\\nclose back\\nReset your password\\nEnter your email address or username and we’ll send you a link to reset your password\\nEmail or username\\nNeed help?\\nReset password\\nclose back\\nCheck your inbox\\nAn email with a link to reset your password was sent to the email address associated with your account\\nDidn't get an email? Resend\\nclose\\nChoose a Reddit account to continue\\nback close\\nReset your password\\nNew password\\nConfirm new password\\nResetting your password will log you out on all devices.\\nContinue\"}, {\"title\": \"Example of a chatless agentic workflow that keeps the human in the loop\", \"url\": \"https://www.reddit.com/r/LangChain/comments/1cvavh7/example_of_a_chatless_agentic_workflow_that_keeps/\", \"content\": \"Reddit - Dive into anything r/LangChain A chip A close button Get app Get the Reddit app Log In Log in to Reddit Log In / Sign Up Advertise on Reddit Shop Collectible Avatars Get the Reddit app Go to LangChain r/LangChain r/LangChain Communities Best of Reddit Topics Reddit, Inc. Password New to Reddit? Enter the 6-digit code from your authenticator app Check code Use a code from an authenticator app Check code Reddit is anonymous, so your username is what you’ll go by here. Password Reddit is anonymous, so your username is what you’ll go by here. Password Enter your email address or username and we’ll send you a link to reset your password Choose a Reddit account to continue\", \"score\": 0.5573882, \"raw_content\": \"Reddit - Dive into anything\\nSkip to main contentOpen menu Open navigation  Go to Reddit Home\\nr/LangChain A chip A close button\\nGet app Get the Reddit app Log In Log in to Reddit\\nExpand user menu Open settings menu\\n\\nLog In / Sign Up Advertise on Reddit Shop Collectible Avatars\\n\\nGet the Reddit app\\nScan this QR code to download the app now\\nOr check it out in the app stores\\n\\n\\n Go to LangChain\\nr/LangChain\\nr/LangChain\\nLangChain is an open-source framework and developer toolkit that helps developers get LLM applications from prototype to production. It is available for Python and Javascript at https://www.langchain.com/.\\n\\nMembers Online\\n•\\ntisi3000\\nADMIN MOD\\nExample of a chatless agentic workflow that keeps the human in the loop\\nResources\\nhttps://colab.research.google.com/drive/1JBd3v4jt5GEU1zCiLnHsZsJjknR6_Cm2?usp=sharing\\nRead more\\nTop 4% Rank by size\\nPublic\\nAnyone can view, post, and comment to this community\\n\\n\\n \\n\\n\\n \\n\\n\\n\\n\\n\\n\\nTOPICS\\n\\n\\nInternet Culture (Viral)\\n\\n\\nAmazing Animals & Pets Cringe & Facepalm Funny Interesting Memes Oddly Satisfying Reddit Meta Wholesome & Heartwarming\\n\\n\\nGames\\n\\n\\nAction Games Adventure Games Esports Gaming Consoles & Gear Gaming News & Discussion Mobile Games Other Games Role-Playing Games Simulation Games Sports & Racing Games Strategy Games*   Tabletop Games\\n\\n\\nQ&As\\n\\n\\nQ&As*   Stories & Confessions\\n\\n\\nTechnology\\n\\n\\n3D Printing Artificial Intelligence & Machine Learning Computers & Hardware Consumer Electronics DIY Electronics Programming Software & Apps Streaming Services Tech News & Discussion*   Virtual & Augmented Reality\\n\\n\\nPop Culture\\n\\n\\nCelebrities Creators & Influencers Generations & Nostalgia Podcasts Streamers*   Tarot & Astrology\\n\\n\\nMovies & TV\\n\\n\\nAction Movies & Series Animated Movies & Series Comedy Movies & Series Crime, Mystery, & Thriller Movies & Series Documentary Movies & Series Drama Movies & Series Fantasy Movies & Series Horror Movies & Series Movie News & Discussion Reality TV Romance Movies & Series Sci-Fi Movies & Series Superhero Movies & Series*   TV News & Discussion\\n\\n\\n\\n\\n\\n\\nRESOURCES\\n\\n\\nAbout Reddit Advertise Help Blog Careers*   Press\\n\\n\\n\\n\\nCommunities Best of Reddit Topics\\n\\n\\n\\nContent Policy Privacy Policy User Agreement\\n\\nReddit, Inc. © 2024. All rights reserved.\\nclose\\nLog In\\nBy continuing, you agree to our User Agreement and acknowledge that you understand the Privacy Policy.\\nContinue with phone number\\n\\nOR\\n\\nEmail or username\\nPassword\\nForgot password?\\nNew to Reddit? Sign Up\\nLog In\\nback\\nEnter the 6-digit code from your authenticator app\\nYou’ve set up two-factor authentication for this account.\\nVerification code\\nLost access to your authenticator? Use a backup code\\nCheck code\\nback\\nEnter a 6-digit backup code\\nYou’ve set up two-factor authentication for this account.\\nBackup code\\nDon’t have access to your backup code? Use a code from an authenticator app\\nCheck code\\nclose\\nSign Up\\nBy continuing, you agree to our User Agreement and acknowledge that you understand the Privacy Policy.\\nEmail\\nAlready a redditor? Log In\\nContinue\\nback\\nCreate your username and password\\nReddit is anonymous, so your username is what you’ll go by here. Choose wisely—because once you get a name, you can’t change it.\\nUsername\\nPassword\\nContinue\\nclose\\nSign Up\\nBy continuing, you agree to our User Agreement and acknowledge that you understand the Privacy Policy.\\nContinue with phone number\\n\\nOR\\n\\nEmail\\nAlready a redditor? Log In\\nContinue\\nback\\nCreate your username and password\\nReddit is anonymous, so your username is what you’ll go by here. Choose wisely—because once you get a name, you can’t change it.\\nUsername\\nPassword\\nContinue\\nclose back\\nReset your password\\nEnter your email address or username and we’ll send you a link to reset your password\\nEmail or username\\nNeed help?\\nReset password\\nclose back\\nCheck your inbox\\nAn email with a link to reset your password was sent to the email address associated with your account\\nDidn't get an email? Resend\\nclose\\nChoose a Reddit account to continue\\nback close\\nReset your password\\nNew password\\nConfirm new password\\nResetting your password will log you out on all devices.\\nContinue\"}]\n",
      "==================================\u001b[1m Ai Message \u001b[0m==================================\n",
      "\n",
      "The user is asking for examples of chatless agentic workflows that keep the human in the loop. The top result from the search engine is a Reddit post with the title \"Example of a chatless agentic workflow that keeps the human in the loop\" in the r/LangChain community.\n",
      "\n",
      "This post provides an example of a chatless agentic workflow using LangChain, an open-source framework and developer toolkit for building LLM applications. The workflow involves using Colab to run a notebook with code that interacts with a user through text-based input/output.\n",
      "\n",
      "The main content of the Reddit post includes:\n",
      "\n",
      "* A link to a Google Colab notebook that contains the code for the chatless agentic workflow\n",
      "* An explanation of how the workflow works and what it is intended to accomplish\n",
      "* Links to other resources related to LangChain and its use cases\n",
      "\n",
      "Overall, the post provides an example of how to build a chatless agentic workflow using LangChain and Colab.\n"
     ]
    }
   ],
   "source": [
    "# config 에는 updated_state 를 전달합니다. \n",
    "# 이는 임의로 갱신한 상태를 전달하는 것입니다.\n",
    "# config 자리에 update_state를 실행한 결과를 냅다 넣어줬다. \n",
    "for event in graph.stream(None, updated_state, stream_mode=\"values\"):\n",
    "    # 메시지가 이벤트에 포함된 경우\n",
    "    if \"messages\" in event:\n",
    "        # 마지막 메시지 출력\n",
    "        event[\"messages\"][-1].pretty_print()\n"
   ]
  },
  {
   "cell_type": "code",
   "execution_count": 45,
   "metadata": {},
   "outputs": [
    {
     "name": "stdout",
     "output_type": "stream",
     "text": [
      "================================\u001b[1m Human Message \u001b[0m=================================\n",
      "\n",
      "LangGraph 에 대해서 배워보고 싶습니다. 유용한 자료를 추천해 주세요!\n",
      "==================================\u001b[1m Ai Message \u001b[0m==================================\n",
      "Tool Calls:\n",
      "  tavily_web_search (3b94da34-1a58-4af1-a507-60d2fe2c6e55)\n",
      " Call ID: 3b94da34-1a58-4af1-a507-60d2fe2c6e55\n",
      "  Args:\n",
      "    query: LangGraph human-in-the-loop workflow site:reddit.com\n",
      "=================================\u001b[1m Tool Message \u001b[0m=================================\n",
      "Name: tavily_web_search\n",
      "\n",
      "[{\"title\": \"Human intervention in agent workflows : r/LangChain - Reddit\", \"url\": \"https://www.reddit.com/r/LangChain/comments/1bjnmu4/human_intervention_in_agent_workflows/\", \"content\": \"When building LLM workflows with LangChain/LangGraph what's the best way to build a node in the workflow where a human can validate/approve/reject a flow? I know there is a Human-in-the-loop component in LangGraph that will prompt the user for input. But what if I'm not creating a user-initiated chat conversation, but a flow that reacts to e.g\", \"score\": 0.7067782, \"raw_content\": null}, {\"title\": \"LangGraph Workflow for Quality Assurance : r/LangChain - Reddit\", \"url\": \"https://www.reddit.com/r/LangChain/comments/1bsblmu/langgraph_workflow_for_quality_assurance/\", \"content\": \"Get app Get the Reddit app Log In Log in to Reddit Get the Reddit app I've been working on a concept to automate the Quality Assurance (QA) process for complex legal documents using LangGraph, aiming to streamline the workflow, reduce manual effort, and improve compliance efficiency. Handling specific parts of the QA process using AI rather human reviews, from initial document submission to final approval. Policy Compliance Checker Node (PCCN): Checks documents against policy rules. Quality Assurance Node (QAN): Final review to ensure document quality. Has anyone automated a Quality Assurance process with langchain/graph? Communities Best of Reddit Topics Reddit, Inc. Password New to Reddit? Enter the 6-digit code from your authenticator app Use a code from an authenticator app Password Password Choose a Reddit account to continue\", \"score\": 0.6041426, \"raw_content\": \"Reddit - Dive into anything\\nSkip to main contentOpen menu Open navigation  Go to Reddit Home\\nr/LangChain A chip A close button\\nGet app Get the Reddit app Log In Log in to Reddit\\nExpand user menu Open settings menu\\n\\nLog In / Sign Up Advertise on Reddit Shop Collectible Avatars\\n\\nGet the Reddit app\\nScan this QR code to download the app now\\nOr check it out in the app stores\\n\\nGo to LangChain\\nr/LangChain\\nr/LangChain\\nLangChain is an open-source framework and developer toolkit that helps developers get LLM applications from prototype to production. It is available for Python and Javascript at https://www.langchain.com/.\\n\\nMembers Online\\n•\\nSwimminInIt\\nADMIN MOD\\nLangGraph Workflow for Quality Assurance\\nQuestion | Help\\nI've been working on a concept to automate the Quality Assurance (QA) process for complex legal documents using LangGraph, aiming to streamline the workflow, reduce manual effort, and improve compliance efficiency. Handling specific parts of the QA process using AI rather human reviews, from initial document submission to final approval.\\nI see a ton of people talking about document chat and integration with knowledge repos. Rather than just providing information I am looking to perform QA on the documents itself.\\nHere's a brief overview of the workflow:\\n\\n\\nDocument Submission (Manual User Action): Entry point for examiners to submit documents.\\n\\n\\nPre-Processing Node (Script for Data Manipulation): Handles initial formatting and basic validation.\\n\\n\\nPolicy Compliance Checker Node (PCCN): Checks documents against policy rules.\\n\\n\\nError Suggestion Node (ESN): Identifies compliance issues and suggests corrections.\\n\\n\\nQuality Assurance Node (QAN): Final review to ensure document quality.\\n\\n\\nFeedback and Interaction Node (FIN): Where examiners review AI suggestions and apply corrections.\\n\\n\\nApproval and Compliance Marking Node (ACMN): Marks documents as approved.\\n\\n\\nSome questions I have are:\\n\\n\\nHas anyone automated a Quality Assurance process with langchain/graph?\\n\\n\\nIf yes, what was successful or what did not work?\\n\\n\\nAny suggestions on how to improve my approach?\\n\\n\\nAre there any examples you are aware of I could use as a reference?\\n\\n\\nI appreciate any help and thoughts on the topic!\\nRead more\\nTop 4% Rank by size\\nPublic\\nAnyone can view, post, and comment to this community\\n\\n\\n \\n\\n\\n \\n\\n\\n\\n\\n\\nTOPICS\\n\\n\\nInternet Culture (Viral)\\n\\n\\nAmazing Animals & Pets Cringe & Facepalm Funny Interesting Memes Oddly Satisfying Reddit Meta Wholesome & Heartwarming\\n\\n\\nGames\\n\\n\\nAction Games Adventure Games Esports Gaming Consoles & Gear Gaming News & Discussion Mobile Games Other Games Role-Playing Games Simulation Games Sports & Racing Games Strategy Games*   Tabletop Games\\n\\n\\nQ&As\\n\\n\\nQ&As*   Stories & Confessions\\n\\n\\nTechnology\\n\\n\\n3D Printing Artificial Intelligence & Machine Learning Computers & Hardware Consumer Electronics DIY Electronics Programming Software & Apps Streaming Services Tech News & Discussion*   Virtual & Augmented Reality\\n\\n\\nPop Culture\\n\\n\\nCelebrities Creators & Influencers Generations & Nostalgia Podcasts Streamers*   Tarot & Astrology\\n\\n\\nMovies & TV\\n\\n\\nAction Movies & Series Animated Movies & Series Comedy Movies & Series Crime, Mystery, & Thriller Movies & Series Documentary Movies & Series Drama Movies & Series Fantasy Movies & Series Horror Movies & Series Movie News & Discussion Reality TV Romance Movies & Series Sci-Fi Movies & Series Superhero Movies & Series*   TV News & Discussion\\n\\n\\n\\n\\n\\nRESOURCES\\n\\n\\nAbout Reddit Advertise Help Blog Careers*   Press\\n\\n\\n\\n\\nCommunities Best of Reddit Topics\\n\\n\\n\\nContent Policy Privacy Policy User Agreement\\n\\nReddit, Inc. © 2024. All rights reserved.\\nclose\\nLog In\\nBy continuing, you agree to our User Agreement and acknowledge that you understand the Privacy Policy.\\nContinue with phone number\\n\\nOR\\n\\nEmail or username\\nPassword\\nForgot password?\\nNew to Reddit? Sign Up\\nLog In\\nback\\nEnter the 6-digit code from your authenticator app\\nYou’ve set up two-factor authentication for this account.\\nVerification code\\nLost access to your authenticator? Use a backup code\\nCheck code\\nback\\nEnter a 6-digit backup code\\nYou’ve set up two-factor authentication for this account.\\nBackup code\\nDon’t have access to your backup code? Use a code from an authenticator app\\nCheck code\\nclose\\nSign Up\\nBy continuing, you agree to our User Agreement and acknowledge that you understand the Privacy Policy.\\nEmail\\nAlready a redditor? Log In\\nContinue\\nback\\nCreate your username and password\\nReddit is anonymous, so your username is what you’ll go by here. Choose wisely—because once you get a name, you can’t change it.\\nUsername\\nPassword\\nContinue\\nclose\\nSign Up\\nBy continuing, you agree to our User Agreement and acknowledge that you understand the Privacy Policy.\\nContinue with phone number\\n\\nOR\\n\\nEmail\\nAlready a redditor? Log In\\nContinue\\nback\\nCreate your username and password\\nReddit is anonymous, so your username is what you’ll go by here. Choose wisely—because once you get a name, you can’t change it.\\nUsername\\nPassword\\nContinue\\nclose back\\nReset your password\\nEnter your email address or username and we’ll send you a link to reset your password\\nEmail or username\\nNeed help?\\nReset password\\nclose back\\nCheck your inbox\\nAn email with a link to reset your password was sent to the email address associated with your account\\nDidn't get an email? Resend\\nclose\\nChoose a Reddit account to continue\\nback close\\nReset your password\\nNew password\\nConfirm new password\\nResetting your password will log you out on all devices.\\nContinue\"}, {\"title\": \"Example of a chatless agentic workflow that keeps the human in the loop\", \"url\": \"https://www.reddit.com/r/LangChain/comments/1cvavh7/example_of_a_chatless_agentic_workflow_that_keeps/\", \"content\": \"Reddit - Dive into anything r/LangChain A chip A close button Get app Get the Reddit app Log In Log in to Reddit Log In / Sign Up Advertise on Reddit Shop Collectible Avatars Get the Reddit app Go to LangChain r/LangChain r/LangChain Communities Best of Reddit Topics Reddit, Inc. Password New to Reddit? Enter the 6-digit code from your authenticator app Check code Use a code from an authenticator app Check code Reddit is anonymous, so your username is what you’ll go by here. Password Reddit is anonymous, so your username is what you’ll go by here. Password Enter your email address or username and we’ll send you a link to reset your password Choose a Reddit account to continue\", \"score\": 0.5573882, \"raw_content\": \"Reddit - Dive into anything\\nSkip to main contentOpen menu Open navigation  Go to Reddit Home\\nr/LangChain A chip A close button\\nGet app Get the Reddit app Log In Log in to Reddit\\nExpand user menu Open settings menu\\n\\nLog In / Sign Up Advertise on Reddit Shop Collectible Avatars\\n\\nGet the Reddit app\\nScan this QR code to download the app now\\nOr check it out in the app stores\\n\\n\\n Go to LangChain\\nr/LangChain\\nr/LangChain\\nLangChain is an open-source framework and developer toolkit that helps developers get LLM applications from prototype to production. It is available for Python and Javascript at https://www.langchain.com/.\\n\\nMembers Online\\n•\\ntisi3000\\nADMIN MOD\\nExample of a chatless agentic workflow that keeps the human in the loop\\nResources\\nhttps://colab.research.google.com/drive/1JBd3v4jt5GEU1zCiLnHsZsJjknR6_Cm2?usp=sharing\\nRead more\\nTop 4% Rank by size\\nPublic\\nAnyone can view, post, and comment to this community\\n\\n\\n \\n\\n\\n \\n\\n\\n\\n\\n\\n\\nTOPICS\\n\\n\\nInternet Culture (Viral)\\n\\n\\nAmazing Animals & Pets Cringe & Facepalm Funny Interesting Memes Oddly Satisfying Reddit Meta Wholesome & Heartwarming\\n\\n\\nGames\\n\\n\\nAction Games Adventure Games Esports Gaming Consoles & Gear Gaming News & Discussion Mobile Games Other Games Role-Playing Games Simulation Games Sports & Racing Games Strategy Games*   Tabletop Games\\n\\n\\nQ&As\\n\\n\\nQ&As*   Stories & Confessions\\n\\n\\nTechnology\\n\\n\\n3D Printing Artificial Intelligence & Machine Learning Computers & Hardware Consumer Electronics DIY Electronics Programming Software & Apps Streaming Services Tech News & Discussion*   Virtual & Augmented Reality\\n\\n\\nPop Culture\\n\\n\\nCelebrities Creators & Influencers Generations & Nostalgia Podcasts Streamers*   Tarot & Astrology\\n\\n\\nMovies & TV\\n\\n\\nAction Movies & Series Animated Movies & Series Comedy Movies & Series Crime, Mystery, & Thriller Movies & Series Documentary Movies & Series Drama Movies & Series Fantasy Movies & Series Horror Movies & Series Movie News & Discussion Reality TV Romance Movies & Series Sci-Fi Movies & Series Superhero Movies & Series*   TV News & Discussion\\n\\n\\n\\n\\n\\n\\nRESOURCES\\n\\n\\nAbout Reddit Advertise Help Blog Careers*   Press\\n\\n\\n\\n\\nCommunities Best of Reddit Topics\\n\\n\\n\\nContent Policy Privacy Policy User Agreement\\n\\nReddit, Inc. © 2024. All rights reserved.\\nclose\\nLog In\\nBy continuing, you agree to our User Agreement and acknowledge that you understand the Privacy Policy.\\nContinue with phone number\\n\\nOR\\n\\nEmail or username\\nPassword\\nForgot password?\\nNew to Reddit? Sign Up\\nLog In\\nback\\nEnter the 6-digit code from your authenticator app\\nYou’ve set up two-factor authentication for this account.\\nVerification code\\nLost access to your authenticator? Use a backup code\\nCheck code\\nback\\nEnter a 6-digit backup code\\nYou’ve set up two-factor authentication for this account.\\nBackup code\\nDon’t have access to your backup code? Use a code from an authenticator app\\nCheck code\\nclose\\nSign Up\\nBy continuing, you agree to our User Agreement and acknowledge that you understand the Privacy Policy.\\nEmail\\nAlready a redditor? Log In\\nContinue\\nback\\nCreate your username and password\\nReddit is anonymous, so your username is what you’ll go by here. Choose wisely—because once you get a name, you can’t change it.\\nUsername\\nPassword\\nContinue\\nclose\\nSign Up\\nBy continuing, you agree to our User Agreement and acknowledge that you understand the Privacy Policy.\\nContinue with phone number\\n\\nOR\\n\\nEmail\\nAlready a redditor? Log In\\nContinue\\nback\\nCreate your username and password\\nReddit is anonymous, so your username is what you’ll go by here. Choose wisely—because once you get a name, you can’t change it.\\nUsername\\nPassword\\nContinue\\nclose back\\nReset your password\\nEnter your email address or username and we’ll send you a link to reset your password\\nEmail or username\\nNeed help?\\nReset password\\nclose back\\nCheck your inbox\\nAn email with a link to reset your password was sent to the email address associated with your account\\nDidn't get an email? Resend\\nclose\\nChoose a Reddit account to continue\\nback close\\nReset your password\\nNew password\\nConfirm new password\\nResetting your password will log you out on all devices.\\nContinue\"}]\n",
      "==================================\u001b[1m Ai Message \u001b[0m==================================\n",
      "\n",
      "The user is asking for examples of chatless agentic workflows that keep the human in the loop. The top result from the search engine is a Reddit post with the title \"Example of a chatless agentic workflow that keeps the human in the loop\" in the r/LangChain community.\n",
      "\n",
      "This post provides an example of a chatless agentic workflow using LangChain, an open-source framework and developer toolkit for building LLM applications. The workflow involves using Colab to run a notebook with code that interacts with a user through text-based input/output.\n",
      "\n",
      "The main content of the Reddit post includes:\n",
      "\n",
      "* A link to a Google Colab notebook that contains the code for the chatless agentic workflow\n",
      "* An explanation of how the workflow works and what it is intended to accomplish\n",
      "* Links to other resources related to LangChain and its use cases\n",
      "\n",
      "Overall, the post provides an example of how to build a chatless agentic workflow using LangChain and Colab.\n"
     ]
    }
   ],
   "source": [
    "# 최종 결과 출력\n",
    "for msg in graph.get_state(config).values[\"messages\"]:\n",
    "    msg.pretty_print()"
   ]
  },
  {
   "cell_type": "code",
   "execution_count": 46,
   "metadata": {},
   "outputs": [
    {
     "name": "stdout",
     "output_type": "stream",
     "text": [
      "run-1f9dae56-5add-476c-96db-0d1e7b0d5db8-0\n",
      "메시지 수:  4 다음 노드:  ()\n",
      "--------------------------------------------------------------------------------\n",
      "f8f2ca83-8e18-4580-ae4a-451fa261a7b1\n",
      "메시지 수:  3 다음 노드:  ('chatbot',)\n",
      "--------------------------------------------------------------------------------\n",
      "run-60047d7d-8652-4e40-bf9a-3783caaeb9d2-0\n",
      "메시지 수:  2 다음 노드:  ('tools',)\n",
      "--------------------------------------------------------------------------------\n",
      "run-cbe1fd33-91df-4a59-bb1f-f85f5d37d05f-0\n",
      "메시지 수:  8 다음 노드:  ()\n",
      "--------------------------------------------------------------------------------\n",
      "c89f45de-414d-45c1-a095-fc103dcb7f38\n",
      "메시지 수:  7 다음 노드:  ('chatbot',)\n",
      "--------------------------------------------------------------------------------\n",
      "run-100783d3-85b4-4eb7-b201-73401a2b2e52-0\n",
      "메시지 수:  6 다음 노드:  ('tools',)\n",
      "--------------------------------------------------------------------------------\n",
      "23b76469-2017-46bb-9313-88051a0401ef\n",
      "메시지 수:  5 다음 노드:  ('chatbot',)\n",
      "--------------------------------------------------------------------------------\n",
      "run-159914be-d6ff-422d-94a9-76e0deb58368-0\n",
      "메시지 수:  4 다음 노드:  ('__start__',)\n",
      "--------------------------------------------------------------------------------\n",
      "run-159914be-d6ff-422d-94a9-76e0deb58368-0\n",
      "메시지 수:  4 다음 노드:  ()\n",
      "--------------------------------------------------------------------------------\n",
      "dac299d7-8277-483e-b94d-2639abb385cf\n",
      "메시지 수:  3 다음 노드:  ('chatbot',)\n",
      "--------------------------------------------------------------------------------\n",
      "run-60047d7d-8652-4e40-bf9a-3783caaeb9d2-0\n",
      "메시지 수:  2 다음 노드:  ('tools',)\n",
      "--------------------------------------------------------------------------------\n",
      "run-60047d7d-8652-4e40-bf9a-3783caaeb9d2-0\n",
      "메시지 수:  2 다음 노드:  ('tools',)\n",
      "--------------------------------------------------------------------------------\n",
      "53884b1b-26ac-4411-a9dd-037d68163c65\n",
      "메시지 수:  1 다음 노드:  ('chatbot',)\n",
      "--------------------------------------------------------------------------------\n"
     ]
    }
   ],
   "source": [
    "# 앞의 메시지 수 8개가 쌓였던 대화 내용은 인식을 못하고 있는.\n",
    "# 제대로 된 Replay 성공!\n",
    "check_state(graph, config)"
   ]
  },
  {
   "cell_type": "code",
   "execution_count": null,
   "metadata": {},
   "outputs": [],
   "source": []
  }
 ],
 "metadata": {
  "kernelspec": {
   "display_name": "lang",
   "language": "python",
   "name": "python3"
  },
  "language_info": {
   "codemirror_mode": {
    "name": "ipython",
    "version": 3
   },
   "file_extension": ".py",
   "mimetype": "text/x-python",
   "name": "python",
   "nbconvert_exporter": "python",
   "pygments_lexer": "ipython3",
   "version": "3.11.11"
  }
 },
 "nbformat": 4,
 "nbformat_minor": 2
}
