{
 "cells": [
  {
   "cell_type": "code",
   "execution_count": 12,
   "metadata": {},
   "outputs": [
    {
     "name": "stdout",
     "output_type": "stream",
     "text": [
      "LangSmith 추적을 시작합니다.\n",
      "[프로젝트명]\n",
      "LangGraph-Memory\n"
     ]
    }
   ],
   "source": [
    "# API 키를 환경변수로 관리하기 위한 설정 파일\n",
    "from dotenv import load_dotenv\n",
    "# LangSmith 추적을 설정합니다. https://smith.langchain.com\n",
    "# !pip install -qU langchain-teddynote\n",
    "from langchain_teddynote import logging\n",
    "\n",
    "# API 키 정보 로드\n",
    "load_dotenv()\n",
    "\n",
    "# 프로젝트 이름을 입력합니다.\n",
    "logging.langsmith(\"LangGraph-Memory\")"
   ]
  },
  {
   "cell_type": "code",
   "execution_count": 13,
   "metadata": {},
   "outputs": [],
   "source": [
    "from langgraph.checkpoint.memory import MemorySaver\n",
    "\n",
    "# 메모리 저장소 생성\n",
    "memory = MemorySaver()"
   ]
  },
  {
   "cell_type": "code",
   "execution_count": 14,
   "metadata": {},
   "outputs": [
    {
     "data": {
      "text/plain": [
       "<langgraph.graph.state.StateGraph at 0x11babfc50>"
      ]
     },
     "execution_count": 14,
     "metadata": {},
     "output_type": "execute_result"
    }
   ],
   "source": [
    "from typing import Annotated\n",
    "from typing_extensions import TypedDict\n",
    "from langchain_ollama import ChatOllama\n",
    "from langchain_teddynote.tools.tavily import TavilySearch\n",
    "from langgraph.graph import StateGraph, START, END\n",
    "from langgraph.graph.message import add_messages\n",
    "from langgraph.prebuilt import ToolNode, tools_condition\n",
    "\n",
    "\n",
    "########## 1. 상태 정의 ##########\n",
    "# 상태 정의\n",
    "class State(TypedDict):\n",
    "    # 메시지 목록 주석 추가\n",
    "    messages: Annotated[list, add_messages]\n",
    "\n",
    "########## 2. 도구 정의 및 바인딩 ##########\n",
    "# 도구 초기화\n",
    "tool = TavilySearch(max_results=3)\n",
    "tools = [tool]\n",
    "# LLM 초기화\n",
    "llm = ChatOllama(model=\"llama3.1:8b\")\n",
    "\n",
    "########## 3. 노드 추가 ##########\n",
    "# 챗봇 함수 정의\n",
    "def chatbot(state: State):\n",
    "    # 메시지 호출 및 반환\n",
    "    return {\"messages\": [llm.invoke(state[\"messages\"])]}\n",
    "\n",
    "# 상태 그래프 생성\n",
    "graph_builder = StateGraph(State)\n",
    "# 챗봇 노드 추가\n",
    "graph_builder.add_node(\"chatbot\", chatbot)\n",
    "# 도구 노드 생성 및 추가\n",
    "tool_node = ToolNode(tools=[tool])\n",
    "# 도구 노드 추가\n",
    "graph_builder.add_node(\"tools\", tool_node)\n",
    "# 조건부 엣지\n",
    "graph_builder.add_conditional_edges(\n",
    "    \"chatbot\",\n",
    "    tools_condition,\n",
    ")\n",
    "\n",
    "########## 4. 엣지 추가 ##########\n",
    "\n",
    "# tools > chatbot\n",
    "graph_builder.add_edge(\"tools\", \"chatbot\")\n",
    "# START > chatbot\n",
    "graph_builder.add_edge(START, \"chatbot\")\n",
    "# chatbot > END\n",
    "graph_builder.add_edge(\"chatbot\", END)"
   ]
  },
  {
   "cell_type": "code",
   "execution_count": 15,
   "metadata": {},
   "outputs": [],
   "source": [
    "graph = graph_builder.compile(checkpointer=memory)"
   ]
  },
  {
   "cell_type": "code",
   "execution_count": 16,
   "metadata": {},
   "outputs": [],
   "source": [
    "from langchain_core.runnables import RunnableConfig\n",
    "\n",
    "config = RunnableConfig(\n",
    "    recursion_limit=10,  # 최대 10개의 노드까지 방문. 그 이상은 RecursionError 발생\n",
    "    configurable={\"thread_id\": \"1\"},  # 스레드 ID 설정\n",
    ")"
   ]
  },
  {
   "cell_type": "code",
   "execution_count": 17,
   "metadata": {},
   "outputs": [
    {
     "name": "stdout",
     "output_type": "stream",
     "text": [
      "==================================\u001b[1m Ai Message \u001b[0m==================================\n",
      "\n",
      "안녕하세요! 반갑습니다. PETER님, 한국에서 개발을 하시는 분인가 보네요. 관심사가 뭔지 궁금합니다.\n"
     ]
    }
   ],
   "source": [
    "# 첫 질문\n",
    "question = (\n",
    "    \"내 이름은 `PETER` 입니다. 한국에 살고 있는 개발자에요. 만나서 반가워요.\"\n",
    ")\n",
    "\n",
    "for event in graph.stream({\"messages\": [(\"user\", question)]}, config=config):\n",
    "    for value in event.values():\n",
    "        value[\"messages\"][-1].pretty_print()"
   ]
  },
  {
   "cell_type": "code",
   "execution_count": 18,
   "metadata": {},
   "outputs": [
    {
     "name": "stdout",
     "output_type": "stream",
     "text": [
      "==================================\u001b[1m Ai Message \u001b[0m==================================\n",
      "\n",
      "네!你的 이름은 `PETER` 였습니다. 한국에 사는 개발자 인 것 같았어요!\n"
     ]
    }
   ],
   "source": [
    "# 이어지는 질문\n",
    "question = \"내 이름이 뭐라고 했지?\"\n",
    "\n",
    "for event in graph.stream({\"messages\": [(\"user\", question)]}, config=config):\n",
    "    for value in event.values():\n",
    "        value[\"messages\"][-1].pretty_print()"
   ]
  },
  {
   "cell_type": "code",
   "execution_count": 19,
   "metadata": {},
   "outputs": [
    {
     "name": "stdout",
     "output_type": "stream",
     "text": [
      "==================================\u001b[1m Ai Message \u001b[0m==================================\n",
      "\n",
      "우리가 상호 작용을 시작하기 전에, 내 이름은 'Llama'로 줄여서 말할 수도 있는 'Large Language Model Meta AI'입니다.\n"
     ]
    }
   ],
   "source": [
    "from langchain_core.runnables import RunnableConfig\n",
    "\n",
    "question = \"내 이름이 뭐라고 했지?\"\n",
    "\n",
    "config = RunnableConfig(\n",
    "    recursion_limit=10,  # 최대 10개의 노드까지 방문. 그 이상은 RecursionError 발생\n",
    "    configurable={\"thread_id\": \"2\"},  # 스레드 ID 설정\n",
    ")\n",
    "\n",
    "for event in graph.stream({\"messages\": [(\"user\", question)]}, config=config):\n",
    "    for value in event.values():\n",
    "        value[\"messages\"][-1].pretty_print()"
   ]
  },
  {
   "cell_type": "markdown",
   "metadata": {},
   "source": [
    "### Snapshot"
   ]
  },
  {
   "cell_type": "code",
   "execution_count": 26,
   "metadata": {},
   "outputs": [
    {
     "data": {
      "text/plain": [
       "{'messages': [HumanMessage(content='내 이름은 `PETER` 입니다. 한국에 살고 있는 개발자에요. 만나서 반가워요.', additional_kwargs={}, response_metadata={}, id='1e782b4b-f2a1-4eb8-b735-860752530729'),\n",
       "  AIMessage(content='안녕하세요! 반갑습니다. PETER님, 한국에서 개발을 하시는 분인가 보네요. 관심사가 뭔지 궁금합니다.', additional_kwargs={}, response_metadata={'model': 'llama3.1:8b', 'created_at': '2025-01-24T04:21:22.561834Z', 'done': True, 'done_reason': 'stop', 'total_duration': 19555113958, 'load_duration': 13936329375, 'prompt_eval_count': 36, 'prompt_eval_duration': 2993000000, 'eval_count': 31, 'eval_duration': 2623000000, 'message': {'role': 'assistant', 'content': '', 'images': None, 'tool_calls': None}}, id='run-04226ec7-c95a-4372-b105-b88d7d8a4b96-0', usage_metadata={'input_tokens': 36, 'output_tokens': 31, 'total_tokens': 67}),\n",
       "  HumanMessage(content='내 이름이 뭐라고 했지?', additional_kwargs={}, response_metadata={}, id='930b6d71-c9bb-470b-bfbb-0ac84df356f1'),\n",
       "  AIMessage(content='네!你的 이름은 `PETER` 였습니다. 한국에 사는 개발자 인 것 같았어요!', additional_kwargs={}, response_metadata={'model': 'llama3.1:8b', 'created_at': '2025-01-24T04:24:33.384395Z', 'done': True, 'done_reason': 'stop', 'total_duration': 6790776416, 'load_duration': 928119541, 'prompt_eval_count': 84, 'prompt_eval_duration': 3305000000, 'eval_count': 26, 'eval_duration': 2189000000, 'message': {'role': 'assistant', 'content': '', 'images': None, 'tool_calls': None}}, id='run-8b2211ee-117b-403e-ac42-07de15196a4e-0', usage_metadata={'input_tokens': 84, 'output_tokens': 26, 'total_tokens': 110})]}"
      ]
     },
     "execution_count": 26,
     "metadata": {},
     "output_type": "execute_result"
    }
   ],
   "source": [
    "from langchain_core.runnables import RunnableConfig\n",
    "\n",
    "config = RunnableConfig(\n",
    "    configurable={\"thread_id\": \"1\"},  # 스레드 ID 설정\n",
    ")\n",
    "# 그래프 상태 스냅샷 생성\n",
    "snapshot = graph.get_state(config)\n",
    "snapshot.values"
   ]
  },
  {
   "cell_type": "code",
   "execution_count": 21,
   "metadata": {},
   "outputs": [
    {
     "data": {
      "text/plain": [
       "{'configurable': {'thread_id': '1',\n",
       "  'checkpoint_ns': '',\n",
       "  'checkpoint_id': '1efda0b1-cc4f-6020-8004-6008a076c003'}}"
      ]
     },
     "execution_count": 21,
     "metadata": {},
     "output_type": "execute_result"
    }
   ],
   "source": [
    "snapshot.config"
   ]
  },
  {
   "cell_type": "code",
   "execution_count": 22,
   "metadata": {},
   "outputs": [
    {
     "data": {
      "text/plain": [
       "()"
      ]
     },
     "execution_count": 22,
     "metadata": {},
     "output_type": "execute_result"
    }
   ],
   "source": [
    "snapshot.next"
   ]
  },
  {
   "cell_type": "code",
   "execution_count": 24,
   "metadata": {},
   "outputs": [
    {
     "name": "stdout",
     "output_type": "stream",
     "text": [
      "    \u001b[93msource\u001b[0m: \"loop\"\n",
      "    \u001b[93mwrites\u001b[0m:\n",
      "        \u001b[94mchatbot\u001b[0m:\n",
      "            \u001b[95mmessages\u001b[0m:\n",
      "                \u001b[95mindex [0]\u001b[0m\n",
      "                    \u001b[96mcontent\u001b[0m: \"네!你的 이름은 `PETER` 였습니다. 한국에 사는 개발자 인 것 같았어요!\"\n",
      "                    \u001b[96madditional_kwargs\u001b[0m: {}\n",
      "                    \u001b[96mresponse_metadata\u001b[0m:\n",
      "                        \u001b[96mmodel\u001b[0m: \"llama3.1:8b\"\n",
      "                        \u001b[96mcreated_at\u001b[0m: \"2025-01-24T04:24:33.384395Z\"\n",
      "                        \u001b[96mdone\u001b[0m: True\n",
      "                        \u001b[96mdone_reason\u001b[0m: \"stop\"\n",
      "                        \u001b[96mtotal_duration\u001b[0m: 6790776416\n",
      "                        \u001b[96mload_duration\u001b[0m: 928119541\n",
      "                        \u001b[96mprompt_eval_count\u001b[0m: 84\n",
      "                        \u001b[96mprompt_eval_duration\u001b[0m: 3305000000\n",
      "                        \u001b[96meval_count\u001b[0m: 26\n",
      "                        \u001b[96meval_duration\u001b[0m: 2189000000\n",
      "                        \u001b[96mmessage\u001b[0m: {\"role\": \"assistant\", \"content\": \"\", \"images\": None, \"tool_calls\": None}\n",
      "                    \u001b[96mtype\u001b[0m: \"ai\"\n",
      "                    \u001b[96mname\u001b[0m: None\n",
      "                    \u001b[96mid\u001b[0m: \"run-8b2211ee-117b-403e-ac42-07de15196a4e-0\"\n",
      "                    \u001b[96mexample\u001b[0m: False\n",
      "                    \u001b[96mtool_calls\u001b[0m:\n",
      "                    \u001b[96minvalid_tool_calls\u001b[0m:\n",
      "                    \u001b[96musage_metadata\u001b[0m: {\"input_tokens\": 84, \"output_tokens\": 26, \"total_tokens\": 110}\n",
      "    \u001b[93mthread_id\u001b[0m: \"1\"\n",
      "    \u001b[93mstep\u001b[0m: 4\n",
      "    \u001b[93mparents\u001b[0m: {}\n"
     ]
    }
   ],
   "source": [
    "from langchain_teddynote.messages import display_message_tree\n",
    "\n",
    "# 메타데이터(tree 형태로 출력)\n",
    "display_message_tree(snapshot.metadata)\n"
   ]
  }
 ],
 "metadata": {
  "kernelspec": {
   "display_name": "lang",
   "language": "python",
   "name": "python3"
  },
  "language_info": {
   "codemirror_mode": {
    "name": "ipython",
    "version": 3
   },
   "file_extension": ".py",
   "mimetype": "text/x-python",
   "name": "python",
   "nbconvert_exporter": "python",
   "pygments_lexer": "ipython3",
   "version": "3.11.11"
  }
 },
 "nbformat": 4,
 "nbformat_minor": 2
}
