{
 "cells": [
  {
   "cell_type": "code",
   "execution_count": 1,
   "metadata": {},
   "outputs": [
    {
     "name": "stdout",
     "output_type": "stream",
     "text": [
      "{'messages': AIMessage(content='', additional_kwargs={}, response_metadata={'model': 'llama3.1:8b', 'created_at': '2025-02-05T07:07:04.175525Z', 'done': True, 'done_reason': 'stop', 'total_duration': 7176196375, 'load_duration': 941731500, 'prompt_eval_count': 173, 'prompt_eval_duration': 4189000000, 'eval_count': 24, 'eval_duration': 2043000000, 'message': Message(role='assistant', content='', images=None, tool_calls=None)}, id='run-3726a73e-c8e3-4fa4-9179-55ce3e7b8ec0-0', tool_calls=[{'name': 'divide', 'args': {'a': 329993, 'b': 13662}, 'id': '966295b5-1441-4e58-8610-38ca61282e21', 'type': 'tool_call'}], usage_metadata={'input_tokens': 173, 'output_tokens': 24, 'total_tokens': 197})}\n",
      "{'messages': [ToolMessage(content='24.15407700190309', name='divide', id='4e061dd3-1064-46ef-9d72-6ae77a08492a', tool_call_id='966295b5-1441-4e58-8610-38ca61282e21')]}\n",
      "{'messages': AIMessage(content='The result of dividing 329993 by 13662 is approximately 24.15.', additional_kwargs={}, response_metadata={'model': 'llama3.1:8b', 'created_at': '2025-02-05T07:07:06.809184Z', 'done': True, 'done_reason': 'stop', 'total_duration': 2576814917, 'load_duration': 39021875, 'prompt_eval_count': 106, 'prompt_eval_duration': 557000000, 'eval_count': 19, 'eval_duration': 1613000000, 'message': Message(role='assistant', content='The result of dividing 329993 by 13662 is approximately 24.15.', images=None, tool_calls=None)}, id='run-3f4d69df-1c8d-4bfd-961b-6bd71fee4eda-0', usage_metadata={'input_tokens': 106, 'output_tokens': 19, 'total_tokens': 125})}\n"
     ]
    }
   ],
   "source": [
    "\n",
    "from typing import Annotated\n",
    "\n",
    "from langchain_core.tools import tool\n",
    "from langchain_ollama import ChatOllama\n",
    "from langchain_core.runnables import RunnableConfig\n",
    "\n",
    "from typing_extensions import TypedDict\n",
    "\n",
    "from langgraph.graph import StateGraph\n",
    "from langgraph.graph.message import add_messages\n",
    "from langgraph.checkpoint.memory import MemorySaver\n",
    "from langgraph.prebuilt import ToolNode, tools_condition\n",
    "\n",
    "\n",
    "@tool\n",
    "def divide(a: float, b: float) -> int:\n",
    "    \"\"\"Return a / b.\"\"\"\n",
    "    return a / b\n",
    "\n",
    "llm = ChatOllama(model=\"llama3.1:8b\")\n",
    "\n",
    "tools = [divide]\n",
    "memory = MemorySaver()\n",
    "\n",
    "class State(TypedDict):\n",
    "    messages: Annotated[list, add_messages]\n",
    "\n",
    "config = RunnableConfig(\n",
    "    configurable={\"thread_id\": \"1\"},  # 스레드 ID 설정\n",
    ")\n",
    "\n",
    "graph_builder = StateGraph(State)\n",
    "graph_builder.add_node(\"tools\", ToolNode(tools))\n",
    "graph_builder.add_node(\"chatbot\", lambda state: {\"messages\":llm.bind_tools(tools).invoke(state['messages'])})\n",
    "graph_builder.add_edge(\"tools\", \"chatbot\")\n",
    "graph_builder.add_conditional_edges(\n",
    "    \"chatbot\", tools_condition\n",
    ")\n",
    "graph_builder.set_entry_point(\"chatbot\")\n",
    "\n",
    "graph = graph_builder.compile(checkpointer=memory)\n",
    "# 첫 질문\n",
    "question = (\n",
    "    \"What's 329993 divided by 13662?\"\n",
    ")\n",
    "\n",
    "for event in graph.stream({\"messages\": [(\"user\", question)]}, config=config):\n",
    "    for value in event.values():\n",
    "        print(value)"
   ]
  },
  {
   "cell_type": "code",
   "execution_count": 6,
   "metadata": {},
   "outputs": [
    {
     "name": "stdout",
     "output_type": "stream",
     "text": [
      "{'messages': [HumanMessage(content=\"What's 329993 divided by 13662?\", additional_kwargs={}, response_metadata={}, id='67c0bcd7-e15c-4196-b29d-55f983a75724'), AIMessage(content='', additional_kwargs={}, response_metadata={'model': 'llama3.1:8b', 'created_at': '2025-02-05T07:07:04.175525Z', 'done': True, 'done_reason': 'stop', 'total_duration': 7176196375, 'load_duration': 941731500, 'prompt_eval_count': 173, 'prompt_eval_duration': 4189000000, 'eval_count': 24, 'eval_duration': 2043000000, 'message': {'role': 'assistant', 'content': '', 'images': None, 'tool_calls': None}}, id='run-3726a73e-c8e3-4fa4-9179-55ce3e7b8ec0-0', tool_calls=[{'name': 'divide', 'args': {'a': 329993, 'b': 13662}, 'id': '966295b5-1441-4e58-8610-38ca61282e21', 'type': 'tool_call'}], usage_metadata={'input_tokens': 173, 'output_tokens': 24, 'total_tokens': 197}), ToolMessage(content='24.15407700190309', name='divide', id='4e061dd3-1064-46ef-9d72-6ae77a08492a', tool_call_id='966295b5-1441-4e58-8610-38ca61282e21'), AIMessage(content='The result of dividing 329993 by 13662 is approximately 24.15.', additional_kwargs={}, response_metadata={'model': 'llama3.1:8b', 'created_at': '2025-02-05T07:07:06.809184Z', 'done': True, 'done_reason': 'stop', 'total_duration': 2576814917, 'load_duration': 39021875, 'prompt_eval_count': 106, 'prompt_eval_duration': 557000000, 'eval_count': 19, 'eval_duration': 1613000000, 'message': {'role': 'assistant', 'content': 'The result of dividing 329993 by 13662 is approximately 24.15.', 'images': None, 'tool_calls': None}}, id='run-3f4d69df-1c8d-4bfd-961b-6bd71fee4eda-0', usage_metadata={'input_tokens': 106, 'output_tokens': 19, 'total_tokens': 125})]}\n",
      "------------------------------------------------\n",
      "()\n",
      "------------------------------------------------\n",
      "{'configurable': {'thread_id': '1', 'checkpoint_ns': '', 'checkpoint_id': '1efe38fc-f37c-6b00-8003-05385a80634d'}}\n",
      "------------------------------------------------\n",
      "{'source': 'loop', 'writes': {'chatbot': {'messages': AIMessage(content='The result of dividing 329993 by 13662 is approximately 24.15.', additional_kwargs={}, response_metadata={'model': 'llama3.1:8b', 'created_at': '2025-02-05T07:07:06.809184Z', 'done': True, 'done_reason': 'stop', 'total_duration': 2576814917, 'load_duration': 39021875, 'prompt_eval_count': 106, 'prompt_eval_duration': 557000000, 'eval_count': 19, 'eval_duration': 1613000000, 'message': {'role': 'assistant', 'content': 'The result of dividing 329993 by 13662 is approximately 24.15.', 'images': None, 'tool_calls': None}}, id='run-3f4d69df-1c8d-4bfd-961b-6bd71fee4eda-0', usage_metadata={'input_tokens': 106, 'output_tokens': 19, 'total_tokens': 125})}}, 'thread_id': '1', 'step': 3, 'parents': {}}\n"
     ]
    }
   ],
   "source": [
    "snapshot = graph.get_state(config)\n",
    "print(snapshot.values)\n",
    "print(\"------\"*8)\n",
    "print(snapshot.next)\n",
    "print(\"------\"*8)\n",
    "print(snapshot.config)\n",
    "print(\"------\"*8)\n",
    "print(snapshot.metadata)"
   ]
  },
  {
   "cell_type": "code",
   "execution_count": null,
   "metadata": {},
   "outputs": [],
   "source": []
  }
 ],
 "metadata": {
  "kernelspec": {
   "display_name": "lang",
   "language": "python",
   "name": "python3"
  },
  "language_info": {
   "codemirror_mode": {
    "name": "ipython",
    "version": 3
   },
   "file_extension": ".py",
   "mimetype": "text/x-python",
   "name": "python",
   "nbconvert_exporter": "python",
   "pygments_lexer": "ipython3",
   "version": "3.11.11"
  }
 },
 "nbformat": 4,
 "nbformat_minor": 2
}
